{
 "cells": [
  {
   "cell_type": "code",
   "execution_count": 74,
   "id": "a3683524-965f-40e6-8b9e-15050c9ba327",
   "metadata": {},
   "outputs": [],
   "source": [
    "import numpy as np\n",
    "import scipy.constants as c\n",
    "from numpy.linalg import norm\n",
    "\n",
    "in_to_m = 25.4e-3"
   ]
  },
  {
   "cell_type": "code",
   "execution_count": 71,
   "id": "9f26f0c8-0ca5-4ca4-9393-6f12ebadbaf0",
   "metadata": {},
   "outputs": [],
   "source": [
    "def normalize(vector):\n",
    "    return vector / np.sqrt(np.sum(vector)**2)\n",
    "\n",
    "class WireSegment:\n",
    "    def __init__(self, wire_position, wire_length, current_direction):\n",
    "        self._r0 = np.array(wire_position)\n",
    "        self._l = wire_length\n",
    "        self._l_hat = normalize(np.array(current_direction))\n",
    "\n",
    "    def magnetic_field(self, current, position):\n",
    "        displacement = np.array(position) - self._r0\n",
    "        return c.mu_0 / (4 * np.pi) * current * self._l * np.cross(self._l_hat, displacement) / norm(displacement)**3\n",
    "\n",
    "class SquareCoil:\n",
    "    def __init__(self, l, cw_looking_from_neg_z = True, segments_per_side = 100):\n",
    "        self._l = l\n",
    "        self._cw_looking_from_neg_z = cw_looking_from_neg_z\n",
    "        self._segmentize(segments_per_side)\n",
    "\n",
    "    def _segmentize(self, segments_per_side):\n",
    "        self._segments = []\n",
    "        for kk in range(segments_per_side):\n",
    "            wire_length = self._l / segments_per_side\n",
    "            wire_position = self._l / segments_per_side * kk - self._l / 2\n",
    "            for ll in [0, 1]:\n",
    "                for mm in [-1, 1]:\n",
    "                    position = [self._l / 2 * mm, self._l / 2 * mm, 0]\n",
    "                    position[ll] = wire_position\n",
    "                    if ll == 0:\n",
    "                        if mm == 1:\n",
    "                            current = [-1, 0, 0]\n",
    "                        else:\n",
    "                            current = [1, 0, 0]\n",
    "                    else:\n",
    "                        if mm == 1:\n",
    "                            current = [0, 1, 0]\n",
    "                        else:\n",
    "                            current = [0, -1, 0]\n",
    "                    self._segments.append(\n",
    "                        WireSegment(position, wire_length, current)\n",
    "                    )\n",
    "\n",
    "    def magnetic_field(self, current, position):\n",
    "        total_field = np.zeros(3, dtype=float)\n",
    "        for segment in self._segments:\n",
    "            total_field += segment.magnetic_field(current, position)\n",
    "        return total_field"
   ]
  },
  {
   "cell_type": "code",
   "execution_count": 83,
   "id": "0beee752-a6eb-4b7f-999f-53e464df39e4",
   "metadata": {},
   "outputs": [
    {
     "data": {
      "text/plain": [
       "array([0.00000000e+00, 0.00000000e+00, 4.72730205e-05])"
      ]
     },
     "execution_count": 83,
     "metadata": {},
     "output_type": "execute_result"
    }
   ],
   "source": [
    "coil = SquareCoil(26 * in_to_m)\n",
    "coil.magnetic_field(50, [0 * in_to_m, 0 * in_to_m, 10 * in_to_m])"
   ]
  },
  {
   "cell_type": "code",
   "execution_count": null,
   "id": "2791e763-1f80-43f5-b1b5-9d6aa3979c5a",
   "metadata": {},
   "outputs": [],
   "source": []
  }
 ],
 "metadata": {
  "kernelspec": {
   "display_name": "Python 3 (ipykernel)",
   "language": "python",
   "name": "python3"
  },
  "language_info": {
   "codemirror_mode": {
    "name": "ipython",
    "version": 3
   },
   "file_extension": ".py",
   "mimetype": "text/x-python",
   "name": "python",
   "nbconvert_exporter": "python",
   "pygments_lexer": "ipython3",
   "version": "3.12.1"
  }
 },
 "nbformat": 4,
 "nbformat_minor": 5
}
