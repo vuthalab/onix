{
 "cells": [
  {
   "cell_type": "code",
   "execution_count": 1,
   "id": "4437d933-66c8-4be6-9131-b8af1754b4c9",
   "metadata": {},
   "outputs": [],
   "source": [
    "import numpy as np\n",
    "from numpy import sin,cos,pi,exp\n",
    "from numpy.linalg import norm\n",
    "from pymatgen.symmetry.analyzer import SpacegroupAnalyzer\n",
    "from pymatgen.core import Lattice, Structure\n",
    "import matplotlib.pyplot as plt\n",
    "from pymatgen.vis.structure_vtk import StructureVis\n",
    "from IPython.display import display\n",
    "%matplotlib widget\n",
    "\n",
    "def to_dict(struct): # changes structure to the kind of dict suitable for Electric Field\n",
    "    PMG_struct_dict = struct.as_dict()\n",
    "    struct_dict = {}\n",
    "    for atom in PMG_struct_dict['sites']:\n",
    "        atom_name = atom['species'][0]['element']\n",
    "        try:\n",
    "            struct_dict[atom_name].append(np.array(atom['xyz']))\n",
    "        except:\n",
    "            struct_dict[atom_name] = [np.array(atom['xyz'])]\n",
    "    return struct_dict\n",
    "\n",
    "def lattice_parameters_cartesian(structure):\n",
    "    ABC = structure.lattice.__dict__[\"_matrix\"]\n",
    "    return ABC[0], ABC[1], ABC[2]\n",
    "\n",
    "def find_bonds(atom_index, struct, remove_self=False, visual=False):\n",
    "    \"\"\"\n",
    "    finds the atoms (OXYGENS) bonded to a specific site, and returns a Structure containing with only the ion and its neighbors\n",
    "    \"\"\"\n",
    "    num_atoms = len(struct)\n",
    "    filled_struct = struct.copy().make_supercell(3,3,3)\n",
    "    atom_index = 27*atom_index + 13\n",
    "    bonded_atoms = [] if remove_self else [filled_struct[atom_index]]\n",
    "    atom_symbol = filled_struct[atom_index].specie.symbol\n",
    "    for i in range(len(filled_struct)):\n",
    "        crystal_atom_symbol = filled_struct[i].specie.symbol\n",
    "        if crystal_atom_symbol == \"O\": #True\n",
    "            max_d = 3 #CovalentRadius.radius[atom_symbol] + CovalentRadius.radius[crystal_atom_symbol] + 0.2 # 0.2 bond tolerance\n",
    "            d = filled_struct.get_distance(atom_index, i, np.array([0, 0, 0]))\n",
    "            if d < max_d:\n",
    "                bonded_atoms.append(filled_struct[i])\n",
    "    output = Structure.from_sites(bonded_atoms)\n",
    "    if visual:\n",
    "        visualize_struct(output)\n",
    "    return output\n",
    "\n",
    "def electric_field(r,lattice_point_dict,charge_dict): # r is the position vector where you want to know the total field\n",
    "    \"\"\"\n",
    "    Finds and returns the electric field at a specified point based on the lattice points\n",
    "    \n",
    "    r - the position vector where you want to know the total field\n",
    "    lattice_point_dict - must be a dictionary - if generated from a structure use to_dict function\n",
    "    charge_dict - must name each atom present, and it's ionic charge\n",
    "    \"\"\"\n",
    "    field = np.array((0, 0, 0))\n",
    "\n",
    "    for element in lattice_point_dict.keys():\n",
    "        # if element == 'O':\n",
    "        #     pass\n",
    "        # else:\n",
    "        for R in lattice_point_dict[element]:  # R is a position vector for the ion producing the field\n",
    "            d = r - R\n",
    "            if norm(d) < 0.1:\n",
    "                pass\n",
    "            else:\n",
    "                field = field + charge_dict[element]*d/(norm(d)**3)\n",
    "    return field\n",
    "\n",
    "def visualize_struct(struct, polarization={}, add_bond_center=[],\n",
    "                     add_bond_neighbors=[], field_strength=[],\n",
    "                     ind=0, relative_vectors=[], show_bonds=False):\n",
    "    \"\"\"\n",
    "    Visualizes structure in seporate window - have to close window to continue running other code\n",
    "    \n",
    "    struct - pymatgen Structure\n",
    "    field_strength - list of strengths of fields that will appear as lines in the image\n",
    "    ind - the index of the atom in struct that you want the lines to be based on\n",
    "    relative_vectors - adds lines that start at the terminal points of the field_strenth lines\n",
    "    \"\"\"\n",
    "    vis = StructureVis(element_color_mapping={'Eu': (0, 255,200), 'O':(255,0,0), 'Y':(100, 100, 255), 'Si':(255, 255, 50)}, show_bonds=show_bonds)\n",
    "    # Eu3+ : Cyan, O2- : Red, Y3+ : blue, Si4+ : Yellow \n",
    "    vis.show_polyhedron = False\n",
    "    vis.poly_radii_tol_factor -= 0.25\n",
    "    vis.set_structure(struct.copy())\n",
    "    if type(field_strength) == dict:\n",
    "        e_color = {'O':(225,0,0), 'Y':(0,0,255),  'Si':(0,255,0), 'Eu':(200,255, 0), 'Be':(0,0,0)}\n",
    "        for element in field_strength.keys():\n",
    "            for i in range(len(field_strength[element])):\n",
    "                vis.add_line(struct.cart_coords[ind], struct.cart_coords[ind] + field_strength[element][i]*5, e_color[element], width=10)\n",
    "    else:\n",
    "        for i in range(len(field_strength)):\n",
    "            vis.add_line(struct.cart_coords[ind], struct.cart_coords[ind] + field_strength[i], (0, 255, 0), width=10)\n",
    "            for j in range(len(relative_vectors)):\n",
    "                vis.add_line(struct.cart_coords[ind] + field_strength[i], struct.cart_coords[ind] + field_strength[i] + relative_vectors[j], (225, 0, 0), width=10)\n",
    "    for D_ in polarization:\n",
    "        vis.add_line((0, 0, 0), polarization[D_], (0,0,0))\n",
    "        vis.add_text(polarization[D_], D_, (0,0,0))\n",
    "      \n",
    "    for idx, center in enumerate(add_bond_center):\n",
    "        vis.add_bonds(add_bond_neighbors[idx], center)\n",
    "    \n",
    "    return display(vis.show())"
   ]
  },
  {
   "cell_type": "code",
   "execution_count": 2,
   "id": "f10fb2b0-5f6a-44a7-ba02-0a62dc4c044a",
   "metadata": {},
   "outputs": [],
   "source": [
    "structure = Structure.from_file(\"C:/Users/onix/Downloads/Y2SiO5-mp3520.cif\").to_conventional().sort()\n",
    "\n",
    "# setting the perameters to what they apear to be from the code\n",
    "beta = 122.18778465\n",
    "a = np.array([1,0,0])*14.43523963\n",
    "b = np.array([0,1,0])*6.74280580\n",
    "c = np.array([cos(beta*np.pi/180),cos(90*np.pi/180),sin(beta*np.pi/180)])*10.42107312\n",
    "\n",
    "angle_D1=11.35 *np.pi/180\n",
    "angle_D2=(11.35 + 90) *np.pi/180\n",
    "D1_rotation = np.array([[cos(angle_D1), 0, sin(angle_D1)], [0, 1, 0], [-sin(angle_D1), 0, cos(angle_D1)]])\n",
    "D2_rotation = np.array([[cos(angle_D2), 0, sin(angle_D2)], [0, 1, 0], [-sin(angle_D2), 0, cos(angle_D2)]])\n",
    "\n",
    "D1 = np.matmul(D1_rotation, c)\n",
    "D2 = np.matmul(D2_rotation, c)\n",
    "structure._lattice = Lattice([a, b, c])\n",
    "crystal = structure.copy().sort()\n",
    "\n",
    "lattice_points = {'Y3+': [], 'Si4+': [], 'O2-': []}\n",
    "for i in range(len(crystal)):\n",
    "       name = crystal[i].species_string\n",
    "       lattice_points[name].append(crystal.cart_coords[i])"
   ]
  },
  {
   "cell_type": "code",
   "execution_count": 3,
   "id": "52df25c2-ff20-4d35-9f6a-9bccdab9ac78",
   "metadata": {},
   "outputs": [],
   "source": [
    "charges = {'Y': 3, 'Si': 4, 'O': -2, 'Eu': 3}\n",
    "K = 8.99*10**9 * (1.6*10**(-19)) / 10**(-20)     # K = (1/4 pi epsilon_0) * e / (1 angstrom)**2  \n",
    "K_gig = K*10**(-9) # Giga K units\n",
    "cell_vector_struct = structure.copy().append(\"Li\", np.array([1,0,0])).append(\"Li\", np.array([0,1,0])).append(\"Li\", np.array([0,0,1])) # To get transformed Cartesian unit vectors\n",
    "a,b,c = cell_vector_struct.cart_coords[-3:]"
   ]
  },
  {
   "cell_type": "code",
   "execution_count": 4,
   "id": "a7a21384-ce21-4250-b9e9-0742d4c4b87f",
   "metadata": {},
   "outputs": [
    {
     "name": "stdout",
     "output_type": "stream",
     "text": [
      "2.433e+10       φ = 3.549e+01       θ = 8.932e+01 \n",
      "2.433e+10       φ = 3.549e+01       θ = 8.932e+01 \n",
      "2.433e+10       φ = 3.549e+01       θ = 8.932e+01 \n",
      "2.433e+10       φ = 3.549e+01       θ = 8.932e+01 \n",
      "2.184e+10       φ = 3.329e+01       θ = 8.916e+01 \n",
      "2.184e+10       φ = 3.329e+01       θ = 8.916e+01 \n",
      "2.184e+10       φ = 3.329e+01       θ = 8.916e+01 \n",
      "2.184e+10       φ = 3.329e+01       θ = 8.916e+01 \n",
      "2.433e+10       φ = 3.549e+01       θ = 8.932e+01 \n",
      "2.433e+10       φ = 3.549e+01       θ = 8.932e+01 \n",
      "2.433e+10       φ = 3.549e+01       θ = 8.932e+01 \n",
      "2.433e+10       φ = 3.549e+01       θ = 8.932e+01 \n",
      "2.184e+10       φ = 3.329e+01       θ = 8.916e+01 \n",
      "2.184e+10       φ = 3.329e+01       θ = 8.916e+01 \n",
      "2.184e+10       φ = 3.329e+01       θ = 8.916e+01 \n",
      "2.184e+10       φ = 3.329e+01       θ = 8.916e+01 \n"
     ]
    }
   ],
   "source": [
    "field_at_pts = []\n",
    "for i in range(16):\n",
    "    point_field = electric_field(find_bonds(i, crystal)[0].coords, to_dict(find_bonds(i, crystal,visual=False)), charges)\n",
    "    b_proj = np.dot(b, point_field)/(norm(point_field)*norm(b))*b\n",
    "    ac_proj = point_field-b_proj\n",
    "    D2_proj =  np.dot(D2, ac_proj)/(norm(ac_proj)*norm(D2))*D2\n",
    "    print(f\"{norm(point_field)*K:.3e}   \\\n",
    "    φ = {np.arccos(norm(b_proj)/norm(b))*180/np.pi:.3e}   \\\n",
    "    θ = {np.arccos(norm(D2_proj)/norm(D2))*180/np.pi:.3e} \")\n",
    "    # θ, φ are the angles between the plane and the b and D2 axes respectively \n",
    "    field_at_pts.append(point_field*K_gig)\n",
    "\n",
    "# Find bonds of Si4+\n",
    "#centers = lattice_points['Si4+']\n",
    "#oxygen = np.array(lattice_points['O2-'])\n",
    "#print(structure.cart_coords)\n",
    "#print(centers)\n",
    "#neighborhoods = []\n",
    "#for center in centers:\n",
    "#    vec_to_center = oxygen - center\n",
    "#    dist_to_center = np.linalg.norm(vec_to_center,axis=1)\n",
    "#    neighbors = oxygen[np.argpartition(dist_to_center, 4)][0:4]\n",
    "#    neighbors = Structure(neighbors, species=['O2-', 'O2-', 'O2-', 'O2-'])\n",
    "#    neighborhoods.append(neighbors)"
   ]
  },
  {
   "cell_type": "code",
   "execution_count": 7,
   "id": "384ab108-3a87-4cd2-aa27-f12a785c1964",
   "metadata": {},
   "outputs": [
    {
     "name": "stdout",
     "output_type": "stream",
     "text": [
      "[-3.70701926e+00  6.38106692e-16  9.73944419e+00]\n",
      "[9.73944419e+00 6.38106692e-16 3.70701926e+00]\n"
     ]
    },
    {
     "ename": "AttributeError",
     "evalue": "'NoneType' object has no attribute 'parent'",
     "output_type": "error",
     "traceback": [
      "\u001b[1;31m---------------------------------------------------------------------------\u001b[0m",
      "\u001b[1;31mAttributeError\u001b[0m                            Traceback (most recent call last)",
      "File \u001b[1;32m~\\.venv\\vlab\\lib\\site-packages\\pymatgen\\vis\\structure_vtk.py:813\u001b[0m, in \u001b[0;36mStructureInteractorStyle.keyPressEvent\u001b[1;34m(self, obj, _event)\u001b[0m\n\u001b[0;32m    811\u001b[0m \u001b[38;5;28;01mdef\u001b[39;00m \u001b[38;5;21mkeyPressEvent\u001b[39m(\u001b[38;5;28mself\u001b[39m, obj, _event):\n\u001b[0;32m    812\u001b[0m \u001b[38;5;250m    \u001b[39m\u001b[38;5;124;03m\"\"\"Key press event.\"\"\"\u001b[39;00m\n\u001b[1;32m--> 813\u001b[0m     parent \u001b[38;5;241m=\u001b[39m \u001b[43mobj\u001b[49m\u001b[38;5;241;43m.\u001b[39;49m\u001b[43mGetCurrentRenderer\u001b[49m\u001b[43m(\u001b[49m\u001b[43m)\u001b[49m\u001b[38;5;241;43m.\u001b[39;49m\u001b[43mparent\u001b[49m\n\u001b[0;32m    814\u001b[0m     sym \u001b[38;5;241m=\u001b[39m parent\u001b[38;5;241m.\u001b[39miren\u001b[38;5;241m.\u001b[39mGetKeySym()\n\u001b[0;32m    816\u001b[0m     \u001b[38;5;28;01mif\u001b[39;00m sym \u001b[38;5;129;01min\u001b[39;00m \u001b[38;5;124m\"\u001b[39m\u001b[38;5;124mABCabc\u001b[39m\u001b[38;5;124m\"\u001b[39m:\n",
      "\u001b[1;31mAttributeError\u001b[0m: 'NoneType' object has no attribute 'parent'"
     ]
    },
    {
     "ename": "AttributeError",
     "evalue": "'NoneType' object has no attribute 'parent'",
     "output_type": "error",
     "traceback": [
      "\u001b[1;31m---------------------------------------------------------------------------\u001b[0m",
      "\u001b[1;31mAttributeError\u001b[0m                            Traceback (most recent call last)",
      "File \u001b[1;32m~\\.venv\\vlab\\lib\\site-packages\\pymatgen\\vis\\structure_vtk.py:813\u001b[0m, in \u001b[0;36mStructureInteractorStyle.keyPressEvent\u001b[1;34m(self, obj, _event)\u001b[0m\n\u001b[0;32m    811\u001b[0m \u001b[38;5;28;01mdef\u001b[39;00m \u001b[38;5;21mkeyPressEvent\u001b[39m(\u001b[38;5;28mself\u001b[39m, obj, _event):\n\u001b[0;32m    812\u001b[0m \u001b[38;5;250m    \u001b[39m\u001b[38;5;124;03m\"\"\"Key press event.\"\"\"\u001b[39;00m\n\u001b[1;32m--> 813\u001b[0m     parent \u001b[38;5;241m=\u001b[39m \u001b[43mobj\u001b[49m\u001b[38;5;241;43m.\u001b[39;49m\u001b[43mGetCurrentRenderer\u001b[49m\u001b[43m(\u001b[49m\u001b[43m)\u001b[49m\u001b[38;5;241;43m.\u001b[39;49m\u001b[43mparent\u001b[49m\n\u001b[0;32m    814\u001b[0m     sym \u001b[38;5;241m=\u001b[39m parent\u001b[38;5;241m.\u001b[39miren\u001b[38;5;241m.\u001b[39mGetKeySym()\n\u001b[0;32m    816\u001b[0m     \u001b[38;5;28;01mif\u001b[39;00m sym \u001b[38;5;129;01min\u001b[39;00m \u001b[38;5;124m\"\u001b[39m\u001b[38;5;124mABCabc\u001b[39m\u001b[38;5;124m\"\u001b[39m:\n",
      "\u001b[1;31mAttributeError\u001b[0m: 'NoneType' object has no attribute 'parent'"
     ]
    },
    {
     "ename": "AttributeError",
     "evalue": "'NoneType' object has no attribute 'parent'",
     "output_type": "error",
     "traceback": [
      "\u001b[1;31m---------------------------------------------------------------------------\u001b[0m",
      "\u001b[1;31mAttributeError\u001b[0m                            Traceback (most recent call last)",
      "File \u001b[1;32m~\\.venv\\vlab\\lib\\site-packages\\pymatgen\\vis\\structure_vtk.py:813\u001b[0m, in \u001b[0;36mStructureInteractorStyle.keyPressEvent\u001b[1;34m(self, obj, _event)\u001b[0m\n\u001b[0;32m    811\u001b[0m \u001b[38;5;28;01mdef\u001b[39;00m \u001b[38;5;21mkeyPressEvent\u001b[39m(\u001b[38;5;28mself\u001b[39m, obj, _event):\n\u001b[0;32m    812\u001b[0m \u001b[38;5;250m    \u001b[39m\u001b[38;5;124;03m\"\"\"Key press event.\"\"\"\u001b[39;00m\n\u001b[1;32m--> 813\u001b[0m     parent \u001b[38;5;241m=\u001b[39m \u001b[43mobj\u001b[49m\u001b[38;5;241;43m.\u001b[39;49m\u001b[43mGetCurrentRenderer\u001b[49m\u001b[43m(\u001b[49m\u001b[43m)\u001b[49m\u001b[38;5;241;43m.\u001b[39;49m\u001b[43mparent\u001b[49m\n\u001b[0;32m    814\u001b[0m     sym \u001b[38;5;241m=\u001b[39m parent\u001b[38;5;241m.\u001b[39miren\u001b[38;5;241m.\u001b[39mGetKeySym()\n\u001b[0;32m    816\u001b[0m     \u001b[38;5;28;01mif\u001b[39;00m sym \u001b[38;5;129;01min\u001b[39;00m \u001b[38;5;124m\"\u001b[39m\u001b[38;5;124mABCabc\u001b[39m\u001b[38;5;124m\"\u001b[39m:\n",
      "\u001b[1;31mAttributeError\u001b[0m: 'NoneType' object has no attribute 'parent'"
     ]
    },
    {
     "ename": "AttributeError",
     "evalue": "'NoneType' object has no attribute 'parent'",
     "output_type": "error",
     "traceback": [
      "\u001b[1;31m---------------------------------------------------------------------------\u001b[0m",
      "\u001b[1;31mAttributeError\u001b[0m                            Traceback (most recent call last)",
      "File \u001b[1;32m~\\.venv\\vlab\\lib\\site-packages\\pymatgen\\vis\\structure_vtk.py:813\u001b[0m, in \u001b[0;36mStructureInteractorStyle.keyPressEvent\u001b[1;34m(self, obj, _event)\u001b[0m\n\u001b[0;32m    811\u001b[0m \u001b[38;5;28;01mdef\u001b[39;00m \u001b[38;5;21mkeyPressEvent\u001b[39m(\u001b[38;5;28mself\u001b[39m, obj, _event):\n\u001b[0;32m    812\u001b[0m \u001b[38;5;250m    \u001b[39m\u001b[38;5;124;03m\"\"\"Key press event.\"\"\"\u001b[39;00m\n\u001b[1;32m--> 813\u001b[0m     parent \u001b[38;5;241m=\u001b[39m \u001b[43mobj\u001b[49m\u001b[38;5;241;43m.\u001b[39;49m\u001b[43mGetCurrentRenderer\u001b[49m\u001b[43m(\u001b[49m\u001b[43m)\u001b[49m\u001b[38;5;241;43m.\u001b[39;49m\u001b[43mparent\u001b[49m\n\u001b[0;32m    814\u001b[0m     sym \u001b[38;5;241m=\u001b[39m parent\u001b[38;5;241m.\u001b[39miren\u001b[38;5;241m.\u001b[39mGetKeySym()\n\u001b[0;32m    816\u001b[0m     \u001b[38;5;28;01mif\u001b[39;00m sym \u001b[38;5;129;01min\u001b[39;00m \u001b[38;5;124m\"\u001b[39m\u001b[38;5;124mABCabc\u001b[39m\u001b[38;5;124m\"\u001b[39m:\n",
      "\u001b[1;31mAttributeError\u001b[0m: 'NoneType' object has no attribute 'parent'"
     ]
    },
    {
     "ename": "AttributeError",
     "evalue": "'NoneType' object has no attribute 'parent'",
     "output_type": "error",
     "traceback": [
      "\u001b[1;31m---------------------------------------------------------------------------\u001b[0m",
      "\u001b[1;31mAttributeError\u001b[0m                            Traceback (most recent call last)",
      "File \u001b[1;32m~\\.venv\\vlab\\lib\\site-packages\\pymatgen\\vis\\structure_vtk.py:813\u001b[0m, in \u001b[0;36mStructureInteractorStyle.keyPressEvent\u001b[1;34m(self, obj, _event)\u001b[0m\n\u001b[0;32m    811\u001b[0m \u001b[38;5;28;01mdef\u001b[39;00m \u001b[38;5;21mkeyPressEvent\u001b[39m(\u001b[38;5;28mself\u001b[39m, obj, _event):\n\u001b[0;32m    812\u001b[0m \u001b[38;5;250m    \u001b[39m\u001b[38;5;124;03m\"\"\"Key press event.\"\"\"\u001b[39;00m\n\u001b[1;32m--> 813\u001b[0m     parent \u001b[38;5;241m=\u001b[39m \u001b[43mobj\u001b[49m\u001b[38;5;241;43m.\u001b[39;49m\u001b[43mGetCurrentRenderer\u001b[49m\u001b[43m(\u001b[49m\u001b[43m)\u001b[49m\u001b[38;5;241;43m.\u001b[39;49m\u001b[43mparent\u001b[49m\n\u001b[0;32m    814\u001b[0m     sym \u001b[38;5;241m=\u001b[39m parent\u001b[38;5;241m.\u001b[39miren\u001b[38;5;241m.\u001b[39mGetKeySym()\n\u001b[0;32m    816\u001b[0m     \u001b[38;5;28;01mif\u001b[39;00m sym \u001b[38;5;129;01min\u001b[39;00m \u001b[38;5;124m\"\u001b[39m\u001b[38;5;124mABCabc\u001b[39m\u001b[38;5;124m\"\u001b[39m:\n",
      "\u001b[1;31mAttributeError\u001b[0m: 'NoneType' object has no attribute 'parent'"
     ]
    },
    {
     "ename": "AttributeError",
     "evalue": "'NoneType' object has no attribute 'parent'",
     "output_type": "error",
     "traceback": [
      "\u001b[1;31m---------------------------------------------------------------------------\u001b[0m",
      "\u001b[1;31mAttributeError\u001b[0m                            Traceback (most recent call last)",
      "File \u001b[1;32m~\\.venv\\vlab\\lib\\site-packages\\pymatgen\\vis\\structure_vtk.py:813\u001b[0m, in \u001b[0;36mStructureInteractorStyle.keyPressEvent\u001b[1;34m(self, obj, _event)\u001b[0m\n\u001b[0;32m    811\u001b[0m \u001b[38;5;28;01mdef\u001b[39;00m \u001b[38;5;21mkeyPressEvent\u001b[39m(\u001b[38;5;28mself\u001b[39m, obj, _event):\n\u001b[0;32m    812\u001b[0m \u001b[38;5;250m    \u001b[39m\u001b[38;5;124;03m\"\"\"Key press event.\"\"\"\u001b[39;00m\n\u001b[1;32m--> 813\u001b[0m     parent \u001b[38;5;241m=\u001b[39m \u001b[43mobj\u001b[49m\u001b[38;5;241;43m.\u001b[39;49m\u001b[43mGetCurrentRenderer\u001b[49m\u001b[43m(\u001b[49m\u001b[43m)\u001b[49m\u001b[38;5;241;43m.\u001b[39;49m\u001b[43mparent\u001b[49m\n\u001b[0;32m    814\u001b[0m     sym \u001b[38;5;241m=\u001b[39m parent\u001b[38;5;241m.\u001b[39miren\u001b[38;5;241m.\u001b[39mGetKeySym()\n\u001b[0;32m    816\u001b[0m     \u001b[38;5;28;01mif\u001b[39;00m sym \u001b[38;5;129;01min\u001b[39;00m \u001b[38;5;124m\"\u001b[39m\u001b[38;5;124mABCabc\u001b[39m\u001b[38;5;124m\"\u001b[39m:\n",
      "\u001b[1;31mAttributeError\u001b[0m: 'NoneType' object has no attribute 'parent'"
     ]
    },
    {
     "ename": "AttributeError",
     "evalue": "'NoneType' object has no attribute 'parent'",
     "output_type": "error",
     "traceback": [
      "\u001b[1;31m---------------------------------------------------------------------------\u001b[0m",
      "\u001b[1;31mAttributeError\u001b[0m                            Traceback (most recent call last)",
      "File \u001b[1;32m~\\.venv\\vlab\\lib\\site-packages\\pymatgen\\vis\\structure_vtk.py:813\u001b[0m, in \u001b[0;36mStructureInteractorStyle.keyPressEvent\u001b[1;34m(self, obj, _event)\u001b[0m\n\u001b[0;32m    811\u001b[0m \u001b[38;5;28;01mdef\u001b[39;00m \u001b[38;5;21mkeyPressEvent\u001b[39m(\u001b[38;5;28mself\u001b[39m, obj, _event):\n\u001b[0;32m    812\u001b[0m \u001b[38;5;250m    \u001b[39m\u001b[38;5;124;03m\"\"\"Key press event.\"\"\"\u001b[39;00m\n\u001b[1;32m--> 813\u001b[0m     parent \u001b[38;5;241m=\u001b[39m \u001b[43mobj\u001b[49m\u001b[38;5;241;43m.\u001b[39;49m\u001b[43mGetCurrentRenderer\u001b[49m\u001b[43m(\u001b[49m\u001b[43m)\u001b[49m\u001b[38;5;241;43m.\u001b[39;49m\u001b[43mparent\u001b[49m\n\u001b[0;32m    814\u001b[0m     sym \u001b[38;5;241m=\u001b[39m parent\u001b[38;5;241m.\u001b[39miren\u001b[38;5;241m.\u001b[39mGetKeySym()\n\u001b[0;32m    816\u001b[0m     \u001b[38;5;28;01mif\u001b[39;00m sym \u001b[38;5;129;01min\u001b[39;00m \u001b[38;5;124m\"\u001b[39m\u001b[38;5;124mABCabc\u001b[39m\u001b[38;5;124m\"\u001b[39m:\n",
      "\u001b[1;31mAttributeError\u001b[0m: 'NoneType' object has no attribute 'parent'"
     ]
    },
    {
     "ename": "AttributeError",
     "evalue": "'NoneType' object has no attribute 'parent'",
     "output_type": "error",
     "traceback": [
      "\u001b[1;31m---------------------------------------------------------------------------\u001b[0m",
      "\u001b[1;31mAttributeError\u001b[0m                            Traceback (most recent call last)",
      "File \u001b[1;32m~\\.venv\\vlab\\lib\\site-packages\\pymatgen\\vis\\structure_vtk.py:813\u001b[0m, in \u001b[0;36mStructureInteractorStyle.keyPressEvent\u001b[1;34m(self, obj, _event)\u001b[0m\n\u001b[0;32m    811\u001b[0m \u001b[38;5;28;01mdef\u001b[39;00m \u001b[38;5;21mkeyPressEvent\u001b[39m(\u001b[38;5;28mself\u001b[39m, obj, _event):\n\u001b[0;32m    812\u001b[0m \u001b[38;5;250m    \u001b[39m\u001b[38;5;124;03m\"\"\"Key press event.\"\"\"\u001b[39;00m\n\u001b[1;32m--> 813\u001b[0m     parent \u001b[38;5;241m=\u001b[39m \u001b[43mobj\u001b[49m\u001b[38;5;241;43m.\u001b[39;49m\u001b[43mGetCurrentRenderer\u001b[49m\u001b[43m(\u001b[49m\u001b[43m)\u001b[49m\u001b[38;5;241;43m.\u001b[39;49m\u001b[43mparent\u001b[49m\n\u001b[0;32m    814\u001b[0m     sym \u001b[38;5;241m=\u001b[39m parent\u001b[38;5;241m.\u001b[39miren\u001b[38;5;241m.\u001b[39mGetKeySym()\n\u001b[0;32m    816\u001b[0m     \u001b[38;5;28;01mif\u001b[39;00m sym \u001b[38;5;129;01min\u001b[39;00m \u001b[38;5;124m\"\u001b[39m\u001b[38;5;124mABCabc\u001b[39m\u001b[38;5;124m\"\u001b[39m:\n",
      "\u001b[1;31mAttributeError\u001b[0m: 'NoneType' object has no attribute 'parent'"
     ]
    },
    {
     "ename": "AttributeError",
     "evalue": "'NoneType' object has no attribute 'parent'",
     "output_type": "error",
     "traceback": [
      "\u001b[1;31m---------------------------------------------------------------------------\u001b[0m",
      "\u001b[1;31mAttributeError\u001b[0m                            Traceback (most recent call last)",
      "File \u001b[1;32m~\\.venv\\vlab\\lib\\site-packages\\pymatgen\\vis\\structure_vtk.py:813\u001b[0m, in \u001b[0;36mStructureInteractorStyle.keyPressEvent\u001b[1;34m(self, obj, _event)\u001b[0m\n\u001b[0;32m    811\u001b[0m \u001b[38;5;28;01mdef\u001b[39;00m \u001b[38;5;21mkeyPressEvent\u001b[39m(\u001b[38;5;28mself\u001b[39m, obj, _event):\n\u001b[0;32m    812\u001b[0m \u001b[38;5;250m    \u001b[39m\u001b[38;5;124;03m\"\"\"Key press event.\"\"\"\u001b[39;00m\n\u001b[1;32m--> 813\u001b[0m     parent \u001b[38;5;241m=\u001b[39m \u001b[43mobj\u001b[49m\u001b[38;5;241;43m.\u001b[39;49m\u001b[43mGetCurrentRenderer\u001b[49m\u001b[43m(\u001b[49m\u001b[43m)\u001b[49m\u001b[38;5;241;43m.\u001b[39;49m\u001b[43mparent\u001b[49m\n\u001b[0;32m    814\u001b[0m     sym \u001b[38;5;241m=\u001b[39m parent\u001b[38;5;241m.\u001b[39miren\u001b[38;5;241m.\u001b[39mGetKeySym()\n\u001b[0;32m    816\u001b[0m     \u001b[38;5;28;01mif\u001b[39;00m sym \u001b[38;5;129;01min\u001b[39;00m \u001b[38;5;124m\"\u001b[39m\u001b[38;5;124mABCabc\u001b[39m\u001b[38;5;124m\"\u001b[39m:\n",
      "\u001b[1;31mAttributeError\u001b[0m: 'NoneType' object has no attribute 'parent'"
     ]
    },
    {
     "ename": "AttributeError",
     "evalue": "'NoneType' object has no attribute 'parent'",
     "output_type": "error",
     "traceback": [
      "\u001b[1;31m---------------------------------------------------------------------------\u001b[0m",
      "\u001b[1;31mAttributeError\u001b[0m                            Traceback (most recent call last)",
      "File \u001b[1;32m~\\.venv\\vlab\\lib\\site-packages\\pymatgen\\vis\\structure_vtk.py:813\u001b[0m, in \u001b[0;36mStructureInteractorStyle.keyPressEvent\u001b[1;34m(self, obj, _event)\u001b[0m\n\u001b[0;32m    811\u001b[0m \u001b[38;5;28;01mdef\u001b[39;00m \u001b[38;5;21mkeyPressEvent\u001b[39m(\u001b[38;5;28mself\u001b[39m, obj, _event):\n\u001b[0;32m    812\u001b[0m \u001b[38;5;250m    \u001b[39m\u001b[38;5;124;03m\"\"\"Key press event.\"\"\"\u001b[39;00m\n\u001b[1;32m--> 813\u001b[0m     parent \u001b[38;5;241m=\u001b[39m \u001b[43mobj\u001b[49m\u001b[38;5;241;43m.\u001b[39;49m\u001b[43mGetCurrentRenderer\u001b[49m\u001b[43m(\u001b[49m\u001b[43m)\u001b[49m\u001b[38;5;241;43m.\u001b[39;49m\u001b[43mparent\u001b[49m\n\u001b[0;32m    814\u001b[0m     sym \u001b[38;5;241m=\u001b[39m parent\u001b[38;5;241m.\u001b[39miren\u001b[38;5;241m.\u001b[39mGetKeySym()\n\u001b[0;32m    816\u001b[0m     \u001b[38;5;28;01mif\u001b[39;00m sym \u001b[38;5;129;01min\u001b[39;00m \u001b[38;5;124m\"\u001b[39m\u001b[38;5;124mABCabc\u001b[39m\u001b[38;5;124m\"\u001b[39m:\n",
      "\u001b[1;31mAttributeError\u001b[0m: 'NoneType' object has no attribute 'parent'"
     ]
    },
    {
     "ename": "AttributeError",
     "evalue": "'NoneType' object has no attribute 'parent'",
     "output_type": "error",
     "traceback": [
      "\u001b[1;31m---------------------------------------------------------------------------\u001b[0m",
      "\u001b[1;31mAttributeError\u001b[0m                            Traceback (most recent call last)",
      "File \u001b[1;32m~\\.venv\\vlab\\lib\\site-packages\\pymatgen\\vis\\structure_vtk.py:813\u001b[0m, in \u001b[0;36mStructureInteractorStyle.keyPressEvent\u001b[1;34m(self, obj, _event)\u001b[0m\n\u001b[0;32m    811\u001b[0m \u001b[38;5;28;01mdef\u001b[39;00m \u001b[38;5;21mkeyPressEvent\u001b[39m(\u001b[38;5;28mself\u001b[39m, obj, _event):\n\u001b[0;32m    812\u001b[0m \u001b[38;5;250m    \u001b[39m\u001b[38;5;124;03m\"\"\"Key press event.\"\"\"\u001b[39;00m\n\u001b[1;32m--> 813\u001b[0m     parent \u001b[38;5;241m=\u001b[39m \u001b[43mobj\u001b[49m\u001b[38;5;241;43m.\u001b[39;49m\u001b[43mGetCurrentRenderer\u001b[49m\u001b[43m(\u001b[49m\u001b[43m)\u001b[49m\u001b[38;5;241;43m.\u001b[39;49m\u001b[43mparent\u001b[49m\n\u001b[0;32m    814\u001b[0m     sym \u001b[38;5;241m=\u001b[39m parent\u001b[38;5;241m.\u001b[39miren\u001b[38;5;241m.\u001b[39mGetKeySym()\n\u001b[0;32m    816\u001b[0m     \u001b[38;5;28;01mif\u001b[39;00m sym \u001b[38;5;129;01min\u001b[39;00m \u001b[38;5;124m\"\u001b[39m\u001b[38;5;124mABCabc\u001b[39m\u001b[38;5;124m\"\u001b[39m:\n",
      "\u001b[1;31mAttributeError\u001b[0m: 'NoneType' object has no attribute 'parent'"
     ]
    },
    {
     "ename": "AttributeError",
     "evalue": "'NoneType' object has no attribute 'parent'",
     "output_type": "error",
     "traceback": [
      "\u001b[1;31m---------------------------------------------------------------------------\u001b[0m",
      "\u001b[1;31mAttributeError\u001b[0m                            Traceback (most recent call last)",
      "File \u001b[1;32m~\\.venv\\vlab\\lib\\site-packages\\pymatgen\\vis\\structure_vtk.py:813\u001b[0m, in \u001b[0;36mStructureInteractorStyle.keyPressEvent\u001b[1;34m(self, obj, _event)\u001b[0m\n\u001b[0;32m    811\u001b[0m \u001b[38;5;28;01mdef\u001b[39;00m \u001b[38;5;21mkeyPressEvent\u001b[39m(\u001b[38;5;28mself\u001b[39m, obj, _event):\n\u001b[0;32m    812\u001b[0m \u001b[38;5;250m    \u001b[39m\u001b[38;5;124;03m\"\"\"Key press event.\"\"\"\u001b[39;00m\n\u001b[1;32m--> 813\u001b[0m     parent \u001b[38;5;241m=\u001b[39m \u001b[43mobj\u001b[49m\u001b[38;5;241;43m.\u001b[39;49m\u001b[43mGetCurrentRenderer\u001b[49m\u001b[43m(\u001b[49m\u001b[43m)\u001b[49m\u001b[38;5;241;43m.\u001b[39;49m\u001b[43mparent\u001b[49m\n\u001b[0;32m    814\u001b[0m     sym \u001b[38;5;241m=\u001b[39m parent\u001b[38;5;241m.\u001b[39miren\u001b[38;5;241m.\u001b[39mGetKeySym()\n\u001b[0;32m    816\u001b[0m     \u001b[38;5;28;01mif\u001b[39;00m sym \u001b[38;5;129;01min\u001b[39;00m \u001b[38;5;124m\"\u001b[39m\u001b[38;5;124mABCabc\u001b[39m\u001b[38;5;124m\"\u001b[39m:\n",
      "\u001b[1;31mAttributeError\u001b[0m: 'NoneType' object has no attribute 'parent'"
     ]
    },
    {
     "ename": "AttributeError",
     "evalue": "'NoneType' object has no attribute 'parent'",
     "output_type": "error",
     "traceback": [
      "\u001b[1;31m---------------------------------------------------------------------------\u001b[0m",
      "\u001b[1;31mAttributeError\u001b[0m                            Traceback (most recent call last)",
      "File \u001b[1;32m~\\.venv\\vlab\\lib\\site-packages\\pymatgen\\vis\\structure_vtk.py:813\u001b[0m, in \u001b[0;36mStructureInteractorStyle.keyPressEvent\u001b[1;34m(self, obj, _event)\u001b[0m\n\u001b[0;32m    811\u001b[0m \u001b[38;5;28;01mdef\u001b[39;00m \u001b[38;5;21mkeyPressEvent\u001b[39m(\u001b[38;5;28mself\u001b[39m, obj, _event):\n\u001b[0;32m    812\u001b[0m \u001b[38;5;250m    \u001b[39m\u001b[38;5;124;03m\"\"\"Key press event.\"\"\"\u001b[39;00m\n\u001b[1;32m--> 813\u001b[0m     parent \u001b[38;5;241m=\u001b[39m \u001b[43mobj\u001b[49m\u001b[38;5;241;43m.\u001b[39;49m\u001b[43mGetCurrentRenderer\u001b[49m\u001b[43m(\u001b[49m\u001b[43m)\u001b[49m\u001b[38;5;241;43m.\u001b[39;49m\u001b[43mparent\u001b[49m\n\u001b[0;32m    814\u001b[0m     sym \u001b[38;5;241m=\u001b[39m parent\u001b[38;5;241m.\u001b[39miren\u001b[38;5;241m.\u001b[39mGetKeySym()\n\u001b[0;32m    816\u001b[0m     \u001b[38;5;28;01mif\u001b[39;00m sym \u001b[38;5;129;01min\u001b[39;00m \u001b[38;5;124m\"\u001b[39m\u001b[38;5;124mABCabc\u001b[39m\u001b[38;5;124m\"\u001b[39m:\n",
      "\u001b[1;31mAttributeError\u001b[0m: 'NoneType' object has no attribute 'parent'"
     ]
    },
    {
     "ename": "AttributeError",
     "evalue": "'NoneType' object has no attribute 'parent'",
     "output_type": "error",
     "traceback": [
      "\u001b[1;31m---------------------------------------------------------------------------\u001b[0m",
      "\u001b[1;31mAttributeError\u001b[0m                            Traceback (most recent call last)",
      "File \u001b[1;32m~\\.venv\\vlab\\lib\\site-packages\\pymatgen\\vis\\structure_vtk.py:813\u001b[0m, in \u001b[0;36mStructureInteractorStyle.keyPressEvent\u001b[1;34m(self, obj, _event)\u001b[0m\n\u001b[0;32m    811\u001b[0m \u001b[38;5;28;01mdef\u001b[39;00m \u001b[38;5;21mkeyPressEvent\u001b[39m(\u001b[38;5;28mself\u001b[39m, obj, _event):\n\u001b[0;32m    812\u001b[0m \u001b[38;5;250m    \u001b[39m\u001b[38;5;124;03m\"\"\"Key press event.\"\"\"\u001b[39;00m\n\u001b[1;32m--> 813\u001b[0m     parent \u001b[38;5;241m=\u001b[39m \u001b[43mobj\u001b[49m\u001b[38;5;241;43m.\u001b[39;49m\u001b[43mGetCurrentRenderer\u001b[49m\u001b[43m(\u001b[49m\u001b[43m)\u001b[49m\u001b[38;5;241;43m.\u001b[39;49m\u001b[43mparent\u001b[49m\n\u001b[0;32m    814\u001b[0m     sym \u001b[38;5;241m=\u001b[39m parent\u001b[38;5;241m.\u001b[39miren\u001b[38;5;241m.\u001b[39mGetKeySym()\n\u001b[0;32m    816\u001b[0m     \u001b[38;5;28;01mif\u001b[39;00m sym \u001b[38;5;129;01min\u001b[39;00m \u001b[38;5;124m\"\u001b[39m\u001b[38;5;124mABCabc\u001b[39m\u001b[38;5;124m\"\u001b[39m:\n",
      "\u001b[1;31mAttributeError\u001b[0m: 'NoneType' object has no attribute 'parent'"
     ]
    },
    {
     "ename": "AttributeError",
     "evalue": "'NoneType' object has no attribute 'parent'",
     "output_type": "error",
     "traceback": [
      "\u001b[1;31m---------------------------------------------------------------------------\u001b[0m",
      "\u001b[1;31mAttributeError\u001b[0m                            Traceback (most recent call last)",
      "File \u001b[1;32m~\\.venv\\vlab\\lib\\site-packages\\pymatgen\\vis\\structure_vtk.py:813\u001b[0m, in \u001b[0;36mStructureInteractorStyle.keyPressEvent\u001b[1;34m(self, obj, _event)\u001b[0m\n\u001b[0;32m    811\u001b[0m \u001b[38;5;28;01mdef\u001b[39;00m \u001b[38;5;21mkeyPressEvent\u001b[39m(\u001b[38;5;28mself\u001b[39m, obj, _event):\n\u001b[0;32m    812\u001b[0m \u001b[38;5;250m    \u001b[39m\u001b[38;5;124;03m\"\"\"Key press event.\"\"\"\u001b[39;00m\n\u001b[1;32m--> 813\u001b[0m     parent \u001b[38;5;241m=\u001b[39m \u001b[43mobj\u001b[49m\u001b[38;5;241;43m.\u001b[39;49m\u001b[43mGetCurrentRenderer\u001b[49m\u001b[43m(\u001b[49m\u001b[43m)\u001b[49m\u001b[38;5;241;43m.\u001b[39;49m\u001b[43mparent\u001b[49m\n\u001b[0;32m    814\u001b[0m     sym \u001b[38;5;241m=\u001b[39m parent\u001b[38;5;241m.\u001b[39miren\u001b[38;5;241m.\u001b[39mGetKeySym()\n\u001b[0;32m    816\u001b[0m     \u001b[38;5;28;01mif\u001b[39;00m sym \u001b[38;5;129;01min\u001b[39;00m \u001b[38;5;124m\"\u001b[39m\u001b[38;5;124mABCabc\u001b[39m\u001b[38;5;124m\"\u001b[39m:\n",
      "\u001b[1;31mAttributeError\u001b[0m: 'NoneType' object has no attribute 'parent'"
     ]
    },
    {
     "ename": "AttributeError",
     "evalue": "'NoneType' object has no attribute 'parent'",
     "output_type": "error",
     "traceback": [
      "\u001b[1;31m---------------------------------------------------------------------------\u001b[0m",
      "\u001b[1;31mAttributeError\u001b[0m                            Traceback (most recent call last)",
      "File \u001b[1;32m~\\.venv\\vlab\\lib\\site-packages\\pymatgen\\vis\\structure_vtk.py:813\u001b[0m, in \u001b[0;36mStructureInteractorStyle.keyPressEvent\u001b[1;34m(self, obj, _event)\u001b[0m\n\u001b[0;32m    811\u001b[0m \u001b[38;5;28;01mdef\u001b[39;00m \u001b[38;5;21mkeyPressEvent\u001b[39m(\u001b[38;5;28mself\u001b[39m, obj, _event):\n\u001b[0;32m    812\u001b[0m \u001b[38;5;250m    \u001b[39m\u001b[38;5;124;03m\"\"\"Key press event.\"\"\"\u001b[39;00m\n\u001b[1;32m--> 813\u001b[0m     parent \u001b[38;5;241m=\u001b[39m \u001b[43mobj\u001b[49m\u001b[38;5;241;43m.\u001b[39;49m\u001b[43mGetCurrentRenderer\u001b[49m\u001b[43m(\u001b[49m\u001b[43m)\u001b[49m\u001b[38;5;241;43m.\u001b[39;49m\u001b[43mparent\u001b[49m\n\u001b[0;32m    814\u001b[0m     sym \u001b[38;5;241m=\u001b[39m parent\u001b[38;5;241m.\u001b[39miren\u001b[38;5;241m.\u001b[39mGetKeySym()\n\u001b[0;32m    816\u001b[0m     \u001b[38;5;28;01mif\u001b[39;00m sym \u001b[38;5;129;01min\u001b[39;00m \u001b[38;5;124m\"\u001b[39m\u001b[38;5;124mABCabc\u001b[39m\u001b[38;5;124m\"\u001b[39m:\n",
      "\u001b[1;31mAttributeError\u001b[0m: 'NoneType' object has no attribute 'parent'"
     ]
    },
    {
     "ename": "AttributeError",
     "evalue": "'NoneType' object has no attribute 'parent'",
     "output_type": "error",
     "traceback": [
      "\u001b[1;31m---------------------------------------------------------------------------\u001b[0m",
      "\u001b[1;31mAttributeError\u001b[0m                            Traceback (most recent call last)",
      "File \u001b[1;32m~\\.venv\\vlab\\lib\\site-packages\\pymatgen\\vis\\structure_vtk.py:813\u001b[0m, in \u001b[0;36mStructureInteractorStyle.keyPressEvent\u001b[1;34m(self, obj, _event)\u001b[0m\n\u001b[0;32m    811\u001b[0m \u001b[38;5;28;01mdef\u001b[39;00m \u001b[38;5;21mkeyPressEvent\u001b[39m(\u001b[38;5;28mself\u001b[39m, obj, _event):\n\u001b[0;32m    812\u001b[0m \u001b[38;5;250m    \u001b[39m\u001b[38;5;124;03m\"\"\"Key press event.\"\"\"\u001b[39;00m\n\u001b[1;32m--> 813\u001b[0m     parent \u001b[38;5;241m=\u001b[39m \u001b[43mobj\u001b[49m\u001b[38;5;241;43m.\u001b[39;49m\u001b[43mGetCurrentRenderer\u001b[49m\u001b[43m(\u001b[49m\u001b[43m)\u001b[49m\u001b[38;5;241;43m.\u001b[39;49m\u001b[43mparent\u001b[49m\n\u001b[0;32m    814\u001b[0m     sym \u001b[38;5;241m=\u001b[39m parent\u001b[38;5;241m.\u001b[39miren\u001b[38;5;241m.\u001b[39mGetKeySym()\n\u001b[0;32m    816\u001b[0m     \u001b[38;5;28;01mif\u001b[39;00m sym \u001b[38;5;129;01min\u001b[39;00m \u001b[38;5;124m\"\u001b[39m\u001b[38;5;124mABCabc\u001b[39m\u001b[38;5;124m\"\u001b[39m:\n",
      "\u001b[1;31mAttributeError\u001b[0m: 'NoneType' object has no attribute 'parent'"
     ]
    },
    {
     "ename": "AttributeError",
     "evalue": "'NoneType' object has no attribute 'parent'",
     "output_type": "error",
     "traceback": [
      "\u001b[1;31m---------------------------------------------------------------------------\u001b[0m",
      "\u001b[1;31mAttributeError\u001b[0m                            Traceback (most recent call last)",
      "File \u001b[1;32m~\\.venv\\vlab\\lib\\site-packages\\pymatgen\\vis\\structure_vtk.py:813\u001b[0m, in \u001b[0;36mStructureInteractorStyle.keyPressEvent\u001b[1;34m(self, obj, _event)\u001b[0m\n\u001b[0;32m    811\u001b[0m \u001b[38;5;28;01mdef\u001b[39;00m \u001b[38;5;21mkeyPressEvent\u001b[39m(\u001b[38;5;28mself\u001b[39m, obj, _event):\n\u001b[0;32m    812\u001b[0m \u001b[38;5;250m    \u001b[39m\u001b[38;5;124;03m\"\"\"Key press event.\"\"\"\u001b[39;00m\n\u001b[1;32m--> 813\u001b[0m     parent \u001b[38;5;241m=\u001b[39m \u001b[43mobj\u001b[49m\u001b[38;5;241;43m.\u001b[39;49m\u001b[43mGetCurrentRenderer\u001b[49m\u001b[43m(\u001b[49m\u001b[43m)\u001b[49m\u001b[38;5;241;43m.\u001b[39;49m\u001b[43mparent\u001b[49m\n\u001b[0;32m    814\u001b[0m     sym \u001b[38;5;241m=\u001b[39m parent\u001b[38;5;241m.\u001b[39miren\u001b[38;5;241m.\u001b[39mGetKeySym()\n\u001b[0;32m    816\u001b[0m     \u001b[38;5;28;01mif\u001b[39;00m sym \u001b[38;5;129;01min\u001b[39;00m \u001b[38;5;124m\"\u001b[39m\u001b[38;5;124mABCabc\u001b[39m\u001b[38;5;124m\"\u001b[39m:\n",
      "\u001b[1;31mAttributeError\u001b[0m: 'NoneType' object has no attribute 'parent'"
     ]
    },
    {
     "ename": "AttributeError",
     "evalue": "'NoneType' object has no attribute 'parent'",
     "output_type": "error",
     "traceback": [
      "\u001b[1;31m---------------------------------------------------------------------------\u001b[0m",
      "\u001b[1;31mAttributeError\u001b[0m                            Traceback (most recent call last)",
      "File \u001b[1;32m~\\.venv\\vlab\\lib\\site-packages\\pymatgen\\vis\\structure_vtk.py:813\u001b[0m, in \u001b[0;36mStructureInteractorStyle.keyPressEvent\u001b[1;34m(self, obj, _event)\u001b[0m\n\u001b[0;32m    811\u001b[0m \u001b[38;5;28;01mdef\u001b[39;00m \u001b[38;5;21mkeyPressEvent\u001b[39m(\u001b[38;5;28mself\u001b[39m, obj, _event):\n\u001b[0;32m    812\u001b[0m \u001b[38;5;250m    \u001b[39m\u001b[38;5;124;03m\"\"\"Key press event.\"\"\"\u001b[39;00m\n\u001b[1;32m--> 813\u001b[0m     parent \u001b[38;5;241m=\u001b[39m \u001b[43mobj\u001b[49m\u001b[38;5;241;43m.\u001b[39;49m\u001b[43mGetCurrentRenderer\u001b[49m\u001b[43m(\u001b[49m\u001b[43m)\u001b[49m\u001b[38;5;241;43m.\u001b[39;49m\u001b[43mparent\u001b[49m\n\u001b[0;32m    814\u001b[0m     sym \u001b[38;5;241m=\u001b[39m parent\u001b[38;5;241m.\u001b[39miren\u001b[38;5;241m.\u001b[39mGetKeySym()\n\u001b[0;32m    816\u001b[0m     \u001b[38;5;28;01mif\u001b[39;00m sym \u001b[38;5;129;01min\u001b[39;00m \u001b[38;5;124m\"\u001b[39m\u001b[38;5;124mABCabc\u001b[39m\u001b[38;5;124m\"\u001b[39m:\n",
      "\u001b[1;31mAttributeError\u001b[0m: 'NoneType' object has no attribute 'parent'"
     ]
    },
    {
     "ename": "AttributeError",
     "evalue": "'NoneType' object has no attribute 'parent'",
     "output_type": "error",
     "traceback": [
      "\u001b[1;31m---------------------------------------------------------------------------\u001b[0m",
      "\u001b[1;31mAttributeError\u001b[0m                            Traceback (most recent call last)",
      "File \u001b[1;32m~\\.venv\\vlab\\lib\\site-packages\\pymatgen\\vis\\structure_vtk.py:813\u001b[0m, in \u001b[0;36mStructureInteractorStyle.keyPressEvent\u001b[1;34m(self, obj, _event)\u001b[0m\n\u001b[0;32m    811\u001b[0m \u001b[38;5;28;01mdef\u001b[39;00m \u001b[38;5;21mkeyPressEvent\u001b[39m(\u001b[38;5;28mself\u001b[39m, obj, _event):\n\u001b[0;32m    812\u001b[0m \u001b[38;5;250m    \u001b[39m\u001b[38;5;124;03m\"\"\"Key press event.\"\"\"\u001b[39;00m\n\u001b[1;32m--> 813\u001b[0m     parent \u001b[38;5;241m=\u001b[39m \u001b[43mobj\u001b[49m\u001b[38;5;241;43m.\u001b[39;49m\u001b[43mGetCurrentRenderer\u001b[49m\u001b[43m(\u001b[49m\u001b[43m)\u001b[49m\u001b[38;5;241;43m.\u001b[39;49m\u001b[43mparent\u001b[49m\n\u001b[0;32m    814\u001b[0m     sym \u001b[38;5;241m=\u001b[39m parent\u001b[38;5;241m.\u001b[39miren\u001b[38;5;241m.\u001b[39mGetKeySym()\n\u001b[0;32m    816\u001b[0m     \u001b[38;5;28;01mif\u001b[39;00m sym \u001b[38;5;129;01min\u001b[39;00m \u001b[38;5;124m\"\u001b[39m\u001b[38;5;124mABCabc\u001b[39m\u001b[38;5;124m\"\u001b[39m:\n",
      "\u001b[1;31mAttributeError\u001b[0m: 'NoneType' object has no attribute 'parent'"
     ]
    },
    {
     "ename": "AttributeError",
     "evalue": "'NoneType' object has no attribute 'parent'",
     "output_type": "error",
     "traceback": [
      "\u001b[1;31m---------------------------------------------------------------------------\u001b[0m",
      "\u001b[1;31mAttributeError\u001b[0m                            Traceback (most recent call last)",
      "File \u001b[1;32m~\\.venv\\vlab\\lib\\site-packages\\pymatgen\\vis\\structure_vtk.py:813\u001b[0m, in \u001b[0;36mStructureInteractorStyle.keyPressEvent\u001b[1;34m(self, obj, _event)\u001b[0m\n\u001b[0;32m    811\u001b[0m \u001b[38;5;28;01mdef\u001b[39;00m \u001b[38;5;21mkeyPressEvent\u001b[39m(\u001b[38;5;28mself\u001b[39m, obj, _event):\n\u001b[0;32m    812\u001b[0m \u001b[38;5;250m    \u001b[39m\u001b[38;5;124;03m\"\"\"Key press event.\"\"\"\u001b[39;00m\n\u001b[1;32m--> 813\u001b[0m     parent \u001b[38;5;241m=\u001b[39m \u001b[43mobj\u001b[49m\u001b[38;5;241;43m.\u001b[39;49m\u001b[43mGetCurrentRenderer\u001b[49m\u001b[43m(\u001b[49m\u001b[43m)\u001b[49m\u001b[38;5;241;43m.\u001b[39;49m\u001b[43mparent\u001b[49m\n\u001b[0;32m    814\u001b[0m     sym \u001b[38;5;241m=\u001b[39m parent\u001b[38;5;241m.\u001b[39miren\u001b[38;5;241m.\u001b[39mGetKeySym()\n\u001b[0;32m    816\u001b[0m     \u001b[38;5;28;01mif\u001b[39;00m sym \u001b[38;5;129;01min\u001b[39;00m \u001b[38;5;124m\"\u001b[39m\u001b[38;5;124mABCabc\u001b[39m\u001b[38;5;124m\"\u001b[39m:\n",
      "\u001b[1;31mAttributeError\u001b[0m: 'NoneType' object has no attribute 'parent'"
     ]
    },
    {
     "ename": "AttributeError",
     "evalue": "'NoneType' object has no attribute 'parent'",
     "output_type": "error",
     "traceback": [
      "\u001b[1;31m---------------------------------------------------------------------------\u001b[0m",
      "\u001b[1;31mAttributeError\u001b[0m                            Traceback (most recent call last)",
      "File \u001b[1;32m~\\.venv\\vlab\\lib\\site-packages\\pymatgen\\vis\\structure_vtk.py:813\u001b[0m, in \u001b[0;36mStructureInteractorStyle.keyPressEvent\u001b[1;34m(self, obj, _event)\u001b[0m\n\u001b[0;32m    811\u001b[0m \u001b[38;5;28;01mdef\u001b[39;00m \u001b[38;5;21mkeyPressEvent\u001b[39m(\u001b[38;5;28mself\u001b[39m, obj, _event):\n\u001b[0;32m    812\u001b[0m \u001b[38;5;250m    \u001b[39m\u001b[38;5;124;03m\"\"\"Key press event.\"\"\"\u001b[39;00m\n\u001b[1;32m--> 813\u001b[0m     parent \u001b[38;5;241m=\u001b[39m \u001b[43mobj\u001b[49m\u001b[38;5;241;43m.\u001b[39;49m\u001b[43mGetCurrentRenderer\u001b[49m\u001b[43m(\u001b[49m\u001b[43m)\u001b[49m\u001b[38;5;241;43m.\u001b[39;49m\u001b[43mparent\u001b[49m\n\u001b[0;32m    814\u001b[0m     sym \u001b[38;5;241m=\u001b[39m parent\u001b[38;5;241m.\u001b[39miren\u001b[38;5;241m.\u001b[39mGetKeySym()\n\u001b[0;32m    816\u001b[0m     \u001b[38;5;28;01mif\u001b[39;00m sym \u001b[38;5;129;01min\u001b[39;00m \u001b[38;5;124m\"\u001b[39m\u001b[38;5;124mABCabc\u001b[39m\u001b[38;5;124m\"\u001b[39m:\n",
      "\u001b[1;31mAttributeError\u001b[0m: 'NoneType' object has no attribute 'parent'"
     ]
    },
    {
     "ename": "AttributeError",
     "evalue": "'NoneType' object has no attribute 'parent'",
     "output_type": "error",
     "traceback": [
      "\u001b[1;31m---------------------------------------------------------------------------\u001b[0m",
      "\u001b[1;31mAttributeError\u001b[0m                            Traceback (most recent call last)",
      "File \u001b[1;32m~\\.venv\\vlab\\lib\\site-packages\\pymatgen\\vis\\structure_vtk.py:813\u001b[0m, in \u001b[0;36mStructureInteractorStyle.keyPressEvent\u001b[1;34m(self, obj, _event)\u001b[0m\n\u001b[0;32m    811\u001b[0m \u001b[38;5;28;01mdef\u001b[39;00m \u001b[38;5;21mkeyPressEvent\u001b[39m(\u001b[38;5;28mself\u001b[39m, obj, _event):\n\u001b[0;32m    812\u001b[0m \u001b[38;5;250m    \u001b[39m\u001b[38;5;124;03m\"\"\"Key press event.\"\"\"\u001b[39;00m\n\u001b[1;32m--> 813\u001b[0m     parent \u001b[38;5;241m=\u001b[39m \u001b[43mobj\u001b[49m\u001b[38;5;241;43m.\u001b[39;49m\u001b[43mGetCurrentRenderer\u001b[49m\u001b[43m(\u001b[49m\u001b[43m)\u001b[49m\u001b[38;5;241;43m.\u001b[39;49m\u001b[43mparent\u001b[49m\n\u001b[0;32m    814\u001b[0m     sym \u001b[38;5;241m=\u001b[39m parent\u001b[38;5;241m.\u001b[39miren\u001b[38;5;241m.\u001b[39mGetKeySym()\n\u001b[0;32m    816\u001b[0m     \u001b[38;5;28;01mif\u001b[39;00m sym \u001b[38;5;129;01min\u001b[39;00m \u001b[38;5;124m\"\u001b[39m\u001b[38;5;124mABCabc\u001b[39m\u001b[38;5;124m\"\u001b[39m:\n",
      "\u001b[1;31mAttributeError\u001b[0m: 'NoneType' object has no attribute 'parent'"
     ]
    },
    {
     "ename": "AttributeError",
     "evalue": "'NoneType' object has no attribute 'parent'",
     "output_type": "error",
     "traceback": [
      "\u001b[1;31m---------------------------------------------------------------------------\u001b[0m",
      "\u001b[1;31mAttributeError\u001b[0m                            Traceback (most recent call last)",
      "File \u001b[1;32m~\\.venv\\vlab\\lib\\site-packages\\pymatgen\\vis\\structure_vtk.py:813\u001b[0m, in \u001b[0;36mStructureInteractorStyle.keyPressEvent\u001b[1;34m(self, obj, _event)\u001b[0m\n\u001b[0;32m    811\u001b[0m \u001b[38;5;28;01mdef\u001b[39;00m \u001b[38;5;21mkeyPressEvent\u001b[39m(\u001b[38;5;28mself\u001b[39m, obj, _event):\n\u001b[0;32m    812\u001b[0m \u001b[38;5;250m    \u001b[39m\u001b[38;5;124;03m\"\"\"Key press event.\"\"\"\u001b[39;00m\n\u001b[1;32m--> 813\u001b[0m     parent \u001b[38;5;241m=\u001b[39m \u001b[43mobj\u001b[49m\u001b[38;5;241;43m.\u001b[39;49m\u001b[43mGetCurrentRenderer\u001b[49m\u001b[43m(\u001b[49m\u001b[43m)\u001b[49m\u001b[38;5;241;43m.\u001b[39;49m\u001b[43mparent\u001b[49m\n\u001b[0;32m    814\u001b[0m     sym \u001b[38;5;241m=\u001b[39m parent\u001b[38;5;241m.\u001b[39miren\u001b[38;5;241m.\u001b[39mGetKeySym()\n\u001b[0;32m    816\u001b[0m     \u001b[38;5;28;01mif\u001b[39;00m sym \u001b[38;5;129;01min\u001b[39;00m \u001b[38;5;124m\"\u001b[39m\u001b[38;5;124mABCabc\u001b[39m\u001b[38;5;124m\"\u001b[39m:\n",
      "\u001b[1;31mAttributeError\u001b[0m: 'NoneType' object has no attribute 'parent'"
     ]
    },
    {
     "ename": "UFuncTypeError",
     "evalue": "Cannot cast ufunc 'add' output from dtype('float64') to dtype('int64') with casting rule 'same_kind'",
     "output_type": "error",
     "traceback": [
      "\u001b[1;31m---------------------------------------------------------------------------\u001b[0m",
      "\u001b[1;31mUFuncTypeError\u001b[0m                            Traceback (most recent call last)",
      "File \u001b[1;32m~\\.venv\\vlab\\lib\\site-packages\\pymatgen\\vis\\structure_vtk.py:835\u001b[0m, in \u001b[0;36mStructureInteractorStyle.keyPressEvent\u001b[1;34m(self, obj, _event)\u001b[0m\n\u001b[0;32m    833\u001b[0m \u001b[38;5;28;01melif\u001b[39;00m sym \u001b[38;5;241m==\u001b[39m \u001b[38;5;124m\"\u001b[39m\u001b[38;5;124mminus\u001b[39m\u001b[38;5;124m\"\u001b[39m:\n\u001b[0;32m    834\u001b[0m     parent\u001b[38;5;241m.\u001b[39mshow_bonds \u001b[38;5;241m=\u001b[39m \u001b[38;5;129;01mnot\u001b[39;00m parent\u001b[38;5;241m.\u001b[39mshow_bonds\n\u001b[1;32m--> 835\u001b[0m     \u001b[43mparent\u001b[49m\u001b[38;5;241;43m.\u001b[39;49m\u001b[43mredraw\u001b[49m\u001b[43m(\u001b[49m\u001b[43m)\u001b[49m\n\u001b[0;32m    836\u001b[0m \u001b[38;5;28;01melif\u001b[39;00m sym \u001b[38;5;241m==\u001b[39m \u001b[38;5;124m\"\u001b[39m\u001b[38;5;124mbracketleft\u001b[39m\u001b[38;5;124m\"\u001b[39m:\n\u001b[0;32m    837\u001b[0m     parent\u001b[38;5;241m.\u001b[39mpoly_radii_tol_factor \u001b[38;5;241m-\u001b[39m\u001b[38;5;241m=\u001b[39m \u001b[38;5;241m0.05\u001b[39m \u001b[38;5;28;01mif\u001b[39;00m parent\u001b[38;5;241m.\u001b[39mpoly_radii_tol_factor \u001b[38;5;241m>\u001b[39m \u001b[38;5;241m0\u001b[39m \u001b[38;5;28;01melse\u001b[39;00m \u001b[38;5;241m0\u001b[39m\n",
      "File \u001b[1;32m~\\.venv\\vlab\\lib\\site-packages\\pymatgen\\vis\\structure_vtk.py:173\u001b[0m, in \u001b[0;36mStructureVis.redraw\u001b[1;34m(self, reset_camera)\u001b[0m\n\u001b[0;32m    170\u001b[0m tprops\u001b[38;5;241m.\u001b[39mSetColor(\u001b[38;5;241m0\u001b[39m, \u001b[38;5;241m0\u001b[39m, \u001b[38;5;241m0\u001b[39m)\n\u001b[0;32m    172\u001b[0m \u001b[38;5;28;01mif\u001b[39;00m \u001b[38;5;28mself\u001b[39m\u001b[38;5;241m.\u001b[39mstructure \u001b[38;5;129;01mis\u001b[39;00m \u001b[38;5;129;01mnot\u001b[39;00m \u001b[38;5;28;01mNone\u001b[39;00m:\n\u001b[1;32m--> 173\u001b[0m     \u001b[38;5;28;43mself\u001b[39;49m\u001b[38;5;241;43m.\u001b[39;49m\u001b[43mset_structure\u001b[49m\u001b[43m(\u001b[49m\u001b[38;5;28;43mself\u001b[39;49m\u001b[38;5;241;43m.\u001b[39;49m\u001b[43mstructure\u001b[49m\u001b[43m,\u001b[49m\u001b[43m \u001b[49m\u001b[43mreset_camera\u001b[49m\u001b[43m)\u001b[49m\n\u001b[0;32m    175\u001b[0m \u001b[38;5;28mself\u001b[39m\u001b[38;5;241m.\u001b[39mren_win\u001b[38;5;241m.\u001b[39mRender()\n",
      "File \u001b[1;32m~\\.venv\\vlab\\lib\\site-packages\\pymatgen\\vis\\structure_vtk.py:266\u001b[0m, in \u001b[0;36mStructureVis.set_structure\u001b[1;34m(self, structure, reset_camera, to_unit_cell)\u001b[0m\n\u001b[0;32m    264\u001b[0m         \u001b[38;5;28;01mbreak\u001b[39;00m\n\u001b[0;32m    265\u001b[0m     max_radius \u001b[38;5;241m=\u001b[39m \u001b[38;5;28mmax\u001b[39m(max_radius, sp\u001b[38;5;241m.\u001b[39maverage_ionic_radius)\n\u001b[1;32m--> 266\u001b[0m     color \u001b[38;5;241m+\u001b[39m\u001b[38;5;241m=\u001b[39m occu \u001b[38;5;241m*\u001b[39m np\u001b[38;5;241m.\u001b[39marray(\u001b[38;5;28mself\u001b[39m\u001b[38;5;241m.\u001b[39mel_color_mapping\u001b[38;5;241m.\u001b[39mget(sp\u001b[38;5;241m.\u001b[39msymbol, [\u001b[38;5;241m0\u001b[39m, \u001b[38;5;241m0\u001b[39m, \u001b[38;5;241m0\u001b[39m]))\n\u001b[0;32m    268\u001b[0m \u001b[38;5;28;01mif\u001b[39;00m \u001b[38;5;129;01mnot\u001b[39;00m exclude:\n\u001b[0;32m    269\u001b[0m     max_radius \u001b[38;5;241m=\u001b[39m (\u001b[38;5;241m1\u001b[39m \u001b[38;5;241m+\u001b[39m \u001b[38;5;28mself\u001b[39m\u001b[38;5;241m.\u001b[39mpoly_radii_tol_factor) \u001b[38;5;241m*\u001b[39m (max_radius \u001b[38;5;241m+\u001b[39m anion_radius)\n",
      "\u001b[1;31mUFuncTypeError\u001b[0m: Cannot cast ufunc 'add' output from dtype('float64') to dtype('int64') with casting rule 'same_kind'"
     ]
    },
    {
     "data": {
      "text/plain": [
       "None"
      ]
     },
     "metadata": {},
     "output_type": "display_data"
    }
   ],
   "source": [
    "from pymatgen.core.periodic_table import Species\n",
    "from pymatgen.core.sites import Site\n",
    "\n",
    "EuYSO = structure.copy()\n",
    "for i in range(4):\n",
    "    EuYSO.replace(i, Species('Eu3+'))\n",
    "\n",
    "polarization={\"D1\": D1, \"D2\": D2}\n",
    "print(D1)\n",
    "print(D2)\n",
    "\n",
    "'''\n",
    "NOTE: it is currently impossible to see D1, D2 axis and bonds at the same time due to some bug (not sure if it is us or package).\n",
    "A hacky work around is to edit the source code directly. Go to pymatgen/vis/structure_vtk.py in the pymatgen package folder.\n",
    "The path may look something like \"C:/Users/onix/.venv/vlab/Lib/site-packages/pymatgen/vis/structure_vtk.py\". On line 229\n",
    "(in the set_structure method), copy paste the following lines of code (where you replace <D1> with the actual value of the D1 variable):\n",
    "\n",
    "polarization={\"D1\": <D1>, \"D2\": <D2>} \n",
    "for D_ in polarization:\n",
    "    self.add_line((0, 0, 0), polarization[D_], (0,0,0))\n",
    "    self.add_text(polarization[D_], D_, (0,0,0))\n",
    "\n",
    "Also note that you may have to press the show bonds button multiple times for it to appear.\n",
    "'''\n",
    "\n",
    "visualize_struct(EuYSO, polarization=polarization)"
   ]
  },
  {
   "cell_type": "code",
   "execution_count": null,
   "id": "d0c6248e-6fe1-4ce0-8e2b-26024d2a7377",
   "metadata": {},
   "outputs": [],
   "source": []
  }
 ],
 "metadata": {
  "kernelspec": {
   "display_name": "Python 3 (ipykernel)",
   "language": "python",
   "name": "python3"
  },
  "language_info": {
   "codemirror_mode": {
    "name": "ipython",
    "version": 3
   },
   "file_extension": ".py",
   "mimetype": "text/x-python",
   "name": "python",
   "nbconvert_exporter": "python",
   "pygments_lexer": "ipython3",
   "version": "3.10.11"
  }
 },
 "nbformat": 4,
 "nbformat_minor": 5
}
