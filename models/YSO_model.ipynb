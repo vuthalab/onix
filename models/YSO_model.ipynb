{
 "cells": [
  {
   "cell_type": "code",
   "execution_count": 1,
   "id": "4437d933-66c8-4be6-9131-b8af1754b4c9",
   "metadata": {},
   "outputs": [],
   "source": [
    "%matplotlib ipympl\n",
    "\n",
    "import numpy as np\n",
    "import matplotlib.pyplot as plt\n",
    "from IPython.display import display\n",
    "from pymatgen.core import Lattice, Structure, Composition\n",
    "from pymatgen.vis.structure_vtk import StructureVis\n",
    "from pymatgen.transformations import standard_transformations, site_transformations"
   ]
  },
  {
   "cell_type": "code",
   "execution_count": 2,
   "id": "f10fb2b0-5f6a-44a7-ba02-0a62dc4c044a",
   "metadata": {},
   "outputs": [],
   "source": [
    "original_structure = Structure.from_file(\"Y2SiO5-mp3520.cif\").to_conventional()\n",
    "for s in original_structure.sites:\n",
    "    for kk in s.species._data:\n",
    "        s.species._data[kk] = int(s.species._data[kk])  # fix a bug in pymatgen visualization"
   ]
  },
  {
   "cell_type": "code",
   "execution_count": 3,
   "id": "28ee3a6a-b542-48b0-8983-bc155e7bff2a",
   "metadata": {},
   "outputs": [],
   "source": [
    "sites_1 = {}\n",
    "for kk, s in enumerate(original_structure.sites):\n",
    "    if s.species_string == \"Y3+\":\n",
    "        max_bond_distance = 2.9  # 2.7 to 3.1 gives the correct numbers of neighbors (7 / 6).\n",
    "        if len(original_structure.get_neighbors(s, max_bond_distance)) == 7:\n",
    "            sites_1[kk] = \"Eu3+\"\n",
    "original_structure = site_transformations.ReplaceSiteSpeciesTransformation(sites_1).apply_transformation(original_structure)"
   ]
  },
  {
   "cell_type": "code",
   "execution_count": 43,
   "id": "eff6c4c3-7103-4043-b207-fe522a45d7fb",
   "metadata": {},
   "outputs": [],
   "source": [
    "structure = standard_transformations.RotationTransformation([0, 0, 1], 90).apply_transformation(original_structure)\n",
    "\n",
    "def rotate_around_b(vector, angle):\n",
    "    rotation_matrix = np.array(\n",
    "        [\n",
    "            [np.cos(angle), 0, np.sin(angle)],\n",
    "            [0, 1, 0],\n",
    "            [-np.sin(angle), 0, np.cos(angle)],\n",
    "        ]\n",
    "    )\n",
    "    return rotation_matrix @ vector\n",
    "\n",
    "beta = 122.18778465 * np.pi / 180\n",
    "a = np.array([-1, 0, 0]) * 14.43523963\n",
    "b = np.array([0, 1, 0]) * 6.74280580\n",
    "c = 10.42107312 * rotate_around_b(a / np.linalg.norm(a), -beta)\n",
    "\n",
    "angle_D1 = -11.35 * np.pi / 180  # https://doi.org/10.1109/3.135248\n",
    "angle_D2 = angle_D1 - np.pi / 2\n",
    "D1 = rotate_around_b(a / 2, angle_D1)\n",
    "D2 = rotate_around_b(a / 2, angle_D2)\n",
    "\n",
    "def add_crystallographic_axes(vis):\n",
    "    for D_, direction_ in {\"a\": a, \"b\": b, \"c\": c}.items():\n",
    "        vis.add_line((0, 0, 0), direction_)\n",
    "        vis.add_text(direction_, D_)\n",
    "\n",
    "def add_dielectric_axes(vis):\n",
    "    for D_, direction_ in {\"D1\": D1, \"D2\": D2}.items():\n",
    "        vis.add_line((0, 0, 0) + a/2+c/2, direction_+a/2+c/2)\n",
    "        vis.add_text(direction_+a/2+c/2, D_)"
   ]
  },
  {
   "cell_type": "code",
   "execution_count": 44,
   "id": "be5c4052-16c5-4d22-b68c-16daabf8dfd8",
   "metadata": {},
   "outputs": [
    {
     "data": {
      "text/plain": [
       "None"
      ]
     },
     "metadata": {},
     "output_type": "display_data"
    }
   ],
   "source": [
    "vis: StructureVis = StructureVis()\n",
    "vis.show_polyhedron = False  # a bug prevents showing the polyhedron\n",
    "vis.set_structure(structure)\n",
    "add_dielectric_axes(vis)\n",
    "display(vis.show())"
   ]
  },
  {
   "cell_type": "code",
   "execution_count": 6,
   "id": "84ab0858-8116-43a7-8929-57955cbaaa65",
   "metadata": {},
   "outputs": [],
   "source": [
    "sites_indices_to_keep = []\n",
    "for kk, s in enumerate(structure.sites):\n",
    "    if s.species_string == \"Eu3+\":\n",
    "        sites_indices_to_keep.append(kk)\n",
    "        sites_indices_to_keep.extend([ll.index for ll in structure.get_neighbors(s, max_bond_distance)])\n",
    "site_indices_to_remove = [ll for ll, s in enumerate(structure.sites) if ll not in sites_indices_to_keep]\n",
    "reduced_structure = site_transformations.RemoveSitesTransformation(site_indices_to_remove).apply_transformation(structure)"
   ]
  },
  {
   "cell_type": "code",
   "execution_count": 40,
   "id": "69182833-c25c-40d2-b7ce-c27289c7aa51",
   "metadata": {},
   "outputs": [],
   "source": [
    "# We define the coordinate system for each Eu3+.\n",
    "# The vector pointing to the closest oxygen is +x\n",
    "# The cross product of x and the vector pointing to the second closest oxygen is +z\n",
    "# y = cross(z, x)\n",
    "\n",
    "coord_Eus = []\n",
    "hat_xs = []\n",
    "hat_ys = []\n",
    "hat_zs = []\n",
    "\n",
    "for s in reduced_structure.sites:\n",
    "    if s.species_string == \"Eu3+\":\n",
    "        coord_Eus.append(s.coords)\n",
    "        neighbors = reduced_structure.get_neighbors(s, max_bond_distance)\n",
    "        distances = [s.distance(neighbor) for neighbor in neighbors]\n",
    "        orders = np.argsort(distances)\n",
    "        x = neighbors[orders[0]].coords - s.coords\n",
    "        z = np.cross(x, neighbors[orders[1]].coords - s.coords)\n",
    "        y = np.cross(z, x)\n",
    "        hat_xs.append(x / np.linalg.norm(x))\n",
    "        hat_ys.append(y / np.linalg.norm(y))\n",
    "        hat_zs.append(z / np.linalg.norm(z))\n",
    "\n",
    "def add_local_orientation(vis, only_show_x = True):\n",
    "    for kk in range(len(coord_Eus)):\n",
    "        vis.add_line(coord_Eus[kk], coord_Eus[kk] + hat_xs[kk], color=(255, 0, 0), width=3)\n",
    "        if not only_show_x:\n",
    "            vis.add_line(coord_Eus[kk], coord_Eus[kk] + hat_ys[kk], color=(0, 255, 0), width=3)\n",
    "            #vis.add_line(coord_Eus[kk], coord_Eus[kk] + hat_zs[kk], color=(0, 0, 255), width=3)\n",
    "\n",
    "def add_local_simple_orientation(vis):\n",
    "    for kk in range(len(coord_Eus)):\n",
    "        hat_x_D1_D2 = np.array([hat_xs[kk][0], 0, hat_xs[kk][2]])\n",
    "        hat_x_b = np.array([0, hat_xs[kk][1], 0])\n",
    "        vis.add_line(coord_Eus[kk], coord_Eus[kk] + hat_x_D1_D2, color=(255, 0, 255), width=3)\n",
    "        vis.add_line(coord_Eus[kk], coord_Eus[kk] + hat_x_b, color=(0, 255, 0), width=3)"
   ]
  },
  {
   "cell_type": "code",
   "execution_count": 32,
   "id": "3a989e3b-45a4-45d9-b54e-a6a70fa6f3a0",
   "metadata": {},
   "outputs": [
    {
     "name": "stdout",
     "output_type": "stream",
     "text": [
      "0 [ 0.7  -0.46 -0.55] [0.68 0.67 0.31] [ 0.22 -0.59  0.78]\n",
      "1 [-0.7  -0.46  0.55] [-0.68  0.67 -0.31] [-0.22 -0.59 -0.78]\n",
      "2 [-0.7   0.46  0.55] [-0.68 -0.67 -0.31] [ 0.22 -0.59  0.78]\n",
      "3 [ 0.7   0.46 -0.55] [ 0.68 -0.67  0.31] [-0.22 -0.59 -0.78]\n",
      "4 [ 0.7  -0.46 -0.55] [0.68 0.67 0.31] [ 0.22 -0.59  0.78]\n",
      "5 [-0.7  -0.46  0.55] [-0.68  0.67 -0.31] [-0.22 -0.59 -0.78]\n",
      "6 [-0.7   0.46  0.55] [-0.68 -0.67 -0.31] [ 0.22 -0.59  0.78]\n",
      "7 [ 0.7   0.46 -0.55] [ 0.68 -0.67  0.31] [-0.22 -0.59 -0.78]\n"
     ]
    }
   ],
   "source": [
    "for kk in range(len(coord_Eus)):\n",
    "    print(kk, np.around(hat_xs[kk], 2), np.around(hat_ys[kk], 2), np.around(hat_zs[kk], 2))"
   ]
  },
  {
   "cell_type": "code",
   "execution_count": 45,
   "id": "e0a88ba5-23bc-49b6-8eb3-cf961f572f5e",
   "metadata": {},
   "outputs": [
    {
     "data": {
      "text/plain": [
       "None"
      ]
     },
     "metadata": {},
     "output_type": "display_data"
    }
   ],
   "source": [
    "vis: StructureVis = StructureVis()\n",
    "vis.show_polyhedron = False  # a bug prevents showing the polyhedron\n",
    "vis.set_structure(reduced_structure)\n",
    "add_dielectric_axes(vis)\n",
    "add_local_orientation(vis, False)\n",
    "display(vis.show())"
   ]
  },
  {
   "cell_type": "code",
   "execution_count": 47,
   "id": "bc542061-1629-4638-9820-c92153b55619",
   "metadata": {},
   "outputs": [],
   "source": [
    "only_eu_site_indices = []\n",
    "for kk, s in enumerate(reduced_structure.sites):\n",
    "    if s.species_string == \"Eu3+\":\n",
    "        only_eu_site_indices.append(kk)\n",
    "site_indices_to_remove = [ll for ll, s in enumerate(reduced_structure.sites) if ll not in only_eu_site_indices]\n",
    "very_reduced_structure = site_transformations.RemoveSitesTransformation(site_indices_to_remove).apply_transformation(reduced_structure)"
   ]
  },
  {
   "cell_type": "code",
   "execution_count": 49,
   "id": "2fa065c1-b898-4c16-85a4-7a99b1b084e5",
   "metadata": {},
   "outputs": [
    {
     "data": {
      "text/plain": [
       "None"
      ]
     },
     "metadata": {},
     "output_type": "display_data"
    }
   ],
   "source": [
    "vis: StructureVis = StructureVis()\n",
    "vis.show_polyhedron = False  # a bug prevents showing the polyhedron\n",
    "vis.set_structure(very_reduced_structure)\n",
    "add_dielectric_axes(vis)\n",
    "add_local_simple_orientation(vis)\n",
    "display(vis.show())"
   ]
  },
  {
   "cell_type": "code",
   "execution_count": null,
   "id": "43a2def0-8f05-4218-803c-f657f7332c4e",
   "metadata": {},
   "outputs": [],
   "source": []
  }
 ],
 "metadata": {
  "kernelspec": {
   "display_name": "Python 3 (ipykernel)",
   "language": "python",
   "name": "python3"
  },
  "language_info": {
   "codemirror_mode": {
    "name": "ipython",
    "version": 3
   },
   "file_extension": ".py",
   "mimetype": "text/x-python",
   "name": "python",
   "nbconvert_exporter": "python",
   "pygments_lexer": "ipython3",
   "version": "3.12.0"
  }
 },
 "nbformat": 4,
 "nbformat_minor": 5
}
