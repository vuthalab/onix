{
 "cells": [
  {
   "cell_type": "code",
   "execution_count": 3,
   "id": "e6495ac5-6290-4d67-8470-b6656548e84a",
   "metadata": {},
   "outputs": [],
   "source": [
    "import matplotlib.pyplot as plt\n",
    "import numpy as np"
   ]
  },
  {
   "cell_type": "code",
   "execution_count": 41,
   "id": "d99d3a4b-936c-487a-b1d3-8e1a17bed572",
   "metadata": {},
   "outputs": [
    {
     "data": {
      "image/png": "[encoded data removed]",
      "text/plain": [
       "<Figure size 640x480 with 1 Axes>"
      ]
     },
     "metadata": {},
     "output_type": "display_data"
    }
   ],
   "source": [
    "t1 = 0\n",
    "t2 = 10\n",
    "T = 1\n",
    "phi = 0\n",
    "f = 1\n",
    "\n",
    "def rect(t, t0, T):\n",
    "    return np.heaviside((t+T/2-t0), 1) - np.heaviside((t-T/2-t0), 1)\n",
    "\n",
    "def gaussian(t, t0, T):\n",
    "    return np.exp(-(t-t0)**2 / (2 * T**2))\n",
    "    \n",
    "ts = np.linspace(-2, 4, 13)\n",
    "\n",
    "t0 = -0\n",
    "plt.plot(ts, rect(ts, t0, 1), '.')\n",
    "plt.show()\n",
    "\n",
    "def two_pulse_rect(t, t1, t2, T1, T2, phase, freq):\n",
    "    return np.real((rect(t, t1, T1) + np.exp(1j*phase) * rect(t, t2, T2)) * np.exp(2j*np.pi*freq*t))\n",
    "\n",
    "def two_pulse_gauss(t, t1, t2, T1, T2, phase, freq):\n",
    "    return np.real((gaussian(t, t1, T1) + np.exp(1j*phase) * gaussian(t, t2, T2)) * np.exp(2j*np.pi*freq*t))\n",
    "\n",
    "\n",
    "ys = two_pulse_gauss(ts, 0, 10, 2, 2, 2*np.pi, 1)\n",
    "\n",
    "# plt.plot(ts, ys)\n",
    "# plt.plot(ts, np.real(np.exp(2j*np.pi*1*ts)))\n",
    "# plt.show()\n"
   ]
  },
  {
   "cell_type": "code",
   "execution_count": null,
   "id": "1572176f-2104-4656-aa47-83a5eea9b730",
   "metadata": {},
   "outputs": [],
   "source": []
  }
 ],
 "metadata": {
  "kernelspec": {
   "display_name": "Python 3 (ipykernel)",
   "language": "python",
   "name": "python3"
  },
  "language_info": {
   "codemirror_mode": {
    "name": "ipython",
    "version": 3
   },
   "file_extension": ".py",
   "mimetype": "text/x-python",
   "name": "python",
   "nbconvert_exporter": "python",
   "pygments_lexer": "ipython3",
   "version": "3.12.1"
  }
 },
 "nbformat": 4,
 "nbformat_minor": 5
}
