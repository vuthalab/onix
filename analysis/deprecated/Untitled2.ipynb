{
 "cells": [
  {
   "cell_type": "code",
   "execution_count": 5,
   "id": "5013ba51-4416-4139-abc0-0183e01c5cf6",
   "metadata": {},
   "outputs": [],
   "source": [
    "import numpy as np\n",
    "import cProfile"
   ]
  },
  {
   "cell_type": "code",
   "execution_count": 79,
   "id": "720c2d7a-09d2-43df-bb00-3385a90e585f",
   "metadata": {},
   "outputs": [],
   "source": [
    "def data_averaging(data, sample_rate, pulse_times):\n",
    "    \"\"\"Averages digitizer data based on time intervals.\n",
    "\n",
    "    Args:\n",
    "        data: np.array, must be 2-dimensional. The first dimension is repeats (segments).\n",
    "            The second dimension is time indices.\n",
    "        sample_rate: float, sample rate per second.\n",
    "        pulse_times: list of 2-tuples, time intervals to average the data at.\n",
    "\n",
    "    Returns:\n",
    "        (data_avg, data_err)\n",
    "        Both data_avg and data_err has the first dimension as repeats,\n",
    "        and the second dimension as time interval indices (same length as pulse_times).\n",
    "    \"\"\"\n",
    "    if not isinstance(data, np.ndarray):\n",
    "        data = np.array(data)\n",
    "    if not (data.ndim == 2):\n",
    "        raise ValueError(\"The input data must be 2-dimensional\")\n",
    "\n",
    "    data_avg = []\n",
    "    data_err = []\n",
    "\n",
    "    pulse_times = (np.array(pulse_times) * sample_rate).astype(int)\n",
    "    for kk in range(len(pulse_times)):\n",
    "        data_temp = data[:, pulse_times[kk][0]: pulse_times[kk][1]]\n",
    "        scans_avg = np.average(data_temp, axis=1)\n",
    "        scans_err = np.std(data_temp, axis=1) / np.sqrt(pulse_times[kk][1] - pulse_times[kk][0])\n",
    "        data_avg.append(scans_avg)\n",
    "        data_err.append(scans_err)\n",
    "\n",
    "    return np.transpose(data_avg), np.transpose(data_err)\n"
   ]
  },
  {
   "cell_type": "code",
   "execution_count": 80,
   "id": "6494521b-0ef2-4eee-8b22-c35c5fc50b8f",
   "metadata": {},
   "outputs": [],
   "source": [
    "sample_rate = 25e6\n",
    "pulse_times = [(kk * 10 / sample_rate, (kk * 10 + 8) / sample_rate) for kk in range(100)]\n",
    "data = np.random.rand(1000, int(np.max(pulse_times) * sample_rate) + 1000)\n",
    "data2 = [np.random.rand(1000, int(np.max(pulse_times) * sample_rate) + 1000) for kk in range(2)]"
   ]
  },
  {
   "cell_type": "code",
   "execution_count": 81,
   "id": "64f0ca80-0bc5-410d-b367-4507c56ddd53",
   "metadata": {
    "scrolled": true
   },
   "outputs": [
    {
     "data": {
      "text/plain": [
       "(array([[0.44142812, 0.39953061, 0.53251207, ..., 0.49923584, 0.54772942,\n",
       "         0.44087253],\n",
       "        [0.4031101 , 0.47714005, 0.41360519, ..., 0.46642151, 0.50808245,\n",
       "         0.46649804],\n",
       "        [0.39746948, 0.49494637, 0.49663785, ..., 0.54633892, 0.42768751,\n",
       "         0.54443012],\n",
       "        ...,\n",
       "        [0.48150257, 0.49930337, 0.54209152, ..., 0.46307346, 0.56897411,\n",
       "         0.65491443],\n",
       "        [0.7195301 , 0.55267886, 0.39912395, ..., 0.57313944, 0.47690815,\n",
       "         0.655369  ],\n",
       "        [0.33367738, 0.65605285, 0.49003855, ..., 0.53451874, 0.58926763,\n",
       "         0.34811133]]),\n",
       " array([[0.09329384, 0.1123399 , 0.10408813, ..., 0.06603429, 0.10943042,\n",
       "         0.11606133],\n",
       "        [0.06080927, 0.11425919, 0.06710894, ..., 0.11009508, 0.10704043,\n",
       "         0.08547254],\n",
       "        [0.10183091, 0.08863859, 0.07349172, ..., 0.1209623 , 0.09652165,\n",
       "         0.09725247],\n",
       "        ...,\n",
       "        [0.08573186, 0.09594008, 0.10579871, ..., 0.06313389, 0.09417186,\n",
       "         0.12093708],\n",
       "        [0.08464339, 0.10665033, 0.10953736, ..., 0.09665429, 0.07609834,\n",
       "         0.11134376],\n",
       "        [0.09318218, 0.08102526, 0.10275871, ..., 0.09190612, 0.09737659,\n",
       "         0.10207105]]))"
      ]
     },
     "execution_count": 81,
     "metadata": {},
     "output_type": "execute_result"
    }
   ],
   "source": [
    "data_averaging(data, sample_rate, pulse_times)"
   ]
  },
  {
   "cell_type": "code",
   "execution_count": 84,
   "id": "e140d509-3e3b-4005-8c5a-7cac551c5ac7",
   "metadata": {},
   "outputs": [],
   "source": [
    "a = np.array([[[1,2],[3,4]],[[5,6],[7,8]]])"
   ]
  },
  {
   "cell_type": "code",
   "execution_count": 87,
   "id": "b5fbc221-66c0-457d-a151-2a4a6face39e",
   "metadata": {},
   "outputs": [
    {
     "data": {
      "text/plain": [
       "array([1, 2, 3, 4])"
      ]
     },
     "execution_count": 87,
     "metadata": {},
     "output_type": "execute_result"
    }
   ],
   "source": [
    "a.reshape(a.shape[0] * a.shape[1], *a.shape[2:])"
   ]
  },
  {
   "cell_type": "code",
   "execution_count": 86,
   "id": "18fe5e82-5ede-4b53-8305-cbe103ad4822",
   "metadata": {},
   "outputs": [],
   "source": [
    "a = np.array([[1,2], [3,4]])"
   ]
  },
  {
   "cell_type": "code",
   "execution_count": null,
   "id": "f2f099ce-f0ea-43f2-8374-668b36a53ceb",
   "metadata": {},
   "outputs": [],
   "source": []
  }
 ],
 "metadata": {
  "kernelspec": {
   "display_name": "Python 3 (ipykernel)",
   "language": "python",
   "name": "python3"
  },
  "language_info": {
   "codemirror_mode": {
    "name": "ipython",
    "version": 3
   },
   "file_extension": ".py",
   "mimetype": "text/x-python",
   "name": "python",
   "nbconvert_exporter": "python",
   "pygments_lexer": "ipython3",
   "version": "3.12.0"
  }
 },
 "nbformat": 4,
 "nbformat_minor": 5
}
