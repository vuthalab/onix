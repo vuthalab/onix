{
 "cells": [
  {
   "cell_type": "code",
   "execution_count": 1,
   "id": "d1926934-0e0d-460c-a116-0dddbf0e24d5",
   "metadata": {},
   "outputs": [],
   "source": [
    "import numpy as np\n",
    "import matplotlib.pyplot as plt\n",
    "from onix.units import ureg, Q_\n",
    "from onix.analysis.fitter import Fitter"
   ]
  },
  {
   "cell_type": "code",
   "execution_count": 43,
   "id": "0b2fc169-4118-4a10-a8d9-52dd2c043974",
   "metadata": {},
   "outputs": [],
   "source": [
    "# Params\n",
    "V_noise_density = 5e-8 * ureg.V / np.sqrt(1 * ureg.Hz)\n",
    "V_freq = 100 * ureg.kHz # 10 us\n",
    "V_signal = 0.9375 * ureg.V # From pd_model.ipynb assuming 500 uW to photodiode\n",
    "\n",
    "optical_depth_max = 1.5 # max OD of crystal\n",
    "fraction_light_in_sideband = 0.3 \n",
    "fraction_pi_pulse = 0.8\n",
    "\n",
    "N = 4 # Number of datapoints in the antihole\n",
    "M = 20 # Number of offset measurements\n",
    "\n",
    "rabi_freq = 2*np.pi*10e3 * ureg.Hz # Rabi frequency\n",
    "sigma = 30e3 * ureg.Hz # Spread in "
   ]
  },
  {
   "cell_type": "code",
   "execution_count": 44,
   "id": "6aadda9e-d26c-4ff3-bb03-a62c2f779ff7",
   "metadata": {},
   "outputs": [],
   "source": [
    "# To get Vr at specified freq\n",
    "def specified_val_gaussian(x):\n",
    "    return np.exp(-(0 - x) ** 2 / (2 * sigma.magnitude **2))\n",
    "\n",
    "# Fitting Gaussian\n",
    "def Gaussian(x, a, mu, sig, c):\n",
    "    return a * np.exp(-(x-mu)**2 / (2*sig**2)) + c"
   ]
  },
  {
   "cell_type": "code",
   "execution_count": 45,
   "id": "31af5e00-0b08-4e80-b5a1-6387c1a3ffd4",
   "metadata": {},
   "outputs": [
    {
     "name": "stdout",
     "output_type": "stream",
     "text": [
      "[673.8539201696125, 1252.3693710913333, 2167.3072885038437, 3490.646937499265, 5231.31075141988, 7298.220980379083, 9489.40468120829, 11520.9629523604, 13089.427962482681, 13943.946446415774, 13943.946446415774, 13089.427962482681, 11520.9629523604, 9489.40468120829, 7298.220980379083, 5231.31075141988, 3490.646937499265, 2167.3072885038564, 1252.3693710913333, 673.8539201696125]\n",
      "1.5811388300841894e-05 volt\n",
      "59292.70612815712 dimensionless\n"
     ]
    }
   ],
   "source": [
    "V_noise = (V_noise_density * np.sqrt(V_freq)).to(\"V\")\n",
    "SNR = V_signal/V_noise\n",
    "\n",
    "Vc = V_signal\n",
    "Va = Vc*(1-fraction_light_in_sideband) + Vc*fraction_light_in_sideband*np.exp(-optical_depth_max)\n",
    "Va_error = Va/SNR/np.sqrt(N)\n",
    "\n",
    "freqs = np.linspace(-75e3, 75e3, M)\n",
    "\n",
    "diffs = []\n",
    "diff_errors = []\n",
    "SNRs = []\n",
    "\n",
    "def diff_and_errors(freq):\n",
    "    Vr = Va + (Vc-Va)*0.5*(rabi_freq/(2*np.log(2)*sigma))*fraction_pi_pulse*specified_val_gaussian(freq)\n",
    "    Vr_error = Vr/SNR/np.sqrt(N)\n",
    "    \n",
    "    diff = abs(Va - Vr)\n",
    "    diff_error = np.sqrt( Va_error ** 2 + Vr_error ** 2 )\n",
    "\n",
    "    return diff, diff_error\n",
    "    \n",
    "for freq in freqs:    \n",
    "    diff, diff_error = diff_and_errors(freq)\n",
    "    diffs.append(diff.to(\"V\").magnitude)\n",
    "    diff_errors.append(diff_error.to(\"V\").magnitude)\n",
    "    SNRs.append((diff/diff_error).magnitude)\n",
    "\n",
    "print(SNRs)\n",
    "print(V_noise)\n",
    "print(SNR)"
   ]
  },
  {
   "cell_type": "code",
   "execution_count": 46,
   "id": "a58709f9-3c67-49df-9b6f-bea5aaa6280c",
   "metadata": {},
   "outputs": [
    {
     "name": "stdout",
     "output_type": "stream",
     "text": [
      "delta f = 1.1171380766185528 hertz\n"
     ]
    }
   ],
   "source": [
    "sampled_diffs = []\n",
    "for diff, diff_error in zip(diffs, diff_errors):\n",
    "    sampled_diffs.append(np.random.normal(diff, diff_error, 1)[0])\n",
    "\n",
    "fitter = Fitter(Gaussian)\n",
    "fitter.set_data(freqs, sampled_diffs, diff_errors)\n",
    "fitter.set_p0({\"a\" : 0.2, \"mu\" : 0, \"sig\" : sigma.magnitude, \"c\": 0})\n",
    "fitter.fit()\n",
    "\n",
    "a = fitter.results[\"a\"]\n",
    "mu = fitter.results[\"mu\"]\n",
    "sig = fitter.results[\"sig\"]\n",
    "c = fitter.results[\"c\"]\n",
    "\n",
    "delta_f = fitter.errors[\"mu\"] * ureg.Hz\n",
    "print(f\"delta f = {delta_f}\")"
   ]
  },
  {
   "cell_type": "code",
   "execution_count": 47,
   "id": "27695a8b-9f5e-40bf-accf-dc71ee49ce79",
   "metadata": {},
   "outputs": [
    {
     "data": {
      "image/png": "[encoded data removed]",
      "text/plain": [
       "<Figure size 640x480 with 1 Axes>"
      ]
     },
     "metadata": {},
     "output_type": "display_data"
    }
   ],
   "source": [
    "freqs_fit = np.linspace(-75e3, 75e3, 200)\n",
    "plt.plot(freqs_fit, Gaussian(freqs_fit, a, mu, sig, c))\n",
    "plt.plot(freqs, sampled_diffs, '.')\n",
    "plt.show()"
   ]
  },
  {
   "cell_type": "code",
   "execution_count": 48,
   "id": "ae332b0b-fee3-419f-ba9b-c3cd8ced0438",
   "metadata": {},
   "outputs": [
    {
     "name": "stdout",
     "output_type": "stream",
     "text": [
      "delta f = 1.0739607407207263 hertz\n"
     ]
    }
   ],
   "source": [
    "# Projecting HWHM error into the center frequency error\n",
    "FWHM = 2*np.sqrt(2*np.log(2))*sigma\n",
    "HWHM = (FWHM/2).magnitude\n",
    "diff_HWHM, diff_error_HWHM = diff_and_errors(HWHM)\n",
    "delta_f = diff_error_HWHM/diff_HWHM * HWHM/np.sqrt(M) * ureg.Hz\n",
    "print(f\"delta f = {delta_f}\")"
   ]
  },
  {
   "cell_type": "code",
   "execution_count": 49,
   "id": "25973241-78b5-4864-8733-7bc99057687b",
   "metadata": {},
   "outputs": [
    {
     "name": "stdout",
     "output_type": "stream",
     "text": [
      "3.654877660561674 year\n"
     ]
    }
   ],
   "source": [
    "single_measurement_time = 100 * ureg.s\n",
    "delta_f_0 = 1 * ureg.mHz\n",
    "\n",
    "measurement_time = single_measurement_time * (delta_f/delta_f_0)**2\n",
    "\n",
    "print(measurement_time.to(\"year\"))"
   ]
  },
  {
   "cell_type": "code",
   "execution_count": null,
   "id": "cc734e00-eea6-4760-aa87-e14450ab2ad0",
   "metadata": {},
   "outputs": [],
   "source": []
  },
  {
   "cell_type": "code",
   "execution_count": null,
   "id": "9186a7c0-e415-4c4d-ac1b-5c858fcb4beb",
   "metadata": {},
   "outputs": [],
   "source": []
  },
  {
   "cell_type": "code",
   "execution_count": null,
   "id": "1348cce5-4602-4200-b5c6-d2c2972edc73",
   "metadata": {},
   "outputs": [],
   "source": []
  }
 ],
 "metadata": {
  "kernelspec": {
   "display_name": "Python 3 (ipykernel)",
   "language": "python",
   "name": "python3"
  },
  "language_info": {
   "codemirror_mode": {
    "name": "ipython",
    "version": 3
   },
   "file_extension": ".py",
   "mimetype": "text/x-python",
   "name": "python",
   "nbconvert_exporter": "python",
   "pygments_lexer": "ipython3",
   "version": "3.10.11"
  }
 },
 "nbformat": 4,
 "nbformat_minor": 5
}
