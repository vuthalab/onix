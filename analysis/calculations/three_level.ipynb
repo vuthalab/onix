{
 "cells": [
  {
   "cell_type": "code",
   "execution_count": 1,
   "id": "060413e7-eaf1-4e16-a157-3c646bfe403d",
   "metadata": {},
   "outputs": [],
   "source": [
    "import import numpy as np"
   ]
  },
  {
   "cell_type": "code",
   "execution_count": null,
   "id": "8bfc7635-e0b4-49e3-a3ac-1ce14a63f22b",
   "metadata": {},
   "outputs": [],
   "source": [
    "f_a = 0"
   ]
  },
  {
   "cell_type": "code",
   "execution_count": 5,
   "id": "80aee97e-50ec-4e59-968b-10214f2409fc",
   "metadata": {},
   "outputs": [
    {
     "ename": "NameError",
     "evalue": "name 'f_a' is not defined",
     "output_type": "error",
     "traceback": [
      "\u001b[0;31m---------------------------------------------------------------------------\u001b[0m",
      "\u001b[0;31mNameError\u001b[0m                                 Traceback (most recent call last)",
      "Cell \u001b[0;32mIn[5], line 2\u001b[0m\n\u001b[1;32m      1\u001b[0m H \u001b[38;5;241m=\u001b[39m [\n\u001b[0;32m----> 2\u001b[0m     [\u001b[43mf_a\u001b[49m, Omega_a_b, \u001b[38;5;241m0\u001b[39m],\n\u001b[1;32m      3\u001b[0m     [Omega_a_b, f_b, Omega_abar_b],\n\u001b[1;32m      4\u001b[0m     [\u001b[38;5;241m0\u001b[39m, Omega_abar_b, f_abar],\n\u001b[1;32m      5\u001b[0m ]\n",
      "\u001b[0;31mNameError\u001b[0m: name 'f_a' is not defined"
     ]
    }
   ],
   "source": [
    "H = [\n",
    "    [f_a, Omega_a_b, 0],\n",
    "    [Omega_a_b, f_b, Omega_abar_b],\n",
    "    [0, Omega_abar_b, f_abar],\n",
    "]"
   ]
  },
  {
   "cell_type": "code",
   "execution_count": null,
   "id": "dca8fcc5-9837-44e8-a811-6ac06e2d3c40",
   "metadata": {},
   "outputs": [],
   "source": []
  }
 ],
 "metadata": {
  "kernelspec": {
   "display_name": "Python 3 (ipykernel)",
   "language": "python",
   "name": "python3"
  },
  "language_info": {
   "codemirror_mode": {
    "name": "ipython",
    "version": 3
   },
   "file_extension": ".py",
   "mimetype": "text/x-python",
   "name": "python",
   "nbconvert_exporter": "python",
   "pygments_lexer": "ipython3",
   "version": "3.12.1"
  }
 },
 "nbformat": 4,
 "nbformat_minor": 5
}
