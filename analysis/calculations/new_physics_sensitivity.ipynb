{
 "cells": [
  {
   "cell_type": "code",
   "execution_count": 85,
   "id": "fce58a21-ebe4-4987-8770-90217706824a",
   "metadata": {},
   "outputs": [],
   "source": [
    "from functools import partial\n",
    "\n",
    "import numpy as np\n",
    "import scipy.constants as _c\n",
    "from sympy.physics.hydrogen import Psi_nlm\n",
    "from sympy import conjugate, oo, integrate, Symbol, sin, cos, pi, N, I, sqrt\n",
    "import matplotlib.pyplot as plt\n",
    "\n",
    "from onix.models.schiff import MeasurementSettings, Atom, NewPhysicsSensitivities\n",
    "from onix.units import ureg, Q_"
   ]
  },
  {
   "cell_type": "markdown",
   "id": "8c0b7468-d687-4a8f-b4a4-7fc836be20be",
   "metadata": {},
   "source": [
    "## Effective electric field"
   ]
  },
  {
   "cell_type": "markdown",
   "id": "1cf366aa-c407-48b9-9e20-6f93709ac4b2",
   "metadata": {},
   "source": [
    "There are three calculations of the static polarizability of the 7F0 state in vacuum. \n",
    "* https://doi.org/10.1103/PhysRevA.101.042504: Table III, 7 a.u.\n",
    "* https://doi.org/10.1016/j.chemphys.2004.10.014, Table 6, 0.823 a.u. (1.11 a.u. in ref [3] within)\n",
    "\n",
    "However, no calculation for the excited state is present and no calculation of the Eu:YSO is present. Below we present three methods estimating the electric field on Eu atom along the D1 direction."
   ]
  },
  {
   "cell_type": "code",
   "execution_count": 2,
   "id": "bef9bde8-bbf4-4d66-8533-5abe5fb0c544",
   "metadata": {},
   "outputs": [],
   "source": [
    "def polarizability_atomic_unit_to_SI(polarizability_au):\n",
    "    \"\"\"Converts a polarizability from atomic units to SI units.\n",
    "\n",
    "    See https://link.aps.org/doi/10.1103/PhysRevA.83.012503, text below Eq. 13.\n",
    "    \"\"\"\n",
    "    a0 = _c.physical_constants[\"Bohr radius\"][0]\n",
    "    polarizability_au_to_SI = 4 * np.pi * _c.epsilon_0 * a0**3\n",
    "    return polarizability_au * polarizability_au_to_SI * ureg.A**2 * ureg.s**4 / ureg.kg \n",
    "\n",
    "def Stark_shift_coefficient(polarizability_SI, electric_field):\n",
    "    return polarizability_SI * electric_field * 2\n",
    "\n",
    "def Stark_shift(polarizability_SI, electric_field):\n",
    "    return polarizability_SI * electric_field ** 2"
   ]
  },
  {
   "cell_type": "markdown",
   "id": "76690b61-066e-4936-b2ed-9807a60b41cf",
   "metadata": {},
   "source": [
    "### from the Stark shift coefficient and a conservative 100 a.u. differential scalar static polarizability.\n",
    "\n",
    "If we assume the differential scalar static polarizability between the 5D0 and 7F0 states in Eu:YSO could be large, say 100 a.u."
   ]
  },
  {
   "cell_type": "code",
   "execution_count": 3,
   "id": "c554d5a2-10e9-4112-b391-2faf728c358f",
   "metadata": {},
   "outputs": [
    {
     "name": "stdout",
     "output_type": "stream",
     "text": [
      "The calculated Stark shift coefficient is 27.2 centimeter * kilohertz / volt at 0.547 megavolt / centimeter and 100 a.u. DSSP.\n",
      "The measured Stark shift coefficient is 27.2 centimeter * kilohertz / volt.\n"
     ]
    }
   ],
   "source": [
    "measured_Stark_coefficient = 27.18 * ureg.kHz / (ureg.V / ureg.cm)\n",
    "dssp_au = 100  # very conservative\n",
    "dssp_SI = polarizability_atomic_unit_to_SI(dssp_au)\n",
    "electric_field = 0.547 * ureg.MV / ureg.cm\n",
    "Stark_coefficient_from_dssp = Stark_shift_coefficient(dssp_SI, electric_field) / ureg.planck_constant\n",
    "print(f\"The calculated Stark shift coefficient is {Stark_coefficient_from_dssp.to('kHz/(V/cm)'):.1f} at {electric_field} and {dssp_au} a.u. DSSP.\")\n",
    "print(f\"The measured Stark shift coefficient is {measured_Stark_coefficient.to('kHz/(V/cm)'):.1f}.\")"
   ]
  },
  {
   "cell_type": "markdown",
   "id": "3d167418-4e80-4dea-8970-e0416644499d",
   "metadata": {},
   "source": [
    "### from the Stark shift coefficient and an optimistic 1 a.u. differential scalar static polarizability.\n",
    "\n",
    "If we assume the differential scalar static polarizability between the 5D0 and 7F0 states in Eu:YSO is comparable to the 7F0 polarizability in vacuum, say 1 a.u."
   ]
  },
  {
   "cell_type": "code",
   "execution_count": 4,
   "id": "d5e2d86a-e26e-4426-8dc4-83d96066c753",
   "metadata": {},
   "outputs": [
    {
     "name": "stdout",
     "output_type": "stream",
     "text": [
      "The calculated Stark shift coefficient is 27.2 centimeter * kilohertz / volt at 54.7 megavolt / centimeter and 1 a.u. DSSP.\n",
      "The measured Stark shift coefficient is 27.2 centimeter * kilohertz / volt.\n"
     ]
    }
   ],
   "source": [
    "measured_Stark_coefficient = 27.18 * ureg.kHz / (ureg.V / ureg.cm)\n",
    "dssp_au = 1  # reasonable\n",
    "dssp_SI = polarizability_atomic_unit_to_SI(dssp_au)\n",
    "electric_field = 54.7 * ureg.MV / ureg.cm\n",
    "Stark_coefficient_from_dssp = Stark_shift_coefficient(dssp_SI, electric_field) / ureg.planck_constant\n",
    "print(f\"The calculated Stark shift coefficient is {Stark_coefficient_from_dssp.to('kHz/(V/cm)'):.1f} at {electric_field} and {dssp_au} a.u. DSSP.\")\n",
    "print(f\"The measured Stark shift coefficient is {measured_Stark_coefficient.to('kHz/(V/cm)'):.1f}.\")"
   ]
  },
  {
   "cell_type": "code",
   "execution_count": 5,
   "id": "6787f05f-2c9f-4d5b-a154-45d6de17a77b",
   "metadata": {},
   "outputs": [
    {
     "name": "stdout",
     "output_type": "stream",
     "text": [
      "The calculated Stark shift is 745 gigahertz at 54.7 megavolt / centimeter and 1 a.u. DSSP.\n",
      "The actual Stark shift is -894 gigahertz.\n"
     ]
    }
   ],
   "source": [
    "# from the optical Stark shift from free-space Eu transition frequency\n",
    "Eu_optical_free_space = 17270 * ureg.cm**-1 * ureg.c * ureg.planck_constant\n",
    "Eu_optical_YSO = 516847.5 * ureg.GHz * ureg.planck_constant\n",
    "Eu_Stark_shift = Eu_optical_YSO - Eu_optical_free_space\n",
    "print(f\"The calculated Stark shift is {(Stark_shift(dssp_SI, electric_field) / ureg.planck_constant).to('GHz'):.0f} at {electric_field} and {dssp_au} a.u. DSSP.\")\n",
    "print(f\"The actual Stark shift is {Eu_Stark_shift / ureg.planck_constant:.0f}.\")"
   ]
  },
  {
   "cell_type": "code",
   "execution_count": 6,
   "id": "f7981bc9-e013-4587-9841-c8cdc1da800e",
   "metadata": {},
   "outputs": [
    {
     "name": "stdout",
     "output_type": "stream",
     "text": [
      "The calculated Stark shift coefficient is 2.5 centimeter * hertz / volt at 100.0 megavolt / centimeter and 5e-05 a.u. DSSP.\n",
      "The measured Stark shift coefficient is 2.6 centimeter * hertz / volt.\n",
      "The calculated Stark shift is 124 megahertz at 100.0 megavolt / centimeter and 5e-05 a.u. DSSP.\n",
      "The actual Stark shift is 119.0 megahertz.\n"
     ]
    }
   ],
   "source": [
    "# select DSSP and electric field so that both the hyperfine splitting and Stark shift coefficient agrees with experiment.\n",
    "# This is only approximate as the electric field affects both the D and E terms in the Q tensor,\n",
    "# so the splitting is not perfectly quadratic with the electric field.\n",
    "Eu_Stark_ab = 119 * ureg.MHz * ureg.planck_constant\n",
    "Eu_Stark_coefficient_ab = 1.0 * ureg.Hz * ureg.cm / ureg.V * 2.58  # PhysRevLett.113.157603, scaled to 153Eu\n",
    "dssp_ab_au = 0.00005\n",
    "dssp_ab_SI = polarizability_atomic_unit_to_SI(dssp_ab_au)\n",
    "electric_field_ab = 100 * ureg.MV / ureg.cm\n",
    "Stark_coefficient_from_dssp_ab = Stark_shift_coefficient(dssp_ab_SI, electric_field_ab) / ureg.planck_constant\n",
    "print(f\"The calculated Stark shift coefficient is {Stark_coefficient_from_dssp_ab.to('Hz/(V/cm)'):.1f} at {electric_field_ab} and {dssp_ab_au} a.u. DSSP.\")\n",
    "print(f\"The measured Stark shift coefficient is {Eu_Stark_coefficient_ab.to('Hz/(V/cm)'):.1f}.\")\n",
    "print(f\"The calculated Stark shift is {(Stark_shift(dssp_ab_SI, electric_field_ab) / ureg.planck_constant).to('MHz'):.0f} at {electric_field_ab} and {dssp_ab_au} a.u. DSSP.\")\n",
    "print(f\"The actual Stark shift is {Eu_Stark_ab / ureg.planck_constant}.\")"
   ]
  },
  {
   "cell_type": "code",
   "execution_count": 7,
   "id": "c6999bf1-024e-4f97-a5bf-8ac8ab8a7422",
   "metadata": {},
   "outputs": [
    {
     "name": "stdout",
     "output_type": "stream",
     "text": [
      "The calculated Stark shift coefficient is 1.1 centimeter * hertz / volt at 150.0 megavolt / centimeter and 1.5e-05 a.u. DSSP.\n",
      "The measured Stark shift coefficient is 1.1 centimeter * hertz / volt.\n",
      "The calculated Stark shift is 84 megahertz at 150.0 megavolt / centimeter and 1.5e-05 a.u. DSSP.\n",
      "The actual Stark shift is 89.0 megahertz.\n"
     ]
    }
   ],
   "source": [
    "# select DSSP and electric field so that both the hyperfine splitting and Stark shift coefficient agrees with experiment.\n",
    "# This is only approximate as the electric field affects both the D and E terms in the Q tensor,\n",
    "# so the splitting is not perfectly quadratic with the electric field.\n",
    "Eu_Stark_bc = 89 * ureg.MHz * ureg.planck_constant\n",
    "Eu_Stark_coefficient_bc = 0.43 * ureg.Hz * ureg.cm / ureg.V * 2.58  # PhysRevLett.113.157603, scaled to 153Eu\n",
    "dssp_bc_au = 0.000015\n",
    "dssp_bc_SI = polarizability_atomic_unit_to_SI(dssp_bc_au)\n",
    "electric_field_bc = 150 * ureg.MV / ureg.cm\n",
    "Stark_coefficient_from_dssp_bc = Stark_shift_coefficient(dssp_bc_SI, electric_field_bc) / ureg.planck_constant\n",
    "print(f\"The calculated Stark shift coefficient is {Stark_coefficient_from_dssp_bc.to('Hz/(V/cm)'):.1f} at {electric_field_bc} and {dssp_bc_au} a.u. DSSP.\")\n",
    "print(f\"The measured Stark shift coefficient is {Eu_Stark_coefficient_bc.to('Hz/(V/cm)'):.1f}.\")\n",
    "print(f\"The calculated Stark shift is {(Stark_shift(dssp_bc_SI, electric_field_bc) / ureg.planck_constant).to('MHz'):.0f} at {electric_field_bc} and {dssp_bc_au} a.u. DSSP.\")\n",
    "print(f\"The actual Stark shift is {Eu_Stark_bc / ureg.planck_constant}.\")"
   ]
  },
  {
   "cell_type": "markdown",
   "id": "d4079472-1a81-44a5-941a-9b98e2a8a535",
   "metadata": {},
   "source": [
    "### from linear and quadratic optical Stark shift coefficients\n",
    "\n",
    "Measurement of the linear Stark shift coefficient and constraints on the quadratic Stark shift coefficient between 5D0 and 7F0 was done in YSO: https://doi.org/10.1063/5.0025356. Assuming that the Stark shift is purely quadratic, we can calculate a lower bound on the electric field using the linear and quadratic Stark shift coefficients. Namely, the electric field $E = \\beta/(2\\alpha)$, where $\\beta$ is the linear Stark shift coefficient and $\\alpha$ is the quadratic Stark shift coefficient."
   ]
  },
  {
   "cell_type": "code",
   "execution_count": 8,
   "id": "e7e756df-31f4-429b-b51d-1c22c2bfdfdb",
   "metadata": {},
   "outputs": [
    {
     "name": "stdout",
     "output_type": "stream",
     "text": [
      "Minimum field calculated along D1 is 4.5 megavolt / centimeter.\n",
      "Minimum field calculated along D2 is 9.3 megavolt / centimeter.\n"
     ]
    }
   ],
   "source": [
    "measured_linear_Stark_coefficient_D1 = 27.18 * ureg.kHz / (ureg.V / ureg.cm)\n",
    "measured_quadratic_Stark_coefficient_D1_bound = 3e-3 * ureg.Hz / (ureg.V / ureg.cm) ** 2\n",
    "print(f\"Minimum field calculated along D1 is {(measured_linear_Stark_coefficient_D1 / measured_quadratic_Stark_coefficient_D1_bound / 2).to('MV/cm'):.1f}.\")\n",
    "\n",
    "measured_linear_Stark_coefficient_D2 = 18.61 * ureg.kHz / (ureg.V / ureg.cm)\n",
    "measured_quadratic_Stark_coefficient_D2_bound = 1e-3 * ureg.Hz / (ureg.V / ureg.cm) ** 2\n",
    "print(f\"Minimum field calculated along D2 is {(measured_linear_Stark_coefficient_D2 / measured_quadratic_Stark_coefficient_D2_bound / 2).to('MV/cm'):.1f}.\")"
   ]
  },
  {
   "cell_type": "markdown",
   "id": "dee08a64-2f20-43f7-9db4-d2f0ce985aee",
   "metadata": {},
   "source": [
    "Since the two numbers here are lower bounds, and we think the field along D1 should be larger than the field along D2, so we estimate the effective field along D1 to be greater than 10 MV/cm."
   ]
  },
  {
   "cell_type": "markdown",
   "id": "d01a0f49-9bbc-4893-a8fb-dd85a08bd09d",
   "metadata": {},
   "source": [
    "Dependent on the method and approximation used, the result effective E field range from 0.5 to 50 MV / cm. The most reasonable approximation is probably using the measured linear and quadratic shift coefficients, so we estimate the effective field to be 10 MV/cm in calculations below."
   ]
  },
  {
   "cell_type": "markdown",
   "id": "dc5a1be4-9944-4086-9ded-b0ce445f8ca3",
   "metadata": {},
   "source": [
    "### Electric field along the nuclear spin"
   ]
  },
  {
   "cell_type": "code",
   "execution_count": 9,
   "id": "31cf79fe-cbc7-4376-b83a-fbdd69d5b30e",
   "metadata": {},
   "outputs": [],
   "source": [
    "effective_E_field = 10 * ureg.MV / ureg.cm\n",
    "hat_I_dot_hat_n_b = 0.3  # b state\n",
    "effective_E_field_along_I_b = effective_E_field * hat_I_dot_hat_n_b"
   ]
  },
  {
   "cell_type": "markdown",
   "id": "bcd76897-20b1-48eb-a26d-76288cf32bb8",
   "metadata": {},
   "source": [
    "## Europium atom"
   ]
  },
  {
   "cell_type": "code",
   "execution_count": 10,
   "id": "01adf14f-9aee-4335-8273-2f2d61cb59f6",
   "metadata": {},
   "outputs": [],
   "source": [
    "# Table IV of Flambaum and Dzuba PRA 101, 042504 (2020).\n",
    "# K_Z from the EDM sensitivity normalized to 225Ra value.\n",
    "K_S = 3.7\n",
    "K_Z = abs(0.33 / -8.25)\n",
    "eu153_triple_charged = Atom(K_S, K_Z, effective_E_field_along_I_b)"
   ]
  },
  {
   "cell_type": "code",
   "execution_count": 11,
   "id": "907de4a7-99b5-41c3-8c80-dc5f3d1e1697",
   "metadata": {},
   "outputs": [],
   "source": [
    "b_bbar_frequency_uncertainty = 2 * ureg.mHz\n",
    "# factor of 2 from b and bbar state opposite sensivitity\n",
    "theta_QCD_bound = (b_bbar_frequency_uncertainty / (eu153_triple_charged.frequency_shift_in_theta_QCD * 2)).to(\"\").magnitude"
   ]
  },
  {
   "cell_type": "code",
   "execution_count": 12,
   "id": "dbf0aa6a-580f-4ed7-8b4f-b1041d903216",
   "metadata": {},
   "outputs": [
    {
     "name": "stdout",
     "output_type": "stream",
     "text": [
      "With 2 millihertz b - bbar splitting measurement uncertainty:\n",
      "theta_QCD is constrained at 1.0e-07.\n",
      "\\tilta{d}_u - \\tilta{d}_d chromo EDM difference is constrained at 1.9e-24 centimeter.\n",
      "New physics particle mass is constrained at above 3.4e-01 THz.\n"
     ]
    }
   ],
   "source": [
    "sensitivity = NewPhysicsSensitivities(theta_QCD_bound)\n",
    "print(f\"With {b_bbar_frequency_uncertainty} b - bbar splitting measurement uncertainty:\")\n",
    "print(f\"theta_QCD is constrained at {theta_QCD_bound:.1e}.\")\n",
    "print(\"\\\\tilta{d}_u - \\\\tilta{d}_d chromo EDM difference is constrained at \" + f\"{sensitivity.chromo_edm_difference:.1e}.\")\n",
    "print(\"New physics particle mass is constrained at above \" + f\"{sensitivity.new_particle_mass:.1e} THz.\")"
   ]
  },
  {
   "cell_type": "markdown",
   "id": "53bddfac-e593-45c3-aaa5-07a137a2f385",
   "metadata": {},
   "source": [
    "## Estimation of the molecular enhancement from EuO charge transfer"
   ]
  },
  {
   "cell_type": "code",
   "execution_count": 96,
   "id": "419c6ceb-910f-4788-acb8-7deb48b49e88",
   "metadata": {},
   "outputs": [],
   "source": [
    "# https://chem.libretexts.org/Courses/Saint_Marys_College_Notre_Dame_IN/CHEM_342%3A_Bio-inorganic_Chemistry/Readings/Week_1%3A_Analysis_of_Periodic_Trends/1.1%3A_Concepts_and_principles_that_explain_periodic_trends/1.1.2%3A_Effective_Nuclear_Charge\n",
    "\n",
    "def Psi_H_1s(r, theta, phi):\n",
    "    Z = 1\n",
    "    n = 1\n",
    "    l = 0\n",
    "    m = 0\n",
    "    return Psi_nlm(n, l, m, r, phi, theta, Z)\n",
    "    \n",
    "def Psi_H_2s(r, theta, phi):\n",
    "    Z = 1\n",
    "    n = 2\n",
    "    l = 0\n",
    "    m = 0\n",
    "    return Psi_nlm(n, l, m, r, phi, theta, Z)\n",
    "    \n",
    "def Psi_H_2p(m, r, theta, phi):\n",
    "    Z = 1\n",
    "    n = 2\n",
    "    l = 1\n",
    "    return Psi_nlm(n, l, m, r, phi, theta, Z)\n",
    "    \n",
    "def Psi_Eu3p_4f(m, r, theta, phi):\n",
    "    e_5s = 2\n",
    "    e_5p = 6\n",
    "    Z = e_5s + e_5p + 1\n",
    "    n = 4\n",
    "    l = 3\n",
    "    return Psi_nlm(n, l, m, r, phi, theta, Z)\n",
    "\n",
    "def Psi_O2m_nd(n, m, r, theta, phi):\n",
    "    # the other oxygen electron comes from another bond\n",
    "    Z = 1\n",
    "    l = 2\n",
    "    return Psi_nlm(n, l, m, r, phi, theta, Z)"
   ]
  },
  {
   "cell_type": "code",
   "execution_count": 97,
   "id": "52cf27ad-45cc-458d-b833-236f09d88fde",
   "metadata": {},
   "outputs": [
    {
     "data": {
      "image/png": "[encoded data removed]",
      "text/plain": [
       "<Figure size 640x480 with 1 Axes>"
      ]
     },
     "metadata": {},
     "output_type": "display_data"
    }
   ],
   "source": [
    "fig, ax = plt.subplots()\n",
    "rs = np.linspace(0, 20, 500)\n",
    "ax.plot(rs, [Psi_H_1s(r, 0, 0) for r in rs])\n",
    "ax.plot(rs, [Psi_Eu3p_4f(0, r, 0, 0) for r in rs])\n",
    "ax.plot(rs, [Psi_O2m_nd(3, 0, r, 0, 0) for r in rs])\n",
    "plt.show()"
   ]
  },
  {
   "cell_type": "code",
   "execution_count": 107,
   "id": "ee9256e7-8fe9-404e-9401-a59d63d313ff",
   "metadata": {},
   "outputs": [
    {
     "name": "stdout",
     "output_type": "stream",
     "text": [
      "2 z 1253826625536*sqrt(6)/26439622160671\n",
      "1 - -2507653251072*sqrt(3)/26439622160671\n",
      "0.0404796726813210\n"
     ]
    }
   ],
   "source": [
    "r = Symbol(\"r\", positive=True)\n",
    "theta = Symbol(\"theta\", real=True)\n",
    "phi = Symbol(\"phi\", real=True)\n",
    "\n",
    "E1_z = r * cos(theta)\n",
    "E1_p = (r * sin(theta) * cos(phi) + r * sin(theta) * sin(phi) * I) / sqrt(2)\n",
    "E1_m = (r * sin(theta) * cos(phi) - r * sin(theta) * sin(phi) * I) / sqrt(2)\n",
    "\n",
    "def braket_integrate(Psi_1, Psi_2, operator):\n",
    "    return integrate(Psi_1(r, theta, phi) * conjugate(Psi_2(r, theta, phi)) * r**2 * sin(theta) * operator, (r, 0, oo), (phi, 0, 2*pi), (theta, 0, pi))\n",
    "\n",
    "Psi_Eu = partial(Psi_Eu3p_4f, 2)\n",
    "n_hole = 3\n",
    "squared_braket_sum = 0\n",
    "for kk, operator in enumerate([E1_z, E1_p, E1_m]):\n",
    "    for m in [-2, -1, 0, 1, 2]:\n",
    "        braket = braket_integrate(Psi_Eu, partial(Psi_O2m_nd, n_hole, m), operator)\n",
    "        if braket != 0:\n",
    "            if kk == 0:\n",
    "                operator_name = \"z\"\n",
    "            elif kk == 1:\n",
    "                operator_name = \"+\"\n",
    "            elif kk == 2:\n",
    "                operator_name = \"-\"\n",
    "            else:\n",
    "                operator_name = \"wrong\"\n",
    "            print(m, operator_name, braket)\n",
    "            squared_braket_sum += braket ** 2\n",
    "print(N(squared_braket_sum))"
   ]
  },
  {
   "cell_type": "markdown",
   "id": "9b8206b9-6795-4ba0-9836-afe16630be1f",
   "metadata": {},
   "source": [
    "## Sanity check: Hydrogen transition dipole MEs"
   ]
  },
  {
   "cell_type": "code",
   "execution_count": 81,
   "id": "35ec606b-b9d0-4ff5-a0f6-062968f0d219",
   "metadata": {},
   "outputs": [
    {
     "name": "stdout",
     "output_type": "stream",
     "text": [
      "0\n"
     ]
    }
   ],
   "source": [
    "# check: H 1s -> 1s\n",
    "print(N(braket_integrate(Psi_H_1s, Psi_H_1s, r * cos(theta))))"
   ]
  },
  {
   "cell_type": "code",
   "execution_count": 80,
   "id": "ba966cd1-8fb7-4eda-8b09-2b3774bd7f62",
   "metadata": {},
   "outputs": [
    {
     "name": "stdout",
     "output_type": "stream",
     "text": [
      "0\n"
     ]
    }
   ],
   "source": [
    "# check: H 1s -> 2s\n",
    "print(N(braket_integrate(Psi_H_1s, Psi_H_2s, r * cos(theta))))"
   ]
  },
  {
   "cell_type": "code",
   "execution_count": 86,
   "id": "0858cc95-dcfa-4606-b6a5-e01cdf12ee99",
   "metadata": {},
   "outputs": [
    {
     "name": "stdout",
     "output_type": "stream",
     "text": [
      "0.744935539027803\n",
      "0\n",
      "0\n"
     ]
    }
   ],
   "source": [
    "# check: H 1s -> 2p (m=0)\n",
    "print(N(braket_integrate(Psi_H_1s, partial(Psi_H_2p, 0), E1_z)))\n",
    "print(N(braket_integrate(Psi_H_1s, partial(Psi_H_2p, 0), E1_p)))\n",
    "print(N(braket_integrate(Psi_H_1s, partial(Psi_H_2p, 0), E1_m)))"
   ]
  },
  {
   "cell_type": "code",
   "execution_count": 88,
   "id": "136205a6-e3d0-43e0-9f0b-bd259456a72c",
   "metadata": {},
   "outputs": [
    {
     "name": "stdout",
     "output_type": "stream",
     "text": [
      "0\n",
      "-0.744935539027803\n",
      "0\n"
     ]
    }
   ],
   "source": [
    "# check: H 1s -> 2p (m=1)\n",
    "print(N(braket_integrate(Psi_H_1s, partial(Psi_H_2p, 1), E1_z)))\n",
    "print(N(braket_integrate(Psi_H_1s, partial(Psi_H_2p, 1), E1_p)))\n",
    "print(N(braket_integrate(Psi_H_1s, partial(Psi_H_2p, 1), E1_m)))"
   ]
  },
  {
   "cell_type": "code",
   "execution_count": 89,
   "id": "243645e9-4f63-43db-bf1c-c52ecb518318",
   "metadata": {},
   "outputs": [
    {
     "name": "stdout",
     "output_type": "stream",
     "text": [
      "0\n",
      "0\n",
      "0.744935539027803\n"
     ]
    }
   ],
   "source": [
    "# check: H 1s -> 2p (m=-1)\n",
    "print(N(braket_integrate(Psi_H_1s, partial(Psi_H_2p, -1), E1_z)))\n",
    "print(N(braket_integrate(Psi_H_1s, partial(Psi_H_2p, -1), E1_p)))\n",
    "print(N(braket_integrate(Psi_H_1s, partial(Psi_H_2p, -1), E1_m)))"
   ]
  },
  {
   "cell_type": "code",
   "execution_count": null,
   "id": "58ddebd9-67e5-499f-a1e6-a2578c7846cb",
   "metadata": {},
   "outputs": [],
   "source": []
  }
 ],
 "metadata": {
  "kernelspec": {
   "display_name": "Python 3 (ipykernel)",
   "language": "python",
   "name": "python3"
  },
  "language_info": {
   "codemirror_mode": {
    "name": "ipython",
    "version": 3
   },
   "file_extension": ".py",
   "mimetype": "text/x-python",
   "name": "python",
   "nbconvert_exporter": "python",
   "pygments_lexer": "ipython3",
   "version": "3.12.0"
  }
 },
 "nbformat": 4,
 "nbformat_minor": 5
}
