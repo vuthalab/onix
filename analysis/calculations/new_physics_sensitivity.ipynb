{
 "cells": [
  {
   "cell_type": "code",
   "execution_count": 1,
   "id": "fce58a21-ebe4-4987-8770-90217706824a",
   "metadata": {},
   "outputs": [],
   "source": [
    "import numpy as np\n",
    "import scipy.constants as _c\n",
    "\n",
    "from onix.models.schiff import MeasurementSettings, Atom, NewPhysicsSensitivities\n",
    "from onix.units import ureg, Q_"
   ]
  },
  {
   "cell_type": "markdown",
   "id": "8c0b7468-d687-4a8f-b4a4-7fc836be20be",
   "metadata": {},
   "source": [
    "## Effective electric field"
   ]
  },
  {
   "cell_type": "markdown",
   "id": "1cf366aa-c407-48b9-9e20-6f93709ac4b2",
   "metadata": {},
   "source": [
    "There are three calculations of the static polarizability of the 7F0 state in vacuum. \n",
    "* https://doi.org/10.1103/PhysRevA.101.042504: Table III, 7 a.u.\n",
    "* https://doi.org/10.1016/j.chemphys.2004.10.014, Table 6, 0.823 a.u. (1.11 a.u. in ref [3] within)\n",
    "\n",
    "However, no calculation for the excited state is present and no calculation of the Eu:YSO is present. Below we present three methods estimating the electric field on Eu atom along the D1 direction."
   ]
  },
  {
   "cell_type": "code",
   "execution_count": 2,
   "id": "bef9bde8-bbf4-4d66-8533-5abe5fb0c544",
   "metadata": {},
   "outputs": [],
   "source": [
    "def polarizability_atomic_unit_to_SI(polarizability_au):\n",
    "    \"\"\"Converts a polarizability from atomic units to SI units.\n",
    "\n",
    "    See https://link.aps.org/doi/10.1103/PhysRevA.83.012503, text below Eq. 13.\n",
    "    \"\"\"\n",
    "    a0 = _c.physical_constants[\"Bohr radius\"][0]\n",
    "    polarizability_au_to_SI = 4 * np.pi * _c.epsilon_0 * a0**3\n",
    "    return polarizability_au * polarizability_au_to_SI * ureg.A**2 * ureg.s**4 / ureg.kg \n",
    "\n",
    "def Stark_shift_coefficient(polarizability_SI, electric_field):\n",
    "    return polarizability_SI * electric_field * 2\n",
    "\n",
    "def Stark_shift(polarizability_SI, electric_field):\n",
    "    return polarizability_SI * electric_field ** 2"
   ]
  },
  {
   "cell_type": "markdown",
   "id": "76690b61-066e-4936-b2ed-9807a60b41cf",
   "metadata": {},
   "source": [
    "### from the Stark shift coefficient and a conservative 100 a.u. differential scalar static polarizability.\n",
    "\n",
    "If we assume the differential scalar static polarizability between the 5D0 and 7F0 states in Eu:YSO could be large, say 100 a.u."
   ]
  },
  {
   "cell_type": "code",
   "execution_count": 3,
   "id": "c554d5a2-10e9-4112-b391-2faf728c358f",
   "metadata": {},
   "outputs": [
    {
     "name": "stdout",
     "output_type": "stream",
     "text": [
      "The calculated Stark shift coefficient is 27.2 centimeter * kilohertz / volt at 0.547 megavolt / centimeter and 100 a.u. DSSP.\n",
      "The measured Stark shift coefficient is 27.2 centimeter * kilohertz / volt.\n"
     ]
    }
   ],
   "source": [
    "measured_Stark_coefficient = 27.18 * ureg.kHz / (ureg.V / ureg.cm)\n",
    "dssp_au = 100  # very conservative\n",
    "dssp_SI = polarizability_atomic_unit_to_SI(dssp_au)\n",
    "electric_field = 0.547 * ureg.MV / ureg.cm\n",
    "Stark_coefficient_from_dssp = Stark_shift_coefficient(dssp_SI, electric_field) / ureg.planck_constant\n",
    "print(f\"The calculated Stark shift coefficient is {Stark_coefficient_from_dssp.to('kHz/(V/cm)'):.1f} at {electric_field} and {dssp_au} a.u. DSSP.\")\n",
    "print(f\"The measured Stark shift coefficient is {measured_Stark_coefficient.to('kHz/(V/cm)'):.1f}.\")"
   ]
  },
  {
   "cell_type": "markdown",
   "id": "3d167418-4e80-4dea-8970-e0416644499d",
   "metadata": {},
   "source": [
    "### from the Stark shift coefficient and an optimistic 1 a.u. differential scalar static polarizability.\n",
    "\n",
    "If we assume the differential scalar static polarizability between the 5D0 and 7F0 states in Eu:YSO is comparable to the 7F0 polarizability in vacuum, say 1 a.u."
   ]
  },
  {
   "cell_type": "code",
   "execution_count": 4,
   "id": "d5e2d86a-e26e-4426-8dc4-83d96066c753",
   "metadata": {},
   "outputs": [
    {
     "name": "stdout",
     "output_type": "stream",
     "text": [
      "The calculated Stark shift coefficient is 27.2 centimeter * kilohertz / volt at 54.7 megavolt / centimeter and 1 a.u. DSSP.\n",
      "The measured Stark shift coefficient is 27.2 centimeter * kilohertz / volt.\n"
     ]
    }
   ],
   "source": [
    "measured_Stark_coefficient = 27.18 * ureg.kHz / (ureg.V / ureg.cm)\n",
    "dssp_au = 1  # reasonable\n",
    "dssp_SI = polarizability_atomic_unit_to_SI(dssp_au)\n",
    "electric_field = 54.7 * ureg.MV / ureg.cm\n",
    "Stark_coefficient_from_dssp = Stark_shift_coefficient(dssp_SI, electric_field) / ureg.planck_constant\n",
    "print(f\"The calculated Stark shift coefficient is {Stark_coefficient_from_dssp.to('kHz/(V/cm)'):.1f} at {electric_field} and {dssp_au} a.u. DSSP.\")\n",
    "print(f\"The measured Stark shift coefficient is {measured_Stark_coefficient.to('kHz/(V/cm)'):.1f}.\")"
   ]
  },
  {
   "cell_type": "code",
   "execution_count": 5,
   "id": "6787f05f-2c9f-4d5b-a154-45d6de17a77b",
   "metadata": {},
   "outputs": [
    {
     "name": "stdout",
     "output_type": "stream",
     "text": [
      "The calculated Stark shift is 745 gigahertz at 54.7 megavolt / centimeter and 1 a.u. DSSP.\n",
      "The actual Stark shift is -894 gigahertz.\n"
     ]
    }
   ],
   "source": [
    "# from the optical Stark shift from free-space Eu transition frequency\n",
    "Eu_optical_free_space = 17270 * ureg.cm**-1 * ureg.c * ureg.planck_constant\n",
    "Eu_optical_YSO = 516847.5 * ureg.GHz * ureg.planck_constant\n",
    "Eu_Stark_shift = Eu_optical_YSO - Eu_optical_free_space\n",
    "print(f\"The calculated Stark shift is {(Stark_shift(dssp_SI, electric_field) / ureg.planck_constant).to('GHz'):.0f} at {electric_field} and {dssp_au} a.u. DSSP.\")\n",
    "print(f\"The actual Stark shift is {Eu_Stark_shift / ureg.planck_constant:.0f}.\")"
   ]
  },
  {
   "cell_type": "code",
   "execution_count": 6,
   "id": "f7981bc9-e013-4587-9841-c8cdc1da800e",
   "metadata": {},
   "outputs": [
    {
     "name": "stdout",
     "output_type": "stream",
     "text": [
      "The calculated Stark shift coefficient is 2.5 centimeter * hertz / volt at 100.0 megavolt / centimeter and 5e-05 a.u. DSSP.\n",
      "The measured Stark shift coefficient is 2.6 centimeter * hertz / volt.\n",
      "The calculated Stark shift is 124 megahertz at 100.0 megavolt / centimeter and 5e-05 a.u. DSSP.\n",
      "The actual Stark shift is 119.0 megahertz.\n"
     ]
    }
   ],
   "source": [
    "# select DSSP and electric field so that both the hyperfine splitting and Stark shift coefficient agrees with experiment.\n",
    "# This is only approximate as the electric field affects both the D and E terms in the Q tensor,\n",
    "# so the splitting is not perfectly quadratic with the electric field.\n",
    "Eu_Stark_ab = 119 * ureg.MHz * ureg.planck_constant\n",
    "Eu_Stark_coefficient_ab = 1.0 * ureg.Hz * ureg.cm / ureg.V * 2.58  # PhysRevLett.113.157603, scaled to 153Eu\n",
    "dssp_ab_au = 0.00005\n",
    "dssp_ab_SI = polarizability_atomic_unit_to_SI(dssp_ab_au)\n",
    "electric_field_ab = 100 * ureg.MV / ureg.cm\n",
    "Stark_coefficient_from_dssp_ab = Stark_shift_coefficient(dssp_ab_SI, electric_field_ab) / ureg.planck_constant\n",
    "print(f\"The calculated Stark shift coefficient is {Stark_coefficient_from_dssp_ab.to('Hz/(V/cm)'):.1f} at {electric_field_ab} and {dssp_ab_au} a.u. DSSP.\")\n",
    "print(f\"The measured Stark shift coefficient is {Eu_Stark_coefficient_ab.to('Hz/(V/cm)'):.1f}.\")\n",
    "print(f\"The calculated Stark shift is {(Stark_shift(dssp_ab_SI, electric_field_ab) / ureg.planck_constant).to('MHz'):.0f} at {electric_field_ab} and {dssp_ab_au} a.u. DSSP.\")\n",
    "print(f\"The actual Stark shift is {Eu_Stark_ab / ureg.planck_constant}.\")"
   ]
  },
  {
   "cell_type": "code",
   "execution_count": 7,
   "id": "c6999bf1-024e-4f97-a5bf-8ac8ab8a7422",
   "metadata": {},
   "outputs": [
    {
     "name": "stdout",
     "output_type": "stream",
     "text": [
      "The calculated Stark shift coefficient is 1.1 centimeter * hertz / volt at 150.0 megavolt / centimeter and 1.5e-05 a.u. DSSP.\n",
      "The measured Stark shift coefficient is 1.1 centimeter * hertz / volt.\n",
      "The calculated Stark shift is 84 megahertz at 150.0 megavolt / centimeter and 1.5e-05 a.u. DSSP.\n",
      "The actual Stark shift is 89.0 megahertz.\n"
     ]
    }
   ],
   "source": [
    "# select DSSP and electric field so that both the hyperfine splitting and Stark shift coefficient agrees with experiment.\n",
    "# This is only approximate as the electric field affects both the D and E terms in the Q tensor,\n",
    "# so the splitting is not perfectly quadratic with the electric field.\n",
    "Eu_Stark_bc = 89 * ureg.MHz * ureg.planck_constant\n",
    "Eu_Stark_coefficient_bc = 0.43 * ureg.Hz * ureg.cm / ureg.V * 2.58  # PhysRevLett.113.157603, scaled to 153Eu\n",
    "dssp_bc_au = 0.000015\n",
    "dssp_bc_SI = polarizability_atomic_unit_to_SI(dssp_bc_au)\n",
    "electric_field_bc = 150 * ureg.MV / ureg.cm\n",
    "Stark_coefficient_from_dssp_bc = Stark_shift_coefficient(dssp_bc_SI, electric_field_bc) / ureg.planck_constant\n",
    "print(f\"The calculated Stark shift coefficient is {Stark_coefficient_from_dssp_bc.to('Hz/(V/cm)'):.1f} at {electric_field_bc} and {dssp_bc_au} a.u. DSSP.\")\n",
    "print(f\"The measured Stark shift coefficient is {Eu_Stark_coefficient_bc.to('Hz/(V/cm)'):.1f}.\")\n",
    "print(f\"The calculated Stark shift is {(Stark_shift(dssp_bc_SI, electric_field_bc) / ureg.planck_constant).to('MHz'):.0f} at {electric_field_bc} and {dssp_bc_au} a.u. DSSP.\")\n",
    "print(f\"The actual Stark shift is {Eu_Stark_bc / ureg.planck_constant}.\")"
   ]
  },
  {
   "cell_type": "markdown",
   "id": "d4079472-1a81-44a5-941a-9b98e2a8a535",
   "metadata": {},
   "source": [
    "### from linear and quadratic optical Stark shift coefficients\n",
    "\n",
    "Measurement of the linear Stark shift coefficient and constraints on the quadratic Stark shift coefficient between 5D0 and 7F0 was done in YSO: https://doi.org/10.1063/5.0025356. Assuming that the Stark shift is purely quadratic, we can calculate a lower bound on the electric field using the linear and quadratic Stark shift coefficients. Namely, the electric field $E = \\beta/(2\\alpha)$, where $\\beta$ is the linear Stark shift coefficient and $\\alpha$ is the quadratic Stark shift coefficient."
   ]
  },
  {
   "cell_type": "code",
   "execution_count": 8,
   "id": "e7e756df-31f4-429b-b51d-1c22c2bfdfdb",
   "metadata": {},
   "outputs": [
    {
     "name": "stdout",
     "output_type": "stream",
     "text": [
      "Minimum field calculated along D1 is 4.5 megavolt / centimeter.\n",
      "Minimum field calculated along D2 is 9.3 megavolt / centimeter.\n"
     ]
    }
   ],
   "source": [
    "measured_linear_Stark_coefficient_D1 = 27.18 * ureg.kHz / (ureg.V / ureg.cm)\n",
    "measured_quadratic_Stark_coefficient_D1_bound = 3e-3 * ureg.Hz / (ureg.V / ureg.cm) ** 2\n",
    "print(f\"Minimum field calculated along D1 is {(measured_linear_Stark_coefficient_D1 / measured_quadratic_Stark_coefficient_D1_bound / 2).to('MV/cm'):.1f}.\")\n",
    "\n",
    "measured_linear_Stark_coefficient_D2 = 18.61 * ureg.kHz / (ureg.V / ureg.cm)\n",
    "measured_quadratic_Stark_coefficient_D2_bound = 1e-3 * ureg.Hz / (ureg.V / ureg.cm) ** 2\n",
    "print(f\"Minimum field calculated along D2 is {(measured_linear_Stark_coefficient_D2 / measured_quadratic_Stark_coefficient_D2_bound / 2).to('MV/cm'):.1f}.\")"
   ]
  },
  {
   "cell_type": "markdown",
   "id": "dee08a64-2f20-43f7-9db4-d2f0ce985aee",
   "metadata": {},
   "source": [
    "Since the two numbers here are lower bounds, and we think the field along D1 should be larger than the field along D2, so we estimate the effective field along D1 to be greater than 10 MV/cm."
   ]
  },
  {
   "cell_type": "markdown",
   "id": "d01a0f49-9bbc-4893-a8fb-dd85a08bd09d",
   "metadata": {},
   "source": [
    "Dependent on the method and approximation used, the result effective E field range from 0.5 to 50 MV / cm. The most reasonable approximation is probably using the measured linear and quadratic shift coefficients, so we estimate the effective field to be 10 MV/cm in calculations below."
   ]
  },
  {
   "cell_type": "markdown",
   "id": "dc5a1be4-9944-4086-9ded-b0ce445f8ca3",
   "metadata": {},
   "source": [
    "### Electric field along the nuclear spin"
   ]
  },
  {
   "cell_type": "code",
   "execution_count": 9,
   "id": "31cf79fe-cbc7-4376-b83a-fbdd69d5b30e",
   "metadata": {},
   "outputs": [],
   "source": [
    "effective_E_field = 10 * ureg.MV / ureg.cm\n",
    "hat_I_dot_hat_n_b = 0.3  # b state\n",
    "effective_E_field_along_I_b = effective_E_field * hat_I_dot_hat_n_b"
   ]
  },
  {
   "cell_type": "markdown",
   "id": "bcd76897-20b1-48eb-a26d-76288cf32bb8",
   "metadata": {},
   "source": [
    "## Europium atom"
   ]
  },
  {
   "cell_type": "code",
   "execution_count": 10,
   "id": "01adf14f-9aee-4335-8273-2f2d61cb59f6",
   "metadata": {},
   "outputs": [],
   "source": [
    "# Table IV of Flambaum and Dzuba PRA 101, 042504 (2020).\n",
    "# K_Z from the EDM sensitivity normalized to 225Ra value.\n",
    "K_S = 3.7\n",
    "K_Z = abs(0.33 / -8.25)\n",
    "eu153_triple_charged = Atom(K_S, K_Z, effective_E_field_along_I_b)"
   ]
  },
  {
   "cell_type": "code",
   "execution_count": 11,
   "id": "907de4a7-99b5-41c3-8c80-dc5f3d1e1697",
   "metadata": {},
   "outputs": [],
   "source": [
    "b_bbar_frequency_uncertainty = 2 * ureg.mHz\n",
    "# factor of 2 from b and bbar state opposite sensivitity\n",
    "theta_QCD_bound = (b_bbar_frequency_uncertainty / (eu153_triple_charged.frequency_shift_in_theta_QCD * 2)).to(\"\").magnitude"
   ]
  },
  {
   "cell_type": "code",
   "execution_count": 12,
   "id": "dbf0aa6a-580f-4ed7-8b4f-b1041d903216",
   "metadata": {},
   "outputs": [
    {
     "name": "stdout",
     "output_type": "stream",
     "text": [
      "With 2 millihertz b - bbar splitting measurement uncertainty:\n",
      "theta_QCD is constrained at 1.0e-07.\n",
      "\\tilta{d}_u - \\tilta{d}_d chromo EDM difference is constrained at 1.9e-24 centimeter.\n",
      "New physics particle mass is constrained at above 3.4e-01 THz.\n"
     ]
    }
   ],
   "source": [
    "sensitivity = NewPhysicsSensitivities(theta_QCD_bound)\n",
    "print(f\"With {b_bbar_frequency_uncertainty} b - bbar splitting measurement uncertainty:\")\n",
    "print(f\"theta_QCD is constrained at {theta_QCD_bound:.1e}.\")\n",
    "print(\"\\\\tilta{d}_u - \\\\tilta{d}_d chromo EDM difference is constrained at \" + f\"{sensitivity.chromo_edm_difference:.1e}.\")\n",
    "print(\"New physics particle mass is constrained at above \" + f\"{sensitivity.new_particle_mass:.1e} THz.\")"
   ]
  },
  {
   "cell_type": "code",
   "execution_count": null,
   "id": "419d1591-dfff-4533-8b9d-3134e8fd451f",
   "metadata": {},
   "outputs": [],
   "source": []
  },
  {
   "cell_type": "code",
   "execution_count": null,
   "id": "419c6ceb-910f-4788-acb8-7deb48b49e88",
   "metadata": {},
   "outputs": [],
   "source": []
  }
 ],
 "metadata": {
  "kernelspec": {
   "display_name": "Python 3 (ipykernel)",
   "language": "python",
   "name": "python3"
  },
  "language_info": {
   "codemirror_mode": {
    "name": "ipython",
    "version": 3
   },
   "file_extension": ".py",
   "mimetype": "text/x-python",
   "name": "python",
   "nbconvert_exporter": "python",
   "pygments_lexer": "ipython3",
   "version": "3.10.11"
  }
 },
 "nbformat": 4,
 "nbformat_minor": 5
}
