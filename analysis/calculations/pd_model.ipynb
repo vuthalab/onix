{
 "cells": [
  {
   "cell_type": "code",
   "execution_count": 9,
   "id": "67bd3f22-f902-405f-9850-bfc31719d5df",
   "metadata": {},
   "outputs": [],
   "source": [
    "import numpy as np\n",
    "from onix.units import ureg, Q_\n",
    "from typing import Optional, Union\n",
    "import csv"
   ]
  },
  {
   "cell_type": "code",
   "execution_count": 489,
   "id": "04e75ccd-49a5-4f15-bc6d-a43a525a6c1e",
   "metadata": {},
   "outputs": [],
   "source": [
    "class Photodiode:\n",
    "    \"\"\"Photodiode shot noise calculation.\n",
    "\n",
    "    Args:\n",
    "        R: photocurrent responsivity at the target wavelength, A/W. This number does not account for amplification in an APD.\n",
    "        M: APD photoelectron amplification factor. For other photodiodes, it should be 1.\n",
    "        G: transimpedance gain from current to output voltage.\n",
    "        maximum: Used to calculate the maximum input optical power depending on the input units:\n",
    "                            - units of [electric potential], maximum is the maximum output voltage;\n",
    "                            - units of [current], maximum is the maximum output current;\n",
    "                            - units of [power], maximum is the maximum input optical power.\n",
    "        NEP: based on Thorlabs definition (https://www.thorlabs.com/images/TabImages/Noise_Equivalent_Power_White_Paper.pdf)\n",
    "             the input signal power that results in an SNR of 1 at 1 Hz output bandwidth. Thorlabs uses \"optical NEP\" but assumes\n",
    "             it is equal to the \"electrical NEP\". Used to determine the electrical noise.\n",
    "    \"\"\"\n",
    "    def __init__(self, R: Q_, M: float = 1, G: Q_ = 50 * ureg.V / ureg.A, maximum: Optional[Q_] = None):\n",
    "    # def __init__(self, R: Q_, M: float, G: Q_, max_V_out: Optional[Q_] = None):\n",
    "    # def __init__(self, R: Q_, M: float, G: Q_, max_V_out: Q_, NEP: Q_):\n",
    "        self._P = None\n",
    "        self._R = R\n",
    "        self._M = M\n",
    "        self._G = G\n",
    "\n",
    "        self.max_P = self._max_P(maximum)\n",
    "\n",
    "    def _max_P(self, maximum) -> Union[None, Q_]:\n",
    "        \"\"\"Maximum input optical power.\"\"\"\n",
    "        if maximum.check(\"[electric_potential]\"):\n",
    "            return (maximum / (self._G * self._M * self._R)).to(\"W\")\n",
    "        elif maximum.check(\"[current]\"):\n",
    "            return (maximum / (self._M * self._R)).to(\"W\")\n",
    "        elif maximum.check(\"[power]\"):\n",
    "            return maximum.to(\"W\")\n",
    "        else:\n",
    "            return None\n",
    "    \n",
    "    @property\n",
    "    def P(self):\n",
    "        \"\"\"Input power.\"\"\"\n",
    "        return self._P\n",
    "\n",
    "    @P.setter\n",
    "    def P(self, P: Q_):\n",
    "        \"\"\"Input power.\"\"\"\n",
    "        if self.max_P is not None and P > self.max_P:\n",
    "            print(\"Set power is higher than the maximum input power.\")\n",
    "        self._P = P\n",
    "\n",
    "    @property\n",
    "    def I_p(self) -> Q_:\n",
    "        \"\"\"Photocurrent before amplification.\"\"\"\n",
    "        return (self._P * self._R).to(\"A\")\n",
    "\n",
    "    @property\n",
    "    def I_amp(self) -> Q_:\n",
    "        \"\"\"Photodiode current after amplification.\"\"\"\n",
    "        return self.I_p * self._M\n",
    "\n",
    "    @property\n",
    "    def V_out(self) -> Q_:\n",
    "        \"\"\"Photodiode output voltage.\"\"\"\n",
    "        return self.I_amp * self._G\n",
    "\n",
    "    @property\n",
    "    def N_I_p(self) -> Q_:\n",
    "        \"\"\"Noise spectral density of the photocurrent.\"\"\"\n",
    "        return (np.sqrt(2 * (1.6e-19 * ureg.A * ureg.s) * self.I_p)).to(\"A/Hz^(1/2)\")\n",
    "\n",
    "    @property\n",
    "    def N_I_amp(self) -> Q_:\n",
    "        \"\"\"Noise spectral density of the amplified photodiode current.\"\"\"\n",
    "        return (self._M * self.N_I_p).to(\"A/Hz^(1/2)\")\n",
    "\n",
    "    @property\n",
    "    def N_V_out(self) -> Q_:\n",
    "        \"\"\"Noise spectral density of the photodiode output voltage.\"\"\"\n",
    "        return (self._G * self.N_I_amp).to(\"V/Hz^(1/2)\")\n",
    "    \n",
    "    def electrical_noise(self, NEP_min: Q_, R_max: Q_, BW: Q_) -> Q_:\n",
    "        \"\"\"Electrical noise from NEP based on Thorlabs definition.\"\"\"\n",
    "        # NEP = NEP_min * R_max / self._R\n",
    "        # return (NEP * np.sqrt(BW) * self._R * self._M *  self._G).to(\"V\")\n",
    "        return (NEP_min * R_max * self._M * np.sqrt(BW) * self._G).to(\"V\")\n",
    "        \n",
    "    def SNR(self, BW: Q_) -> Q_:\n",
    "        \"\"\"SNR for a certain bandwidth.\"\"\"\n",
    "        return (self._G * self.I_amp / self.N_V_out / np.sqrt(BW)).to(\"\").magnitude"
   ]
  },
  {
   "cell_type": "code",
   "execution_count": 494,
   "id": "b49401bc-f9c2-4aa6-9a1b-2ecf0542dcab",
   "metadata": {},
   "outputs": [],
   "source": [
    "test = Photodiode(8 * ureg.A / ureg.W / 10, 10, 50 * ureg.kV / ureg.A, 100 * ureg.mA)"
   ]
  },
  {
   "cell_type": "code",
   "execution_count": 497,
   "id": "b996d057-3f6d-4991-8ed0-0d2177992a59",
   "metadata": {},
   "outputs": [
    {
     "name": "stdout",
     "output_type": "stream",
     "text": [
      "0.00162634559672906 volt\n"
     ]
    },
    {
     "data": {
      "text/html": [
       "-42.76544327964813 decibelmilliwatt"
      ],
      "text/latex": [
       "$-42.76544327964813\\ \\mathrm{decibelmilliwatt}$"
      ],
      "text/plain": [
       "-42.76544327964813 <Unit('decibelmilliwatt')>"
      ]
     },
     "execution_count": 497,
     "metadata": {},
     "output_type": "execute_result"
    }
   ],
   "source": [
    "NEP_max = 0.46 * ureg.pW / np.sqrt(1 * ureg.Hz)\n",
    "R_max = 10 * ureg.A / ureg.W / 10\n",
    "BW = 50 * ureg.MHz\n",
    "V = test.electrical_noise(NEP_max, R_max, BW)\n",
    "print(V)\n",
    "P = V**2 / (50 * ureg.ohm)\n",
    "P.to(\"dBm\")"
   ]
  },
  {
   "cell_type": "code",
   "execution_count": 498,
   "id": "75e13ccd-a391-44b1-a4d8-2fd0614853bb",
   "metadata": {},
   "outputs": [],
   "source": [
    "test.P = 1 * ureg.uW"
   ]
  },
  {
   "cell_type": "code",
   "execution_count": 475,
   "id": "b0e90ac2-a5ed-4de8-97d9-78035c6967f3",
   "metadata": {},
   "outputs": [
    {
     "data": {
      "text/plain": [
       "866025.4037844386"
      ]
     },
     "execution_count": 475,
     "metadata": {},
     "output_type": "execute_result"
    }
   ],
   "source": [
    "test.SNR(1 * ureg.Hz)"
   ]
  },
  {
   "cell_type": "code",
   "execution_count": null,
   "id": "68808501-886c-45e0-81b0-5a829cc5279f",
   "metadata": {},
   "outputs": [],
   "source": []
  }
 ],
 "metadata": {
  "kernelspec": {
   "display_name": "Python 3 (ipykernel)",
   "language": "python",
   "name": "python3"
  },
  "language_info": {
   "codemirror_mode": {
    "name": "ipython",
    "version": 3
   },
   "file_extension": ".py",
   "mimetype": "text/x-python",
   "name": "python",
   "nbconvert_exporter": "python",
   "pygments_lexer": "ipython3",
   "version": "3.10.11"
  }
 },
 "nbformat": 4,
 "nbformat_minor": 5
}
