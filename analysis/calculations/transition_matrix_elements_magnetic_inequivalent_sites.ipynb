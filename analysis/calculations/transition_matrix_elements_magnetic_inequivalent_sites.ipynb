{
 "cells": [
  {
   "cell_type": "code",
   "execution_count": 18,
   "id": "85007266-8e01-4abd-847c-ed34a49bf8f5",
   "metadata": {},
   "outputs": [],
   "source": [
    "from numbers import Number\n",
    "import numpy as np\n",
    "import pandas as pd\n",
    "import qutip as q\n",
    "import matplotlib.pyplot as plt\n",
    "import onix.models.hyperfine as hyperfine\n",
    "from IPython.display import display\n",
    "\n",
    "%matplotlib ipympl"
   ]
  },
  {
   "cell_type": "code",
   "execution_count": 81,
   "id": "be37cdd2-8a7a-492f-9538-f256ffa66fa3",
   "metadata": {},
   "outputs": [
    {
     "name": "stdout",
     "output_type": "stream",
     "text": [
      "Sigma = -1, Pi = +1\n"
     ]
    },
    {
     "data": {
      "text/plain": [
       "array([[ -7.65,  -6.25, -17.45],\n",
       "       [ -6.25, -10.96,  -6.41],\n",
       "       [-17.45,  -6.41, -13.4 ]])"
      ]
     },
     "execution_count": 81,
     "metadata": {},
     "output_type": "execute_result"
    }
   ],
   "source": [
    "\n",
    "hyperfine.set_magnetic_site(sigma_positive=False, pi_positive=True, verbose=True)\n",
    "np.round(hyperfine.quadrupole_tensor_D[\"7F0\"], 2)"
   ]
  },
  {
   "cell_type": "code",
   "execution_count": 72,
   "id": "e7cefcbe-eb2e-49d3-b73b-448c517b9443",
   "metadata": {},
   "outputs": [
    {
     "name": "stdout",
     "output_type": "stream",
     "text": [
      "Sigma = +1, Pi = +1\n",
      "[[ -7.64508919  -6.24673043  17.4521336 ]\n",
      " [ -6.24673043 -10.95556664   6.40942889]\n",
      " [ 17.4521336    6.40942889 -13.39934417]]\n",
      "[[ 1.68085996 -0.40933951 -2.08553937]\n",
      " [-0.40933951  1.47490928 -1.68152536]\n",
      " [-2.08553937 -1.68152536 -3.61127843]]\n",
      "\n",
      "Sigma = -1, Pi = +1\n",
      "[[ -7.64508919  -6.24673043 -17.4521336 ]\n",
      " [ -6.24673043 -10.95556664  -6.40942889]\n",
      " [-17.4521336   -6.40942889 -13.39934417]]\n",
      "[[ 1.68085996 -0.40933951  2.08553937]\n",
      " [-0.40933951  1.47490928  1.68152536]\n",
      " [ 2.08553937  1.68152536 -3.61127843]]\n",
      "\n",
      "Sigma = +1, Pi = -1\n",
      "[[ -7.64508919  -6.24673043  17.4521336 ]\n",
      " [ -6.24673043 -10.95556664   6.40942889]\n",
      " [ 17.4521336    6.40942889 -13.39934417]]\n",
      "[[ 1.68085996 -0.40933951 -2.08553937]\n",
      " [-0.40933951  1.47490928 -1.68152536]\n",
      " [-2.08553937 -1.68152536 -3.61127843]]\n",
      "\n",
      "Sigma = -1, Pi = -1\n",
      "[[ -7.64508919  -6.24673043 -17.4521336 ]\n",
      " [ -6.24673043 -10.95556664  -6.40942889]\n",
      " [-17.4521336   -6.40942889 -13.39934417]]\n",
      "[[ 1.68085996 -0.40933951  2.08553937]\n",
      " [-0.40933951  1.47490928  1.68152536]\n",
      " [ 2.08553937  1.68152536 -3.61127843]]\n"
     ]
    }
   ],
   "source": [
    "B_field = [225e-4, 0, 6e-4]\n",
    "hyperfine.set_magnetic_site(sigma_positive=True, pi_positive=True, verbose=True)\n",
    "g_sp_pp = hyperfine.HyperfineStates(\n",
    "    hyperfine.state_labels[\"7F0\"], hyperfine.quadrupole_tensor_D[\"7F0\"], hyperfine.Zeeman_tensor_D[\"7F0\"],\n",
    "    B_field, positive_sigma = True,\n",
    ")\n",
    "print(g_sp_pp._quadrupole_tensor)\n",
    "print(g_sp_pp._Zeeman_tensor)\n",
    "print()\n",
    "hyperfine.set_magnetic_site(sigma_positive=False, pi_positive=True, verbose=True)\n",
    "g_sm_pp = hyperfine.HyperfineStates(\n",
    "    hyperfine.state_labels[\"7F0\"], hyperfine.quadrupole_tensor_D[\"7F0\"], hyperfine.Zeeman_tensor_D[\"7F0\"],\n",
    "    B_field, positive_sigma = False,\n",
    ")\n",
    "print(g_sm_pp._quadrupole_tensor)\n",
    "print(g_sm_pp._Zeeman_tensor)\n",
    "print()\n",
    "hyperfine.set_magnetic_site(sigma_positive=True, pi_positive=False, verbose=True)\n",
    "g_sp_pm = hyperfine.HyperfineStates(\n",
    "    hyperfine.state_labels[\"7F0\"], hyperfine.quadrupole_tensor_D[\"7F0\"], hyperfine.Zeeman_tensor_D[\"7F0\"],\n",
    "    B_field, positive_sigma = True,\n",
    ")\n",
    "print(g_sp_pp._quadrupole_tensor)\n",
    "print(g_sp_pp._Zeeman_tensor)\n",
    "print()\n",
    "hyperfine.set_magnetic_site(sigma_positive=False, pi_positive=False, verbose=True)\n",
    "g_sm_pm = hyperfine.HyperfineStates(\n",
    "    hyperfine.state_labels[\"7F0\"], hyperfine.quadrupole_tensor_D[\"7F0\"], hyperfine.Zeeman_tensor_D[\"7F0\"],\n",
    "    B_field, positive_sigma = False,\n",
    ")\n",
    "print(g_sm_pm._quadrupole_tensor)\n",
    "print(g_sm_pm._Zeeman_tensor)"
   ]
  },
  {
   "cell_type": "code",
   "execution_count": 73,
   "id": "95dc2c98-78dd-4e80-9a13-f4e096881195",
   "metadata": {},
   "outputs": [
    {
     "data": {
      "text/latex": [
       "Quantum object: dims=[[6], [6]], shape=(6, 6), type='oper', dtype=Dense, isherm=True$$\\left(\\begin{array}{cc}0 & 0 & 0 & 0 & 0 & 0\\\\0 & 0 & 0 & 3.553\\times10^{ -15 } & 0 & 0\\\\1.776\\times10^{ -15 } & 0 & -1.421\\times10^{ -14 } & -5.887\\times10^{ -16 } & 7.105\\times10^{ -15 } & 0\\\\0 & 7.105\\times10^{ -15 } & 5.887\\times10^{ -16 } & -1.421\\times10^{ -14 } & 0 & 1.776\\times10^{ -15 }\\\\0 & 0 & 3.553\\times10^{ -15 } & 0 & 0 & 0\\\\0 & 0 & 0 & 0 & 0 & 0\\end{array}\\right)$$"
      ],
      "text/plain": [
       "Quantum object: dims=[[6], [6]], shape=(6, 6), type='oper', dtype=Dense, isherm=True\n",
       "Qobj data =\n",
       "[[ 0.00000000e+00  0.00000000e+00  0.00000000e+00  0.00000000e+00\n",
       "   0.00000000e+00  0.00000000e+00]\n",
       " [ 0.00000000e+00  0.00000000e+00  0.00000000e+00  3.55271368e-15\n",
       "   0.00000000e+00  0.00000000e+00]\n",
       " [ 1.77635684e-15  0.00000000e+00 -1.42108547e-14 -5.88696493e-16\n",
       "   7.10542736e-15  0.00000000e+00]\n",
       " [ 0.00000000e+00  7.10542736e-15  5.88696493e-16 -1.42108547e-14\n",
       "   0.00000000e+00  1.77635684e-15]\n",
       " [ 0.00000000e+00  0.00000000e+00  3.55271368e-15  0.00000000e+00\n",
       "   0.00000000e+00  0.00000000e+00]\n",
       " [ 0.00000000e+00  0.00000000e+00  0.00000000e+00  0.00000000e+00\n",
       "   0.00000000e+00  0.00000000e+00]]"
      ]
     },
     "execution_count": 73,
     "metadata": {},
     "output_type": "execute_result"
    }
   ],
   "source": [
    "g_sp_pp.H_quadrupole() - g_sm_pp.H_quadrupole()"
   ]
  },
  {
   "cell_type": "code",
   "execution_count": 35,
   "id": "2ecd8cce-794c-4ed5-ace1-137b45282d00",
   "metadata": {},
   "outputs": [
    {
     "data": {
      "text/plain": [
       "array([-202.754568  , -202.754568  ,  -83.62050231,  -83.62050231,\n",
       "          6.37507031,    6.37507031])"
      ]
     },
     "execution_count": 35,
     "metadata": {},
     "output_type": "execute_result"
    }
   ],
   "source": [
    "g_sp_pp._Hamiltonian.eigenstates()[0]"
   ]
  },
  {
   "cell_type": "code",
   "execution_count": 36,
   "id": "4b7df507-3b0c-441a-a248-000a98fb6c01",
   "metadata": {},
   "outputs": [
    {
     "data": {
      "text/plain": [
       "array([-202.754568  , -202.754568  ,  -83.62050231,  -83.62050231,\n",
       "          6.37507031,    6.37507031])"
      ]
     },
     "execution_count": 36,
     "metadata": {},
     "output_type": "execute_result"
    }
   ],
   "source": [
    "g_sm_pp._Hamiltonian.eigenstates()[0]"
   ]
  },
  {
   "cell_type": "code",
   "execution_count": 29,
   "id": "ad4e0734-0a65-48c7-b521-1fa072c56319",
   "metadata": {},
   "outputs": [
    {
     "data": {
      "text/latex": [
       "Quantum object: dims=[[6], [1]], shape=(6, 1), type='ket', dtype=Dense$$\\left(\\begin{array}{cc}0\\\\-0.036\\\\(-0.011-0.144j)\\\\(0.312-0.187j)\\\\(0.664+0.058j)\\\\(0.546+0.321j)\\end{array}\\right)$$"
      ],
      "text/plain": [
       "Quantum object: dims=[[6], [1]], shape=(6, 1), type='ket', dtype=Dense\n",
       "Qobj data =\n",
       "[[ 0.        +0.j        ]\n",
       " [-0.03552699-0.0004894j ]\n",
       " [-0.01143247-0.14410784j]\n",
       " [ 0.31232708-0.18745131j]\n",
       " [ 0.66419252+0.05824373j]\n",
       " [ 0.54551863+0.32096575j]]"
      ]
     },
     "execution_count": 29,
     "metadata": {},
     "output_type": "execute_result"
    }
   ],
   "source": [
    "g_sp_pp.energies_and_eigenstates()[1][0]"
   ]
  },
  {
   "cell_type": "code",
   "execution_count": 30,
   "id": "c29c276e-01ce-4049-8a5b-c4393278b8c4",
   "metadata": {},
   "outputs": [
    {
     "data": {
      "text/latex": [
       "Quantum object: dims=[[6], [1]], shape=(6, 1), type='ket', dtype=Dense$$\\left(\\begin{array}{cc}0.633\\\\(-0.602-0.287j)\\\\(0.174+0.320j)\\\\(0.083-0.118j)\\\\(-0.031-0.018j)\\\\0\\end{array}\\right)$$"
      ],
      "text/plain": [
       "Quantum object: dims=[[6], [1]], shape=(6, 1), type='ket', dtype=Dense\n",
       "Qobj data =\n",
       "[[ 0.63293727+0.j        ]\n",
       " [-0.60199273-0.28661609j]\n",
       " [ 0.17413225+0.31994399j]\n",
       " [ 0.0829313 -0.11840681j]\n",
       " [-0.03086833-0.01759412j]\n",
       " [ 0.        +0.j        ]]"
      ]
     },
     "execution_count": 30,
     "metadata": {},
     "output_type": "execute_result"
    }
   ],
   "source": [
    "g_sm_pp.energies_and_eigenstates()[1][0]"
   ]
  },
  {
   "cell_type": "code",
   "execution_count": 74,
   "id": "0d2b6ebd-87c5-4738-ba45-bcf437a0c0fb",
   "metadata": {},
   "outputs": [
    {
     "name": "stdout",
     "output_type": "stream",
     "text": [
      "0.07095948663390098\n",
      "-0.07095948663390098\n",
      "0.07203513459883933\n",
      "-0.06988383866896264\n",
      "0.7306290917838867\n",
      "-0.7306290917838867\n"
     ]
    }
   ],
   "source": [
    "state = g_sp_pp.energies_and_eigenstates()[1][3]\n",
    "print(q.expect(g_sp_pp.H_Zeeman([225e-4, 0, 0]), state))\n",
    "print(q.expect(g_sm_pp.H_Zeeman([225e-4, 0, 0]), state))\n",
    "\n",
    "print(q.expect(g_sp_pp.H_Zeeman([225e-4, 0, 6e-4]), state))\n",
    "print(q.expect(g_sm_pp.H_Zeeman([225e-4, 0, 6e-4]), state))\n",
    "\n",
    "print(q.expect(g_sp_pp._I_x, state))\n",
    "print(q.expect(g_sm_pp._I_x, state))"
   ]
  },
  {
   "cell_type": "code",
   "execution_count": 75,
   "id": "07e7762e-232c-4745-a6e1-d42cef7cb131",
   "metadata": {},
   "outputs": [
    {
     "name": "stdout",
     "output_type": "stream",
     "text": [
      "-0.07105605865634748\n",
      "0.07105605865634748\n",
      "-0.07213382453518005\n",
      "0.06997829277751488\n",
      "-0.7315726163618608\n",
      "0.7315726163618609\n"
     ]
    }
   ],
   "source": [
    "state = g_sp_pp.energies_and_eigenstates()[1][2]\n",
    "print(q.expect(g_sp_pp.H_Zeeman([225e-4, 0, 0]), state))\n",
    "print(q.expect(g_sm_pp.H_Zeeman([225e-4, 0, 0]), state))\n",
    "\n",
    "print(q.expect(g_sp_pp.H_Zeeman([225e-4, 0, 6e-4]), state))\n",
    "print(q.expect(g_sm_pp.H_Zeeman([225e-4, 0, 6e-4]), state))\n",
    "\n",
    "print(q.expect(g_sp_pp._I_x, state))\n",
    "print(q.expect(g_sm_pp._I_x, state))"
   ]
  },
  {
   "cell_type": "code",
   "execution_count": 4,
   "id": "94cbdec8-7b00-4c2f-a404-a13ca8b96ef3",
   "metadata": {},
   "outputs": [
    {
     "ename": "ValueError",
     "evalue": "matmul: Input operand 1 has a mismatch in its core dimension 0, with gufunc signature (n?,k),(k,m?)->(n?,m?) (size 3 is different from 6)",
     "output_type": "error",
     "traceback": [
      "\u001b[1;31m---------------------------------------------------------------------------\u001b[0m",
      "\u001b[1;31mValueError\u001b[0m                                Traceback (most recent call last)",
      "Cell \u001b[1;32mIn[4], line 1\u001b[0m\n\u001b[1;32m----> 1\u001b[0m \u001b[43mg_sp_pp\u001b[49m\u001b[38;5;241;43m.\u001b[39;49m\u001b[43m_I_x\u001b[49m\u001b[38;5;241;43m.\u001b[39;49m\u001b[43mfull\u001b[49m\u001b[43m(\u001b[49m\u001b[43m)\u001b[49m\u001b[43m \u001b[49m\u001b[38;5;241;43m@\u001b[39;49m\u001b[43m \u001b[49m\u001b[43mg_sp_pp\u001b[49m\u001b[38;5;241;43m.\u001b[39;49m\u001b[43m_quadrupole_tensor\u001b[49m \u001b[38;5;241m@\u001b[39m g_sp_pp\u001b[38;5;241m.\u001b[39m_I_x\u001b[38;5;241m.\u001b[39mdag()\u001b[38;5;241m.\u001b[39mfull()\n",
      "\u001b[1;31mValueError\u001b[0m: matmul: Input operand 1 has a mismatch in its core dimension 0, with gufunc signature (n?,k),(k,m?)->(n?,m?) (size 3 is different from 6)"
     ]
    }
   ],
   "source": [
    "g_sp_pp._I_x.full() @ g_sp_pp._quadrupole_tensor @ g_sp_pp._I_x.dag().full()"
   ]
  },
  {
   "cell_type": "code",
   "execution_count": 38,
   "id": "bf09c786-c397-407f-9f23-e027c53521c5",
   "metadata": {},
   "outputs": [
    {
     "data": {
      "text/latex": [
       "Quantum object: dims=[[6], [1]], shape=(6, 1), type='ket', dtype=Dense$$\\left(\\begin{array}{cc}-0.633\\\\(0.602+0.287j)\\\\(-0.177-0.321j)\\\\(-0.084+0.111j)\\\\(0.038+0.005j)\\\\(0.011-0.008j)\\end{array}\\right)$$"
      ],
      "text/plain": [
       "Quantum object: dims=[[6], [1]], shape=(6, 1), type='ket', dtype=Dense\n",
       "Qobj data =\n",
       "[[-0.63291787-0.j        ]\n",
       " [ 0.60162786+0.28704036j]\n",
       " [-0.1771092 -0.32064474j]\n",
       " [-0.08360817+0.11081813j]\n",
       " [ 0.03758818+0.00532288j]\n",
       " [ 0.01070678-0.00769304j]]"
      ]
     },
     "execution_count": 38,
     "metadata": {},
     "output_type": "execute_result"
    }
   ],
   "source": [
    "g_sp_pp.energies_and_eigenstates()[1][0]"
   ]
  },
  {
   "cell_type": "code",
   "execution_count": 36,
   "id": "663dd30a-ea73-433d-b2bd-e895c9820c92",
   "metadata": {},
   "outputs": [
    {
     "data": {
      "text/latex": [
       "Quantum object: dims=[[6], [1]], shape=(6, 1), type='ket', dtype=Dense$$\\left(\\begin{array}{cc}0.542\\\\0.168j\\\\(-0.523-0.534j)\\\\(0.027+0.264j)\\\\(0.115-0.001j)\\\\(-0.157-0.101j)\\end{array}\\right)$$"
      ],
      "text/plain": [
       "Quantum object: dims=[[6], [1]], shape=(6, 1), type='ket', dtype=Dense\n",
       "Qobj data =\n",
       "[[ 0.54206131+0.j        ]\n",
       " [ 0.00067695+0.16833882j]\n",
       " [-0.52288066-0.53446692j]\n",
       " [ 0.02749503+0.26403748j]\n",
       " [ 0.11498949-0.00135119j]\n",
       " [-0.15739727-0.10149856j]]"
      ]
     },
     "execution_count": 36,
     "metadata": {},
     "output_type": "execute_result"
    }
   ],
   "source": [
    "g_sp_pp.energies_and_eigenstates()[1][2]"
   ]
  },
  {
   "cell_type": "code",
   "execution_count": 35,
   "id": "3033754f-3251-45e4-a2c7-077d6d5ecec1",
   "metadata": {},
   "outputs": [
    {
     "data": {
      "text/latex": [
       "Quantum object: dims=[[6], [1]], shape=(6, 1), type='ket', dtype=Dense$$\\left(\\begin{array}{cc}0.542\\\\-0.168j\\\\(-0.522-0.535j)\\\\(-0.027-0.264j)\\\\0.116\\\\(0.157+0.102j)\\end{array}\\right)$$"
      ],
      "text/plain": [
       "Quantum object: dims=[[6], [1]], shape=(6, 1), type='ket', dtype=Dense\n",
       "Qobj data =\n",
       "[[ 5.41814520e-01+0.j        ]\n",
       " [ 2.71155919e-04-0.16805994j]\n",
       " [-5.22179912e-01-0.53534227j]\n",
       " [-2.66549501e-02-0.26389365j]\n",
       " [ 1.15782720e-01-0.00080514j]\n",
       " [ 1.57498988e-01+0.10181865j]]"
      ]
     },
     "execution_count": 35,
     "metadata": {},
     "output_type": "execute_result"
    }
   ],
   "source": [
    "g_sm_pp.energies_and_eigenstates()[1][3]"
   ]
  },
  {
   "cell_type": "code",
   "execution_count": 63,
   "id": "6b8ef747-03c0-4e45-852d-4bc2fa328600",
   "metadata": {},
   "outputs": [],
   "source": [
    "def print_mu_and_I(state, sigma_positive, pi_positive, n=2):\n",
    "    print_statement = \"Sigma = \"\n",
    "    if sigma_positive:\n",
    "        print_statement += \"+1\"\n",
    "    else:\n",
    "        print_statement += \"-1\"\n",
    "    print_statement += \", Pi = \"\n",
    "    if pi_positive:\n",
    "        print_statement += \"+1\"\n",
    "    else:\n",
    "        print_statement += \"-1\"\n",
    "    print(print_statement)\n",
    "    b_index = 3\n",
    "    e, s = state.energies_and_eigenstates()\n",
    "    print(\n",
    "        \"mu_i = \",\n",
    "        round(state.mu_Ix(s[b_index]), n),\n",
    "        round(state.mu_Iy(s[b_index]), n),\n",
    "        round(state.mu_Iz(s[b_index]), n)\n",
    "    )\n",
    "    print(\n",
    "        \"I_i = \",\n",
    "        round(state.m_Ix(s[b_index]), n),\n",
    "        round(state.m_Iy(s[b_index]), n),\n",
    "        round(state.m_Iz(s[b_index]), n)\n",
    "    )\n",
    "    if pi_positive:\n",
    "        n_x = 1\n",
    "    else:\n",
    "        n_x = -1\n",
    "    print(\n",
    "        \"n_x = \",\n",
    "        n_x\n",
    "    )\n",
    "    print(\n",
    "        \"I.n = \",\n",
    "        round(state.m_Ix(s[b_index]), n) * n_x\n",
    "    )"
   ]
  },
  {
   "cell_type": "code",
   "execution_count": 64,
   "id": "a707037e-03bf-4ce2-a177-5ee14247025d",
   "metadata": {},
   "outputs": [],
   "source": [
    "def simulate(B_field):\n",
    "    hyperfine.set_magnetic_site(sigma_positive=True, pi_positive=True, verbose=False)\n",
    "    g_sp_pp = hyperfine.HyperfineStates(\n",
    "        hyperfine.state_labels[\"7F0\"], hyperfine.quadrupole_tensor_D[\"7F0\"], hyperfine.Zeeman_tensor_D[\"7F0\"],\n",
    "    B_field, positive_sigma = True,\n",
    "    )\n",
    "    hyperfine.set_magnetic_site(sigma_positive=False, pi_positive=True, verbose=False)\n",
    "    g_sm_pp = hyperfine.HyperfineStates(\n",
    "        hyperfine.state_labels[\"7F0\"], hyperfine.quadrupole_tensor_D[\"7F0\"], hyperfine.Zeeman_tensor_D[\"7F0\"],\n",
    "    B_field, positive_sigma = False,\n",
    "    )\n",
    "    hyperfine.set_magnetic_site(sigma_positive=True, pi_positive=False, verbose=False)\n",
    "    g_sp_pm = hyperfine.HyperfineStates(\n",
    "        hyperfine.state_labels[\"7F0\"], hyperfine.quadrupole_tensor_D[\"7F0\"], hyperfine.Zeeman_tensor_D[\"7F0\"],\n",
    "    B_field, positive_sigma = True,\n",
    "    )\n",
    "    hyperfine.set_magnetic_site(sigma_positive=False, pi_positive=False, verbose=False)\n",
    "    g_sm_pm = hyperfine.HyperfineStates(\n",
    "        hyperfine.state_labels[\"7F0\"], hyperfine.quadrupole_tensor_D[\"7F0\"], hyperfine.Zeeman_tensor_D[\"7F0\"],\n",
    "    B_field, positive_sigma = False,\n",
    "    )\n",
    "    print_mu_and_I(g_sp_pp, True, True)\n",
    "    print()\n",
    "    print_mu_and_I(g_sm_pp, False, True)\n",
    "    print()\n",
    "    print_mu_and_I(g_sp_pm, True, False)\n",
    "    print()\n",
    "    print_mu_and_I(g_sm_pm, False, False)"
   ]
  },
  {
   "cell_type": "code",
   "execution_count": 65,
   "id": "98b78ae6-5847-429f-bda8-0f1882cf2af8",
   "metadata": {},
   "outputs": [
    {
     "name": "stdout",
     "output_type": "stream",
     "text": [
      "Sigma = +1, Pi = +1\n",
      "mu_i =  -0.41 -0.17 -0.22\n",
      "I_i =  0.75 0.03 -0.91\n",
      "n_x =  1\n",
      "I.n =  0.75\n",
      "\n",
      "Sigma = -1, Pi = +1\n",
      "mu_i =  -0.41 -0.17 0.22\n",
      "I_i =  0.75 0.03 0.91\n",
      "n_x =  1\n",
      "I.n =  0.75\n",
      "\n",
      "Sigma = +1, Pi = -1\n",
      "mu_i =  -0.41 -0.17 -0.22\n",
      "I_i =  0.75 0.03 -0.91\n",
      "n_x =  -1\n",
      "I.n =  -0.75\n",
      "\n",
      "Sigma = -1, Pi = -1\n",
      "mu_i =  -0.41 -0.17 0.22\n",
      "I_i =  0.75 0.03 0.91\n",
      "n_x =  -1\n",
      "I.n =  -0.75\n"
     ]
    }
   ],
   "source": [
    "B_field = [223e-4, 0e-4, 0e-4]\n",
    "simulate(B_field)"
   ]
  },
  {
   "cell_type": "code",
   "execution_count": 29,
   "id": "13a85002-6a2a-411d-aa62-92ebdccb9186",
   "metadata": {},
   "outputs": [
    {
     "name": "stdout",
     "output_type": "stream",
     "text": [
      "Sigma = +1, Pi = +1\n",
      "mu_i =  -0.17 -0.12 -0.54\n",
      "I_i =  -0.32 -0.36 -0.8\n",
      "n_x =  1\n",
      "I.n =  -0.32\n",
      "\n",
      "Sigma = -1, Pi = +1\n",
      "mu_i =  0.17 0.12 -0.54\n",
      "I_i =  0.32 0.36 -0.8\n",
      "n_x =  1\n",
      "I.n =  0.32\n",
      "\n",
      "Sigma = +1, Pi = -1\n",
      "mu_i =  -0.17 -0.12 -0.54\n",
      "I_i =  -0.32 -0.36 -0.8\n",
      "n_x =  -1\n",
      "I.n =  0.32\n",
      "\n",
      "Sigma = -1, Pi = -1\n",
      "mu_i =  0.17 0.12 -0.54\n",
      "I_i =  0.32 0.36 -0.8\n",
      "n_x =  -1\n",
      "I.n =  -0.32\n"
     ]
    }
   ],
   "source": [
    "B_field = [0e-4, 0e-4, 100e-4]\n",
    "simulate(B_field)"
   ]
  },
  {
   "cell_type": "code",
   "execution_count": 30,
   "id": "5cd5ebc4-1016-4398-9daa-f2ef735b249d",
   "metadata": {},
   "outputs": [
    {
     "name": "stdout",
     "output_type": "stream",
     "text": [
      "Sigma = +1, Pi = +1\n",
      "mu_i =  -0.38 -0.18 -0.4\n",
      "I_i =  0.42 -0.14 -1.02\n",
      "n_x =  1\n",
      "I.n =  0.42\n",
      "\n",
      "Sigma = -1, Pi = +1\n",
      "mu_i =  -0.34 -0.1 -0.11\n",
      "I_i =  1.01 0.26 0.48\n",
      "n_x =  1\n",
      "I.n =  1.01\n",
      "\n",
      "Sigma = +1, Pi = -1\n",
      "mu_i =  -0.38 -0.18 -0.4\n",
      "I_i =  0.42 -0.14 -1.02\n",
      "n_x =  -1\n",
      "I.n =  -0.42\n",
      "\n",
      "Sigma = -1, Pi = -1\n",
      "mu_i =  -0.34 -0.1 -0.11\n",
      "I_i =  1.01 0.26 0.48\n",
      "n_x =  -1\n",
      "I.n =  -1.01\n"
     ]
    }
   ],
   "source": [
    "B_field = [223e-4, 0e-4, 100e-4]\n",
    "simulate(B_field)"
   ]
  },
  {
   "cell_type": "code",
   "execution_count": null,
   "id": "e1048d7a-6dc9-411f-bb49-d011d22e8ee0",
   "metadata": {},
   "outputs": [],
   "source": []
  }
 ],
 "metadata": {
  "kernelspec": {
   "display_name": "Python 3 (ipykernel)",
   "language": "python",
   "name": "python3"
  },
  "language_info": {
   "codemirror_mode": {
    "name": "ipython",
    "version": 3
   },
   "file_extension": ".py",
   "mimetype": "text/x-python",
   "name": "python",
   "nbconvert_exporter": "python",
   "pygments_lexer": "ipython3",
   "version": "3.10.11"
  }
 },
 "nbformat": 4,
 "nbformat_minor": 5
}
