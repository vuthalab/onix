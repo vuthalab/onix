{
 "cells": [
  {
   "cell_type": "code",
   "execution_count": 1,
   "id": "85007266-8e01-4abd-847c-ed34a49bf8f5",
   "metadata": {},
   "outputs": [],
   "source": [
    "from numbers import Number\n",
    "import numpy as np\n",
    "import matplotlib.pyplot as plt\n",
    "import onix.models.hyperfine as hyperfine"
   ]
  },
  {
   "cell_type": "code",
   "execution_count": 2,
   "id": "8896c9c4-a297-47c6-9d2b-cb2fe4065b40",
   "metadata": {},
   "outputs": [],
   "source": [
    "ground = hyperfine.states[\"7F0\"]\n",
    "excited = hyperfine.states[\"5D0\"]\n",
    "optical_hyperfine_probabilities = hyperfine.optical_hyperfine_probabilities"
   ]
  },
  {
   "cell_type": "code",
   "execution_count": 48,
   "id": "dfab84ca-903d-47b0-b638-08163fd372ce",
   "metadata": {},
   "outputs": [
    {
     "name": "stdout",
     "output_type": "stream",
     "text": [
      "301960.9394758049\n",
      "167598.8761199676\n"
     ]
    }
   ],
   "source": [
    "ground._Hamiltonian = ground.H_total(265.4e-4)\n",
    "print((ground.energies_and_eigenstates()[0][1] - ground.energies_and_eigenstates()[0][0]) * 1e6)\n",
    "print((ground.energies_and_eigenstates()[0][3] - ground.energies_and_eigenstates()[0][2]) * 1e6)"
   ]
  },
  {
   "cell_type": "code",
   "execution_count": 21,
   "id": "1616351f-962e-49fd-861f-d227562981da",
   "metadata": {},
   "outputs": [],
   "source": [
    "def print_table(lists, ndecimals=3, column_size=8, first_column_size=None):\n",
    "    if first_column_size is None:\n",
    "        first_column_size = column_size\n",
    "    for list in lists:\n",
    "        line = \"\"\n",
    "        for kk, item in enumerate(list):\n",
    "            if kk == 0:\n",
    "                this_column_size = first_column_size\n",
    "            else:\n",
    "                this_column_size = column_size\n",
    "            if isinstance(item, float):\n",
    "                line += f\"{item:{this_column_size}.{ndecimals}f}\"\n",
    "            elif isinstance(item, int):\n",
    "                line += f\"{item:{this_column_size}.{ndecimals}f}\"\n",
    "            else:\n",
    "                line += f\"{item:>{this_column_size}}\"\n",
    "        print(line)"
   ]
  },
  {
   "cell_type": "markdown",
   "id": "f27fbaa7-02b3-4b29-9ba2-855d76ad970a",
   "metadata": {},
   "source": [
    "### Optical hyperfine probabilities"
   ]
  },
  {
   "cell_type": "code",
   "execution_count": 4,
   "id": "1f867bd2-4460-47ec-a63b-9e9e1e6338d7",
   "metadata": {},
   "outputs": [
    {
     "name": "stdout",
     "output_type": "stream",
     "text": [
      "580 nm hyperfine excitation probabilities:\n",
      "     g\\e       c      c'       b      b'       a      a'\n",
      "       a   0.856   0.014   0.031   0.067   0.001   0.031\n",
      "      a'   0.014   0.856   0.067   0.031   0.031   0.001\n",
      "       b   0.111   0.004   0.396   0.320   0.040   0.129\n",
      "      b'   0.004   0.111   0.320   0.396   0.129   0.040\n",
      "       c   0.005   0.011   0.149   0.036   0.322   0.478\n",
      "      c'   0.011   0.005   0.036   0.149   0.478   0.322\n"
     ]
    }
   ],
   "source": [
    "table = [[\"g\\\\e\"] + excited.states]\n",
    "for g_state in ground.states:\n",
    "    row = [g_state]\n",
    "    for e_state in excited.states:\n",
    "        row.append(optical_hyperfine_probabilities[g_state][e_state])\n",
    "    table.append(row)\n",
    "print(\"580 nm hyperfine excitation probabilities:\")\n",
    "print_table(table)"
   ]
  },
  {
   "cell_type": "markdown",
   "id": "e562882f-7f74-427a-8c7f-aabf8d6d3d05",
   "metadata": {},
   "source": [
    "### Ground M1 matrix elements"
   ]
  },
  {
   "cell_type": "code",
   "execution_count": 5,
   "id": "c88081ca-8515-42c6-bd79-8b87ac4536a9",
   "metadata": {},
   "outputs": [
    {
     "name": "stdout",
     "output_type": "stream",
     "text": [
      "Polarization: σ+. Unit: 2π kHz/G.\n",
      "     i\\f       a      a'       b      b'       c      c'\n",
      "       a   0.480   0.014   0.086   0.036   0.031   0.025\n",
      "      a'   0.014   0.480   0.080   0.227   0.039   0.048\n",
      "       b   0.227   0.036   0.241   0.146   0.122   0.117\n",
      "      b'   0.080   0.086   0.146   0.241   0.176   0.212\n",
      "       c   0.048   0.025   0.212   0.117   0.063   0.240\n",
      "      c'   0.039   0.031   0.176   0.122   0.240   0.063\n",
      "\n",
      "Polarization: σ-. Unit: 2π kHz/G.\n",
      "     i\\f       a      a'       b      b'       c      c'\n",
      "       a   0.480   0.014   0.227   0.080   0.048   0.039\n",
      "      a'   0.014   0.480   0.036   0.086   0.025   0.031\n",
      "       b   0.086   0.080   0.241   0.146   0.212   0.176\n",
      "      b'   0.036   0.227   0.146   0.241   0.117   0.122\n",
      "       c   0.031   0.039   0.122   0.176   0.063   0.240\n",
      "      c'   0.025   0.048   0.117   0.212   0.240   0.063\n",
      "\n",
      "Polarization: π. Unit: 2π kHz/G.\n",
      "     i\\f       a      a'       b      b'       c      c'\n",
      "       a   0.151   0.033   0.442   0.112   0.046   0.090\n",
      "      a'   0.033   0.151   0.112   0.442   0.090   0.046\n",
      "       b   0.442   0.112   0.168   0.379   0.370   0.174\n",
      "      b'   0.112   0.442   0.379   0.168   0.174   0.370\n",
      "       c   0.046   0.090   0.370   0.174   0.141   0.885\n",
      "      c'   0.090   0.046   0.174   0.370   0.885   0.141\n",
      "\n"
     ]
    }
   ],
   "source": [
    "M1_elements = ground.m1_elements()\n",
    "for kk, polarization in enumerate([\"σ+\", \"σ-\", \"π\"]):\n",
    "    table = [[\"i\\\\f\"] + ground.states]\n",
    "    for g_state in ground.states:\n",
    "        row = [g_state]\n",
    "        for g_state_1 in ground.states:\n",
    "            MHz_per_T_to_kHz_per_G = 1e6 / (1e3 / 1e-4)\n",
    "            row.append(abs(M1_elements[kk][g_state][g_state_1] * MHz_per_T_to_kHz_per_G))\n",
    "        table.append(row)\n",
    "    print(f\"Polarization: {polarization}. Unit: 2π kHz/G.\")\n",
    "    print_table(table, ndecimals=3)\n",
    "    print()"
   ]
  },
  {
   "cell_type": "markdown",
   "id": "185fbd84-dcd2-4880-bd5c-f2ffabbe3a7d",
   "metadata": {},
   "source": [
    "## Schiff moment sensitivities"
   ]
  },
  {
   "cell_type": "code",
   "execution_count": 24,
   "id": "751204c9-27ac-423e-82ef-c37083aa97d3",
   "metadata": {},
   "outputs": [
    {
     "name": "stdout",
     "output_type": "stream",
     "text": [
      "7F0 Schiff moment sensitivities:\n",
      "              Properties       a      a'       b      b'       c      c'\n",
      "   Schiff sensitivity D1  -1.766   1.766  -0.639   0.639   0.070  -0.070\n",
      "   Schiff sensitivity D2  -0.679   0.679  -0.604   0.604  -0.156   0.156\n",
      "\n"
     ]
    }
   ],
   "source": [
    "table = [[\"Properties\"] + ground.states]\n",
    "energies, eigenstates = ground.energies_and_eigenstates()\n",
    "row = [\"Schiff sensitivity D1\"]\n",
    "for eigenstate in eigenstates:\n",
    "    row.append(ground.Schiff_moment_sensitivity(eigenstate)[0])\n",
    "table.append(row)\n",
    "row = [\"Schiff sensitivity D2\"]\n",
    "for eigenstate in eigenstates:\n",
    "    row.append(ground.Schiff_moment_sensitivity(eigenstate)[1])\n",
    "table.append(row)\n",
    "print(\"7F0 Schiff moment sensitivities:\")\n",
    "print_table(table, ndecimals=3, first_column_size=24)\n",
    "print()"
   ]
  },
  {
   "cell_type": "code",
   "execution_count": null,
   "id": "137d2da5-769d-4bef-bb0a-4756fd2cf6f0",
   "metadata": {},
   "outputs": [],
   "source": []
  }
 ],
 "metadata": {
  "kernelspec": {
   "display_name": "Python 3 (ipykernel)",
   "language": "python",
   "name": "python3"
  },
  "language_info": {
   "codemirror_mode": {
    "name": "ipython",
    "version": 3
   },
   "file_extension": ".py",
   "mimetype": "text/x-python",
   "name": "python",
   "nbconvert_exporter": "python",
   "pygments_lexer": "ipython3",
   "version": "3.12.1"
  }
 },
 "nbformat": 4,
 "nbformat_minor": 5
}
