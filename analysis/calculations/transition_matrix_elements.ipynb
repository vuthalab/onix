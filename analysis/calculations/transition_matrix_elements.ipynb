{
 "cells": [
  {
   "cell_type": "code",
   "execution_count": 13,
   "id": "85007266-8e01-4abd-847c-ed34a49bf8f5",
   "metadata": {},
   "outputs": [],
   "source": [
    "from numbers import Number\n",
    "import numpy as np\n",
    "import matplotlib.pyplot as plt\n",
    "import onix.models.hyperfine as hyperfine"
   ]
  },
  {
   "cell_type": "code",
   "execution_count": 3,
   "id": "8896c9c4-a297-47c6-9d2b-cb2fe4065b40",
   "metadata": {},
   "outputs": [],
   "source": [
    "ground = hyperfine.states[\"7F0\"]\n",
    "excited = hyperfine.states[\"5D0\"]\n",
    "optical_hyperfine_probabilities = hyperfine.optical_hyperfine_probabilities"
   ]
  },
  {
   "cell_type": "code",
   "execution_count": 20,
   "id": "1616351f-962e-49fd-861f-d227562981da",
   "metadata": {},
   "outputs": [],
   "source": [
    "def print_table(lists, ndecimals=3, column_size=8):\n",
    "    for list in lists:\n",
    "        line = \"\"\n",
    "        for kk in list:\n",
    "            if isinstance(kk, float):\n",
    "                line += f\"{kk:{column_size}.{ndecimals}f}\"\n",
    "            elif isinstance(kk, int):\n",
    "                line += f\"{kk:{column_size}.{ndecimals}f}\"\n",
    "            else:\n",
    "                line += f\"{kk:>{column_size}}\"\n",
    "        print(line)"
   ]
  },
  {
   "cell_type": "markdown",
   "id": "f27fbaa7-02b3-4b29-9ba2-855d76ad970a",
   "metadata": {},
   "source": [
    "### Optical hyperfine probabilities"
   ]
  },
  {
   "cell_type": "code",
   "execution_count": 38,
   "id": "1f867bd2-4460-47ec-a63b-9e9e1e6338d7",
   "metadata": {},
   "outputs": [
    {
     "name": "stdout",
     "output_type": "stream",
     "text": [
      "580 nm hyperfine excitation probabilities:\n",
      "     g\\e       c      c'       b      b'       a      a'\n",
      "       a   0.866   0.004   0.094   0.004   0.031   0.001\n",
      "      a'   0.004   0.866   0.004   0.094   0.001   0.031\n",
      "       b   0.105   0.009   0.690   0.026   0.157   0.012\n",
      "      b'   0.009   0.105   0.026   0.690   0.012   0.157\n",
      "       c   0.007   0.009   0.163   0.022   0.799   0.000\n",
      "      c'   0.009   0.007   0.022   0.163   0.000   0.799\n"
     ]
    }
   ],
   "source": [
    "table = [[\"g\\\\e\"] + excited.states]\n",
    "for g_state in ground.states:\n",
    "    row = [g_state]\n",
    "    for e_state in excited.states:\n",
    "        row.append(optical_hyperfine_probabilities[g_state][e_state])\n",
    "    table.append(row)\n",
    "print(\"580 nm hyperfine excitation probabilities:\")\n",
    "print_table(table)"
   ]
  },
  {
   "cell_type": "markdown",
   "id": "e562882f-7f74-427a-8c7f-aabf8d6d3d05",
   "metadata": {},
   "source": [
    "### Ground M1 matrix elements"
   ]
  },
  {
   "cell_type": "code",
   "execution_count": 42,
   "id": "c88081ca-8515-42c6-bd79-8b87ac4536a9",
   "metadata": {},
   "outputs": [
    {
     "name": "stdout",
     "output_type": "stream",
     "text": [
      "Polarization: sigma+. Unit: 2π MHz/T.\n",
      "     i\\f       a      a'       b      b'       c      c'\n",
      "       a   10.88    0.06    5.23    1.56    1.30    0.49\n",
      "      a'    0.49   10.88    1.25    1.66    0.84    0.36\n",
      "       b    1.66    1.56    5.25    1.11    6.64    2.02\n",
      "      b'    1.25    5.23    4.99    5.25    2.16    0.85\n",
      "       c    0.36    0.49    0.85    2.02    5.33    0.99\n",
      "      c'    0.84    1.30    2.16    6.64    2.25    5.33\n",
      "\n",
      "Polarization: sigma-. Unit: 2π MHz/T.\n",
      "     i\\f       a      a'       b      b'       c      c'\n",
      "       a   10.88    0.49    1.66    1.25    0.36    0.84\n",
      "      a'    0.06   10.88    1.56    5.23    0.49    1.30\n",
      "       b    5.23    1.25    5.25    4.99    0.85    2.16\n",
      "      b'    1.56    1.66    1.11    5.25    2.02    6.64\n",
      "       c    1.30    0.84    6.64    2.16    5.33    2.25\n",
      "      c'    0.49    0.36    2.02    0.85    0.99    5.33\n",
      "\n",
      "Polarization: pi. Unit: 2π MHz/T.\n",
      "     i\\f       a      a'       b      b'       c      c'\n",
      "       a    3.44    0.69    9.80    3.25    1.69    1.54\n",
      "      a'    0.69    3.44    3.25    9.80    1.54    1.69\n",
      "       b    9.80    3.25    6.93    6.33    6.96    6.11\n",
      "      b'    3.25    9.80    6.33    6.93    6.11    6.96\n",
      "       c    1.69    1.54    6.96    6.11   20.19    2.13\n",
      "      c'    1.54    1.69    6.11    6.96    2.13   20.19\n",
      "\n"
     ]
    }
   ],
   "source": [
    "M1_elements = ground.m1_elements()\n",
    "for kk, polarization in enumerate([\"sigma+\", \"sigma-\", \"pi\"]):\n",
    "    table = [[\"i\\\\f\"] + ground.states]\n",
    "    for g_state in ground.states:\n",
    "        row = [g_state]\n",
    "        for g_state_1 in ground.states:\n",
    "            row.append(abs(M1_elements[kk][g_state][g_state_1]))\n",
    "        table.append(row)\n",
    "    print(f\"Polarization: {polarization}. Unit: 2π MHz/T.\")\n",
    "    print_table(table, ndecimals=2)\n",
    "    print()"
   ]
  },
  {
   "cell_type": "code",
   "execution_count": null,
   "id": "f21ba649-be9b-4d1c-bbd8-d87bd8bb27d7",
   "metadata": {},
   "outputs": [],
   "source": []
  }
 ],
 "metadata": {
  "kernelspec": {
   "display_name": "Python 3 (ipykernel)",
   "language": "python",
   "name": "python3"
  },
  "language_info": {
   "codemirror_mode": {
    "name": "ipython",
    "version": 3
   },
   "file_extension": ".py",
   "mimetype": "text/x-python",
   "name": "python",
   "nbconvert_exporter": "python",
   "pygments_lexer": "ipython3",
   "version": "3.10.11"
  }
 },
 "nbformat": 4,
 "nbformat_minor": 5
}
