{
 "cells": [
  {
   "cell_type": "code",
   "execution_count": 1,
   "id": "85007266-8e01-4abd-847c-ed34a49bf8f5",
   "metadata": {},
   "outputs": [],
   "source": [
    "from numbers import Number\n",
    "import numpy as np\n",
    "import matplotlib.pyplot as plt\n",
    "import onix.models.hyperfine as hyperfine"
   ]
  },
  {
   "cell_type": "code",
   "execution_count": 15,
   "id": "8896c9c4-a297-47c6-9d2b-cb2fe4065b40",
   "metadata": {},
   "outputs": [],
   "source": [
    "ground = hyperfine.states[\"7F0\"]\n",
    "excited = hyperfine.states[\"5D0\"]\n",
    "optical_hyperfine_probabilities = hyperfine.optical_hyperfine_probabilities"
   ]
  },
  {
   "cell_type": "code",
   "execution_count": 16,
   "id": "1616351f-962e-49fd-861f-d227562981da",
   "metadata": {},
   "outputs": [],
   "source": [
    "def print_table(lists, ndecimals=3, column_size=8):\n",
    "    for list in lists:\n",
    "        line = \"\"\n",
    "        for kk in list:\n",
    "            if isinstance(kk, float):\n",
    "                line += f\"{kk:{column_size}.{ndecimals}f}\"\n",
    "            elif isinstance(kk, int):\n",
    "                line += f\"{kk:{column_size}.{ndecimals}f}\"\n",
    "            else:\n",
    "                line += f\"{kk:>{column_size}}\"\n",
    "        print(line)"
   ]
  },
  {
   "cell_type": "markdown",
   "id": "f27fbaa7-02b3-4b29-9ba2-855d76ad970a",
   "metadata": {},
   "source": [
    "### Optical hyperfine probabilities"
   ]
  },
  {
   "cell_type": "code",
   "execution_count": 17,
   "id": "1f867bd2-4460-47ec-a63b-9e9e1e6338d7",
   "metadata": {},
   "outputs": [
    {
     "name": "stdout",
     "output_type": "stream",
     "text": [
      "580 nm hyperfine excitation probabilities:\n",
      "     g\\e       c      c'       b      b'       a      a'\n",
      "       a   0.856   0.014   0.031   0.067   0.001   0.031\n",
      "      a'   0.014   0.856   0.067   0.031   0.031   0.001\n",
      "       b   0.111   0.004   0.396   0.320   0.040   0.129\n",
      "      b'   0.004   0.111   0.320   0.396   0.129   0.040\n",
      "       c   0.005   0.011   0.149   0.036   0.322   0.478\n",
      "      c'   0.011   0.005   0.036   0.149   0.478   0.322\n"
     ]
    }
   ],
   "source": [
    "table = [[\"g\\\\e\"] + excited.states]\n",
    "for g_state in ground.states:\n",
    "    row = [g_state]\n",
    "    for e_state in excited.states:\n",
    "        row.append(optical_hyperfine_probabilities[g_state][e_state])\n",
    "    table.append(row)\n",
    "print(\"580 nm hyperfine excitation probabilities:\")\n",
    "print_table(table)"
   ]
  },
  {
   "cell_type": "markdown",
   "id": "e562882f-7f74-427a-8c7f-aabf8d6d3d05",
   "metadata": {},
   "source": [
    "### Ground M1 matrix elements"
   ]
  },
  {
   "cell_type": "code",
   "execution_count": 18,
   "id": "c88081ca-8515-42c6-bd79-8b87ac4536a9",
   "metadata": {},
   "outputs": [
    {
     "name": "stdout",
     "output_type": "stream",
     "text": [
      "Polarization: σ+. Unit: 2π kHz/G.\n",
      "     i\\f       a      a'       b      b'       c      c'\n",
      "       a   0.502   0.107   0.020   0.021   0.012   0.005\n",
      "      a'   0.198   0.272   0.198   0.110   0.025   0.030\n",
      "       b   0.064   0.141   0.305   0.310   0.123   0.043\n",
      "      b'   0.049   0.200   0.122   0.097   0.280   0.140\n",
      "       c   0.012   0.106   0.117   0.126   0.165   0.275\n",
      "      c'   0.008   0.025   0.064   0.161   0.148   0.271\n",
      "\n",
      "Polarization: σ-. Unit: 2π kHz/G.\n",
      "     i\\f       a      a'       b      b'       c      c'\n",
      "       a   0.502   0.198   0.064   0.049   0.012   0.008\n",
      "      a'   0.107   0.272   0.141   0.200   0.106   0.025\n",
      "       b   0.020   0.198   0.305   0.122   0.117   0.064\n",
      "      b'   0.021   0.110   0.310   0.097   0.126   0.161\n",
      "       c   0.012   0.025   0.123   0.280   0.165   0.148\n",
      "      c'   0.005   0.030   0.043   0.140   0.275   0.271\n",
      "\n",
      "Polarization: π. Unit: 2π kHz/G.\n",
      "     i\\f       a      a'       b      b'       c      c'\n",
      "       a   0.265   0.440   0.121   0.072   0.005   0.019\n",
      "      a'   0.440   0.279   0.256   0.414   0.190   0.002\n",
      "       b   0.121   0.256   0.093   0.416   0.227   0.068\n",
      "      b'   0.072   0.414   0.416   0.058   0.474   0.273\n",
      "       c   0.005   0.190   0.227   0.474   0.121   0.750\n",
      "      c'   0.019   0.002   0.068   0.273   0.750   0.457\n",
      "\n"
     ]
    }
   ],
   "source": [
    "M1_elements = ground.m1_elements()\n",
    "for kk, polarization in enumerate([\"σ+\", \"σ-\", \"π\"]):\n",
    "    table = [[\"i\\\\f\"] + ground.states]\n",
    "    for g_state in ground.states:\n",
    "        row = [g_state]\n",
    "        for g_state_1 in ground.states:\n",
    "            MHz_per_T_to_kHz_per_G = 1e6 / (1e3 / 1e-4)\n",
    "            row.append(abs(M1_elements[kk][g_state][g_state_1] * MHz_per_T_to_kHz_per_G))\n",
    "        table.append(row)\n",
    "    print(f\"Polarization: {polarization}. Unit: 2π kHz/G.\")\n",
    "    print_table(table, ndecimals=3)\n",
    "    print()"
   ]
  },
  {
   "cell_type": "code",
   "execution_count": null,
   "id": "e76be9e1-4b59-45ac-8cce-dd7a0da1a5db",
   "metadata": {},
   "outputs": [],
   "source": []
  }
 ],
 "metadata": {
  "kernelspec": {
   "display_name": "Python 3 (ipykernel)",
   "language": "python",
   "name": "python3"
  },
  "language_info": {
   "codemirror_mode": {
    "name": "ipython",
    "version": 3
   },
   "file_extension": ".py",
   "mimetype": "text/x-python",
   "name": "python",
   "nbconvert_exporter": "python",
   "pygments_lexer": "ipython3",
   "version": "3.12.1"
  }
 },
 "nbformat": 4,
 "nbformat_minor": 5
}
