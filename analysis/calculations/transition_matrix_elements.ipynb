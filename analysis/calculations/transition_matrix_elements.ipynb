{
 "cells": [
  {
   "cell_type": "code",
   "execution_count": 1,
   "id": "85007266-8e01-4abd-847c-ed34a49bf8f5",
   "metadata": {},
   "outputs": [],
   "source": [
    "from numbers import Number\n",
    "import numpy as np\n",
    "import matplotlib.pyplot as plt\n",
    "import onix.models.hyperfine as hyperfine"
   ]
  },
  {
   "cell_type": "code",
   "execution_count": 2,
   "id": "8896c9c4-a297-47c6-9d2b-cb2fe4065b40",
   "metadata": {},
   "outputs": [],
   "source": [
    "ground = hyperfine.states[\"7F0\"]\n",
    "excited = hyperfine.states[\"5D0\"]\n",
    "optical_hyperfine_probabilities = hyperfine.optical_hyperfine_probabilities"
   ]
  },
  {
   "cell_type": "code",
   "execution_count": 3,
   "id": "1616351f-962e-49fd-861f-d227562981da",
   "metadata": {},
   "outputs": [],
   "source": [
    "def print_table(lists, ndecimals=3, column_size=8):\n",
    "    for list in lists:\n",
    "        line = \"\"\n",
    "        for kk in list:\n",
    "            if isinstance(kk, float):\n",
    "                line += f\"{kk:{column_size}.{ndecimals}f}\"\n",
    "            elif isinstance(kk, int):\n",
    "                line += f\"{kk:{column_size}.{ndecimals}f}\"\n",
    "            else:\n",
    "                line += f\"{kk:>{column_size}}\"\n",
    "        print(line)"
   ]
  },
  {
   "cell_type": "markdown",
   "id": "f27fbaa7-02b3-4b29-9ba2-855d76ad970a",
   "metadata": {},
   "source": [
    "### Optical hyperfine probabilities"
   ]
  },
  {
   "cell_type": "code",
   "execution_count": 4,
   "id": "1f867bd2-4460-47ec-a63b-9e9e1e6338d7",
   "metadata": {},
   "outputs": [
    {
     "name": "stdout",
     "output_type": "stream",
     "text": [
      "580 nm hyperfine excitation probabilities:\n",
      "     g\\e       c      c'       b      b'       a      a'\n",
      "       a   0.866   0.004   0.094   0.004   0.031   0.001\n",
      "      a'   0.004   0.866   0.004   0.094   0.001   0.031\n",
      "       b   0.105   0.009   0.690   0.026   0.157   0.012\n",
      "      b'   0.009   0.105   0.026   0.690   0.012   0.157\n",
      "       c   0.007   0.009   0.163   0.022   0.799   0.000\n",
      "      c'   0.009   0.007   0.022   0.163   0.000   0.799\n"
     ]
    }
   ],
   "source": [
    "table = [[\"g\\\\e\"] + excited.states]\n",
    "for g_state in ground.states:\n",
    "    row = [g_state]\n",
    "    for e_state in excited.states:\n",
    "        row.append(optical_hyperfine_probabilities[g_state][e_state])\n",
    "    table.append(row)\n",
    "print(\"580 nm hyperfine excitation probabilities:\")\n",
    "print_table(table)"
   ]
  },
  {
   "cell_type": "markdown",
   "id": "e562882f-7f74-427a-8c7f-aabf8d6d3d05",
   "metadata": {},
   "source": [
    "### Ground M1 matrix elements"
   ]
  },
  {
   "cell_type": "code",
   "execution_count": 6,
   "id": "c88081ca-8515-42c6-bd79-8b87ac4536a9",
   "metadata": {},
   "outputs": [
    {
     "name": "stdout",
     "output_type": "stream",
     "text": [
      "Polarization: σ+. Unit: 2π kHz/G.\n",
      "     i\\f       a      a'       b      b'       c      c'\n",
      "       a   1.088   0.006   0.523   0.156   0.130   0.049\n",
      "      a'   0.049   1.088   0.125   0.166   0.084   0.036\n",
      "       b   0.166   0.156   0.525   0.111   0.664   0.202\n",
      "      b'   0.125   0.523   0.499   0.525   0.216   0.085\n",
      "       c   0.036   0.049   0.085   0.202   0.533   0.099\n",
      "      c'   0.084   0.130   0.216   0.664   0.225   0.533\n",
      "\n",
      "Polarization: σ-. Unit: 2π kHz/G.\n",
      "     i\\f       a      a'       b      b'       c      c'\n",
      "       a   1.088   0.049   0.166   0.125   0.036   0.084\n",
      "      a'   0.006   1.088   0.156   0.523   0.049   0.130\n",
      "       b   0.523   0.125   0.525   0.499   0.085   0.216\n",
      "      b'   0.156   0.166   0.111   0.525   0.202   0.664\n",
      "       c   0.130   0.084   0.664   0.216   0.533   0.225\n",
      "      c'   0.049   0.036   0.202   0.085   0.099   0.533\n",
      "\n",
      "Polarization: π. Unit: 2π kHz/G.\n",
      "     i\\f       a      a'       b      b'       c      c'\n",
      "       a   0.344   0.069   0.980   0.325   0.169   0.154\n",
      "      a'   0.069   0.344   0.325   0.980   0.154   0.169\n",
      "       b   0.980   0.325   0.693   0.633   0.696   0.611\n",
      "      b'   0.325   0.980   0.633   0.693   0.611   0.696\n",
      "       c   0.169   0.154   0.696   0.611   2.019   0.213\n",
      "      c'   0.154   0.169   0.611   0.696   0.213   2.019\n",
      "\n"
     ]
    }
   ],
   "source": [
    "M1_elements = ground.m1_elements()\n",
    "for kk, polarization in enumerate([\"σ+\", \"σ-\", \"π\"]):\n",
    "    table = [[\"i\\\\f\"] + ground.states]\n",
    "    for g_state in ground.states:\n",
    "        row = [g_state]\n",
    "        for g_state_1 in ground.states:\n",
    "            MHz_per_T_to_kHz_per_G = 1e6 / (1e3 / 1e-4)\n",
    "            row.append(abs(M1_elements[kk][g_state][g_state_1] * MHz_per_T_to_kHz_per_G))\n",
    "        table.append(row)\n",
    "    print(f\"Polarization: {polarization}. Unit: 2π kHz/G.\")\n",
    "    print_table(table, ndecimals=3)\n",
    "    print()"
   ]
  },
  {
   "cell_type": "code",
   "execution_count": null,
   "id": "e76be9e1-4b59-45ac-8cce-dd7a0da1a5db",
   "metadata": {},
   "outputs": [],
   "source": []
  }
 ],
 "metadata": {
  "kernelspec": {
   "display_name": "Python 3 (ipykernel)",
   "language": "python",
   "name": "python3"
  },
  "language_info": {
   "codemirror_mode": {
    "name": "ipython",
    "version": 3
   },
   "file_extension": ".py",
   "mimetype": "text/x-python",
   "name": "python",
   "nbconvert_exporter": "python",
   "pygments_lexer": "ipython3",
   "version": "3.10.11"
  }
 },
 "nbformat": 4,
 "nbformat_minor": 5
}
