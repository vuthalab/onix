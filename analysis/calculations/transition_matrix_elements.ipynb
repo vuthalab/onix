{
 "cells": [
  {
   "cell_type": "code",
   "execution_count": 5,
   "id": "85007266-8e01-4abd-847c-ed34a49bf8f5",
   "metadata": {},
   "outputs": [],
   "source": [
    "from numbers import Number\n",
    "import numpy as np\n",
    "import pandas as pd\n",
    "import matplotlib.pyplot as plt\n",
    "import onix.models.hyperfine as hyperfine"
   ]
  },
  {
   "cell_type": "code",
   "execution_count": 6,
   "id": "8896c9c4-a297-47c6-9d2b-cb2fe4065b40",
   "metadata": {},
   "outputs": [],
   "source": [
    "ground = hyperfine.states[\"7F0\"]\n",
    "excited = hyperfine.states[\"5D0\"]"
   ]
  },
  {
   "cell_type": "code",
   "execution_count": 7,
   "id": "dfab84ca-903d-47b0-b638-08163fd372ce",
   "metadata": {},
   "outputs": [
    {
     "name": "stdout",
     "output_type": "stream",
     "text": [
      "301960.9394758049\n",
      "167598.8761199676\n"
     ]
    }
   ],
   "source": [
    "ground._Hamiltonian = ground.H_total(265.4e-4)\n",
    "print((ground.energies_and_eigenstates()[0][1] - ground.energies_and_eigenstates()[0][0]) * 1e6)\n",
    "print((ground.energies_and_eigenstates()[0][3] - ground.energies_and_eigenstates()[0][2]) * 1e6)"
   ]
  },
  {
   "cell_type": "code",
   "execution_count": 8,
   "id": "1616351f-962e-49fd-861f-d227562981da",
   "metadata": {},
   "outputs": [],
   "source": [
    "def print_table(lists, ndecimals=3, column_size=8, first_column_size=None):\n",
    "    if first_column_size is None:\n",
    "        first_column_size = column_size\n",
    "    for list in lists:\n",
    "        line = \"\"\n",
    "        for kk, item in enumerate(list):\n",
    "            if kk == 0:\n",
    "                this_column_size = first_column_size\n",
    "            else:\n",
    "                this_column_size = column_size\n",
    "            if isinstance(item, float):\n",
    "                line += f\"{item:{this_column_size}.{ndecimals}f}\"\n",
    "            elif isinstance(item, int):\n",
    "                line += f\"{item:{this_column_size}.{ndecimals}f}\"\n",
    "            else:\n",
    "                line += f\"{item:>{this_column_size}}\"\n",
    "        print(line)"
   ]
  },
  {
   "cell_type": "markdown",
   "id": "f27fbaa7-02b3-4b29-9ba2-855d76ad970a",
   "metadata": {},
   "source": [
    "### Optical hyperfine probabilities"
   ]
  },
  {
   "cell_type": "code",
   "execution_count": 9,
   "id": "1f867bd2-4460-47ec-a63b-9e9e1e6338d7",
   "metadata": {},
   "outputs": [
    {
     "name": "stdout",
     "output_type": "stream",
     "text": [
      "580 nm hyperfine excitation probabilities:\n",
      "     g\\e       c      c'       b      b'       a      a'\n",
      "       a   0.856   0.014   0.032   0.067   0.001   0.031\n",
      "      a'   0.014   0.856   0.067   0.031   0.031   0.001\n",
      "       b   0.111   0.004   0.396   0.320   0.040   0.129\n",
      "      b'   0.004   0.110   0.320   0.396   0.129   0.041\n",
      "       c   0.005   0.011   0.149   0.036   0.322   0.477\n",
      "      c'   0.011   0.005   0.036   0.150   0.478   0.321\n"
     ]
    }
   ],
   "source": [
    "optical_hyperfine_probabilities = hyperfine.get_optical_hyperfine_probabilities(0.02)\n",
    "table = [[\"g\\\\e\"] + excited.states]\n",
    "for g_state in ground.states:\n",
    "    row = [g_state]\n",
    "    for e_state in excited.states:\n",
    "        row.append(optical_hyperfine_probabilities[g_state][e_state])\n",
    "    table.append(row)\n",
    "print(\"580 nm hyperfine excitation probabilities:\")\n",
    "print_table(table)"
   ]
  },
  {
   "cell_type": "code",
   "execution_count": 19,
   "id": "7e5321b2-bf47-4389-aa94-d611939d8ca1",
   "metadata": {},
   "outputs": [
    {
     "data": {
      "text/html": [
       "<div>\n",
       "<style scoped>\n",
       "    .dataframe tbody tr th:only-of-type {\n",
       "        vertical-align: middle;\n",
       "    }\n",
       "\n",
       "    .dataframe tbody tr th {\n",
       "        vertical-align: top;\n",
       "    }\n",
       "\n",
       "    .dataframe thead th {\n",
       "        text-align: right;\n",
       "    }\n",
       "</style>\n",
       "<table border=\"1\" class=\"dataframe\">\n",
       "  <thead>\n",
       "    <tr style=\"text-align: right;\">\n",
       "      <th></th>\n",
       "      <th>a</th>\n",
       "      <th>a'</th>\n",
       "      <th>b</th>\n",
       "      <th>b'</th>\n",
       "      <th>c</th>\n",
       "      <th>c'</th>\n",
       "    </tr>\n",
       "  </thead>\n",
       "  <tbody>\n",
       "    <tr>\n",
       "      <th>c</th>\n",
       "      <td>0.856125</td>\n",
       "      <td>0.013702</td>\n",
       "      <td>0.110704</td>\n",
       "      <td>0.003896</td>\n",
       "      <td>0.004720</td>\n",
       "      <td>0.010852</td>\n",
       "    </tr>\n",
       "    <tr>\n",
       "      <th>c'</th>\n",
       "      <td>0.013728</td>\n",
       "      <td>0.856281</td>\n",
       "      <td>0.003943</td>\n",
       "      <td>0.110403</td>\n",
       "      <td>0.010889</td>\n",
       "      <td>0.004756</td>\n",
       "    </tr>\n",
       "    <tr>\n",
       "      <th>b</th>\n",
       "      <td>0.031572</td>\n",
       "      <td>0.067103</td>\n",
       "      <td>0.396374</td>\n",
       "      <td>0.319916</td>\n",
       "      <td>0.149306</td>\n",
       "      <td>0.035730</td>\n",
       "    </tr>\n",
       "    <tr>\n",
       "      <th>b'</th>\n",
       "      <td>0.067073</td>\n",
       "      <td>0.031408</td>\n",
       "      <td>0.319640</td>\n",
       "      <td>0.396418</td>\n",
       "      <td>0.035958</td>\n",
       "      <td>0.149502</td>\n",
       "    </tr>\n",
       "    <tr>\n",
       "      <th>a</th>\n",
       "      <td>0.000948</td>\n",
       "      <td>0.030556</td>\n",
       "      <td>0.040281</td>\n",
       "      <td>0.128860</td>\n",
       "      <td>0.321660</td>\n",
       "      <td>0.477694</td>\n",
       "    </tr>\n",
       "    <tr>\n",
       "      <th>a'</th>\n",
       "      <td>0.030553</td>\n",
       "      <td>0.000950</td>\n",
       "      <td>0.129057</td>\n",
       "      <td>0.040507</td>\n",
       "      <td>0.477467</td>\n",
       "      <td>0.321466</td>\n",
       "    </tr>\n",
       "  </tbody>\n",
       "</table>\n",
       "</div>"
      ],
      "text/plain": [
       "           a        a'         b        b'         c        c'\n",
       "c   0.856125  0.013702  0.110704  0.003896  0.004720  0.010852\n",
       "c'  0.013728  0.856281  0.003943  0.110403  0.010889  0.004756\n",
       "b   0.031572  0.067103  0.396374  0.319916  0.149306  0.035730\n",
       "b'  0.067073  0.031408  0.319640  0.396418  0.035958  0.149502\n",
       "a   0.000948  0.030556  0.040281  0.128860  0.321660  0.477694\n",
       "a'  0.030553  0.000950  0.129057  0.040507  0.477467  0.321466"
      ]
     },
     "execution_count": 19,
     "metadata": {},
     "output_type": "execute_result"
    }
   ],
   "source": [
    "df = pd.DataFrame(optical_hyperfine_probabilities)\n",
    "df"
   ]
  },
  {
   "cell_type": "markdown",
   "id": "e562882f-7f74-427a-8c7f-aabf8d6d3d05",
   "metadata": {},
   "source": [
    "### Ground M1 matrix elements"
   ]
  },
  {
   "cell_type": "code",
   "execution_count": 10,
   "id": "c88081ca-8515-42c6-bd79-8b87ac4536a9",
   "metadata": {},
   "outputs": [
    {
     "name": "stdout",
     "output_type": "stream",
     "text": [
      "Polarization: σ+. Unit: 2π kHz/G.\n",
      "     i\\f       a      a'       b      b'       c      c'\n",
      "       a   0.480   0.014   0.086   0.036   0.031   0.025\n",
      "      a'   0.014   0.480   0.080   0.227   0.039   0.048\n",
      "       b   0.227   0.036   0.241   0.146   0.122   0.116\n",
      "      b'   0.080   0.086   0.146   0.241   0.176   0.212\n",
      "       c   0.048   0.025   0.212   0.117   0.062   0.240\n",
      "      c'   0.039   0.031   0.176   0.122   0.240   0.063\n",
      "\n",
      "Polarization: σ-. Unit: 2π kHz/G.\n",
      "     i\\f       a      a'       b      b'       c      c'\n",
      "       a   0.480   0.014   0.227   0.080   0.048   0.039\n",
      "      a'   0.014   0.480   0.036   0.086   0.025   0.031\n",
      "       b   0.086   0.080   0.241   0.146   0.212   0.176\n",
      "      b'   0.036   0.227   0.146   0.241   0.117   0.122\n",
      "       c   0.031   0.039   0.122   0.176   0.062   0.240\n",
      "      c'   0.025   0.048   0.116   0.212   0.240   0.063\n",
      "\n",
      "Polarization: π. Unit: 2π kHz/G.\n",
      "     i\\f       a      a'       b      b'       c      c'\n",
      "       a   0.152   0.033   0.442   0.112   0.046   0.090\n",
      "      a'   0.033   0.151   0.112   0.442   0.090   0.046\n",
      "       b   0.442   0.112   0.168   0.379   0.370   0.174\n",
      "      b'   0.112   0.442   0.379   0.167   0.175   0.370\n",
      "       c   0.046   0.090   0.370   0.175   0.141   0.885\n",
      "      c'   0.090   0.046   0.174   0.370   0.885   0.142\n",
      "\n"
     ]
    }
   ],
   "source": [
    "M1_elements = ground.m1_elements()\n",
    "for kk, polarization in enumerate([\"σ+\", \"σ-\", \"π\"]):\n",
    "    table = [[\"i\\\\f\"] + ground.states]\n",
    "    for g_state in ground.states:\n",
    "        row = [g_state]\n",
    "        for g_state_1 in ground.states:\n",
    "            MHz_per_T_to_kHz_per_G = 1e6 / (1e3 / 1e-4)\n",
    "            row.append(abs(M1_elements[kk][g_state][g_state_1] * MHz_per_T_to_kHz_per_G))\n",
    "        table.append(row)\n",
    "    print(f\"Polarization: {polarization}. Unit: 2π kHz/G.\")\n",
    "    print_table(table, ndecimals=3)\n",
    "    print()"
   ]
  },
  {
   "cell_type": "markdown",
   "id": "185fbd84-dcd2-4880-bd5c-f2ffabbe3a7d",
   "metadata": {},
   "source": [
    "## Schiff moment sensitivities"
   ]
  },
  {
   "cell_type": "code",
   "execution_count": 11,
   "id": "751204c9-27ac-423e-82ef-c37083aa97d3",
   "metadata": {},
   "outputs": [
    {
     "name": "stdout",
     "output_type": "stream",
     "text": [
      "7F0 Schiff moment sensitivities:\n",
      "              Properties       a      a'       b      b'       c      c'\n",
      "   Schiff sensitivity D1  -1.766   1.766  -0.639   0.639   0.069  -0.070\n",
      "   Schiff sensitivity D2  -0.680   0.678  -0.604   0.603  -0.155   0.157\n",
      "\n"
     ]
    }
   ],
   "source": [
    "table = [[\"Properties\"] + ground.states]\n",
    "energies, eigenstates = ground.energies_and_eigenstates()\n",
    "row = [\"Schiff sensitivity D1\"]\n",
    "for eigenstate in eigenstates:\n",
    "    row.append(ground.Schiff_moment_sensitivity(eigenstate)[0])\n",
    "table.append(row)\n",
    "row = [\"Schiff sensitivity D2\"]\n",
    "for eigenstate in eigenstates:\n",
    "    row.append(ground.Schiff_moment_sensitivity(eigenstate)[1])\n",
    "table.append(row)\n",
    "print(\"7F0 Schiff moment sensitivities:\")\n",
    "print_table(table, ndecimals=3, first_column_size=24)\n",
    "print()"
   ]
  }
 ],
 "metadata": {
  "kernelspec": {
   "display_name": "Python 3 (ipykernel)",
   "language": "python",
   "name": "python3"
  },
  "language_info": {
   "codemirror_mode": {
    "name": "ipython",
    "version": 3
   },
   "file_extension": ".py",
   "mimetype": "text/x-python",
   "name": "python",
   "nbconvert_exporter": "python",
   "pygments_lexer": "ipython3",
   "version": "3.12.1"
  }
 },
 "nbformat": 4,
 "nbformat_minor": 5
}
