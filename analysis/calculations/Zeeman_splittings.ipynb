{
 "cells": [
  {
   "cell_type": "code",
   "execution_count": 2,
   "id": "299136ae-fdb6-4011-a61a-3772c1adfa26",
   "metadata": {},
   "outputs": [],
   "source": [
    "import numpy as np\n",
    "import matplotlib.pyplot as plt\n",
    "from onix.models.hyperfine import states"
   ]
  },
  {
   "cell_type": "code",
   "execution_count": 9,
   "id": "5c36ff23-e911-406c-a465-077d44ea1e97",
   "metadata": {},
   "outputs": [],
   "source": [
    "state_7f0 = states[\"7F0\"]\n",
    "energies, eigenstates = state_7f0.energies_and_eigenstates()"
   ]
  },
  {
   "cell_type": "code",
   "execution_count": 11,
   "id": "09a57974-b950-4715-bdcf-ef762e85bc0a",
   "metadata": {},
   "outputs": [
    {
     "data": {
      "text/plain": [
       "-12.88869733742518"
      ]
     },
     "execution_count": 11,
     "metadata": {},
     "output_type": "execute_result"
    }
   ],
   "source": [
    "state_7f0.magnetic_field_sensitivity(eigenvector=eigenstates[0])[0]"
   ]
  },
  {
   "cell_type": "code",
   "execution_count": 12,
   "id": "5874dca6-1c45-44c1-9fc3-6258d8c1447d",
   "metadata": {},
   "outputs": [
    {
     "data": {
      "text/plain": [
       "12.88869106748171"
      ]
     },
     "execution_count": 12,
     "metadata": {},
     "output_type": "execute_result"
    }
   ],
   "source": [
    "state_7f0.magnetic_field_sensitivity(eigenvector=eigenstates[1])[0]"
   ]
  },
  {
   "cell_type": "code",
   "execution_count": 13,
   "id": "ca08a093-303e-40e2-b355-f1d020bf8ec9",
   "metadata": {},
   "outputs": [
    {
     "data": {
      "text/plain": [
       "-7.154125454907206"
      ]
     },
     "execution_count": 13,
     "metadata": {},
     "output_type": "execute_result"
    }
   ],
   "source": [
    "state_7f0.magnetic_field_sensitivity(eigenvector=eigenstates[2])[0]"
   ]
  },
  {
   "cell_type": "code",
   "execution_count": 14,
   "id": "b8406de6-3626-4a1f-b4ac-85e34e5fc859",
   "metadata": {},
   "outputs": [
    {
     "data": {
      "text/plain": [
       "7.154115878345209"
      ]
     },
     "execution_count": 14,
     "metadata": {},
     "output_type": "execute_result"
    }
   ],
   "source": [
    "state_7f0.magnetic_field_sensitivity(eigenvector=eigenstates[3])[0]"
   ]
  },
  {
   "cell_type": "code",
   "execution_count": 15,
   "id": "6f8012d9-c95b-4b48-b55f-0b488bee32e0",
   "metadata": {},
   "outputs": [],
   "source": [
    "a = 12.8886\n",
    "b = 7.1541"
   ]
  },
  {
   "cell_type": "code",
   "execution_count": 20,
   "id": "8e6017a5-886b-417f-87ed-8133d513b078",
   "metadata": {},
   "outputs": [
    {
     "data": {
      "text/plain": [
       "125.01210000000003"
      ]
     },
     "execution_count": 20,
     "metadata": {},
     "output_type": "execute_result"
    }
   ],
   "source": [
    "(a - b) * 1000 / 10000 * 218"
   ]
  },
  {
   "cell_type": "code",
   "execution_count": 21,
   "id": "cb2feb6c-011b-4160-9718-dff4ef2b8448",
   "metadata": {},
   "outputs": [
    {
     "data": {
      "text/plain": [
       "436.93086"
      ]
     },
     "execution_count": 21,
     "metadata": {},
     "output_type": "execute_result"
    }
   ],
   "source": [
    "(a + b) * 1000 / 10000 * 218"
   ]
  },
  {
   "cell_type": "code",
   "execution_count": null,
   "id": "24a81631-0ef0-4ce0-8ed8-927220fcb9a9",
   "metadata": {},
   "outputs": [],
   "source": []
  }
 ],
 "metadata": {
  "kernelspec": {
   "display_name": "Python 3 (ipykernel)",
   "language": "python",
   "name": "python3"
  },
  "language_info": {
   "codemirror_mode": {
    "name": "ipython",
    "version": 3
   },
   "file_extension": ".py",
   "mimetype": "text/x-python",
   "name": "python",
   "nbconvert_exporter": "python",
   "pygments_lexer": "ipython3",
   "version": "3.12.0"
  }
 },
 "nbformat": 4,
 "nbformat_minor": 5
}
