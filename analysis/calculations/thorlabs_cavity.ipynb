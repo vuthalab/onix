{
 "cells": [
  {
   "cell_type": "code",
   "execution_count": 1,
   "id": "c0c04180-2c93-4bad-8176-b20984d6c091",
   "metadata": {},
   "outputs": [],
   "source": [
    "from onix.models.cavity import Mirror, Cavity"
   ]
  },
  {
   "cell_type": "code",
   "execution_count": 51,
   "id": "cd09fe1c-cb16-4c10-bbfe-1a8402c18976",
   "metadata": {},
   "outputs": [],
   "source": [
    "m = Mirror()\n",
    "m.radiusOfcurvature = 50e-3\n",
    "m.thickness = 2e-3\n",
    "m.radius = 12.7e-3\n",
    "c = Cavity(m)\n",
    "c.lamda = 580e-9\n",
    "c.length = 50e-3\n",
    "\n",
    "waist_position = c.t - m.thickness - c.length / 2\n",
    "waist_position_eff = c.t_eff - m.thickness - c.length / 2"
   ]
  },
  {
   "cell_type": "code",
   "execution_count": 52,
   "id": "1d970791-9395-4e3a-a76a-3d97f45427dc",
   "metadata": {},
   "outputs": [
    {
     "name": "stdout",
     "output_type": "stream",
     "text": [
      "The input beam waist should be 68 um and be put at -2 mm before the cavity center.\n"
     ]
    }
   ],
   "source": [
    "print(f\"The input beam waist should be {c.w_0*1e6:.0f} um and be put at {waist_position*1e3:.0f} mm before the cavity center.\")"
   ]
  },
  {
   "cell_type": "code",
   "execution_count": 54,
   "id": "9952d684-b545-4e3f-89ff-339c08d83655",
   "metadata": {},
   "outputs": [
    {
     "name": "stdout",
     "output_type": "stream",
     "text": [
      "With considering the mirror diffraction, measured in free space, the input beam waist should be 54 um and be put at -3 mm before the cavity center.\n"
     ]
    }
   ],
   "source": [
    "print(f\"With considering the mirror diffraction, measured in free space, the input beam waist should be {c.w_0_eff*1e6:.0f} um and be put at {waist_position_eff*1e3:.0f} mm before the cavity center.\")"
   ]
  },
  {
   "cell_type": "code",
   "execution_count": null,
   "id": "7001008f-0edf-4a7d-badd-4ef61e347880",
   "metadata": {},
   "outputs": [],
   "source": []
  }
 ],
 "metadata": {
  "kernelspec": {
   "display_name": "Python 3 (ipykernel)",
   "language": "python",
   "name": "python3"
  },
  "language_info": {
   "codemirror_mode": {
    "name": "ipython",
    "version": 3
   },
   "file_extension": ".py",
   "mimetype": "text/x-python",
   "name": "python",
   "nbconvert_exporter": "python",
   "pygments_lexer": "ipython3",
   "version": "3.10.11"
  }
 },
 "nbformat": 4,
 "nbformat_minor": 5
}
