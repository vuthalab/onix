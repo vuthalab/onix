{
 "cells": [
  {
   "cell_type": "markdown",
   "id": "5c381033",
   "metadata": {},
   "source": [
    "## Imports and constants"
   ]
  },
  {
   "cell_type": "code",
   "execution_count": 1,
   "id": "f47a9aaf",
   "metadata": {},
   "outputs": [],
   "source": [
    "import os\n",
    "import numpy as np\n",
    "import scipy.stats as st\n",
    "import matplotlib.pyplot as plt\n",
    "\n",
    "from onix.data_tools import get_experiment_data, open_analysis_folder, get_analysis_file_path\n",
    "from onix.helpers import data_identifier, console_bold\n",
    "\n",
    "%matplotlib inline"
   ]
  },
  {
   "cell_type": "code",
   "execution_count": 2,
   "id": "b28793c0",
   "metadata": {},
   "outputs": [],
   "source": [
    "name = \"Fluorescence Decay\"\n",
    "analysis_number = None\n",
    "identifier = None"
   ]
  },
  {
   "cell_type": "code",
   "execution_count": 3,
   "id": "4e7f523a",
   "metadata": {},
   "outputs": [],
   "source": [
    "def add_label(ax, x=0.02, y=1.1):\n",
    "    ax.text(x, y, identifier, transform=ax.transAxes)"
   ]
  },
  {
   "cell_type": "code",
   "execution_count": 1,
   "id": "55d96d35-7816-4e7c-94e7-0634bbd74cdf",
   "metadata": {},
   "outputs": [],
   "source": [
    "class FluorescenceDecay:\n",
    "    def __init__(self, data_signal, data_background=None):\n",
    "        self._data_signal = data_signal\n",
    "        self._data_background = data_background\n",
    "        self._average_data()\n",
    "\n",
    "    def _average_data(self):\n",
    "        self._times = self._data_signal[0][\"pmt_times\"]\n",
    "        if self._data_background is not None and self._times != self._data_background[0][\"pmt_times\"]:\n",
    "            raise Exception(\"Signal and background data must be taken using the same timing parameters.\")\n",
    "        self.times_ms = self._times * 1e3\n",
    "        signal_voltages = self._data_signal[0][\"pmt_voltages\"]\n",
    "        self.V_signal_avg = np.average(signal_voltages, axis=1)\n",
    "        self.V_signal_err = np.std(signal_voltages, axis=1) / np.sqrt(len(signal_voltages))\n",
    "        if self._data_background is not None:\n",
    "            background_voltages = self._data_signal[0][\"pmt_voltages\"]\n",
    "            self.V_background_avg = np.average(background_voltages, axis=1)\n",
    "            self.V_background_err = np.std(background_voltages, axis=1) / np.sqrt(len(background_voltages))\n",
    "            self.V_diff_avg = self.V_signal_avg - self.V_background_avg\n",
    "            self.V_diff_err = np.sqrt(self.V_signal_err ** 2 + self.V_background_err ** 2)\n",
    "        else:\n",
    "            self.V_background_avg = None\n",
    "            self.V_background_err = None\n",
    "            self.V_diff_avg = self.V_signal_avg\n",
    "            self.V_diff_err = self.V_signal_err\n",
    "    \n",
    "    def get_test_data(self, test_time=10e-6, offset_time=100e-6):\n",
    "        test_start_time = offset_time * 2\n",
    "        test_end_time = offset_time * 2 + test_time + excitation_delay * 2\n",
    "        test_mask = np.bitwise_and(\n",
    "            self._times > test_start_time,\n",
    "            self._times <= test_end_time,\n",
    "        )\n",
    "        self._test_end = test_end_time + offset_time\n",
    "        self.test_times_ms = self.times_ms[test_mask]\n",
    "        self.V_signal_test_avg = self.V_signal_avg[test_times_ms]\n",
    "        self.V_signal_test_err = self.V_signal_err[test_times_ms]\n",
    "\n",
    "    def get_decay_data(self, excitation_time=5e-3, excitation_delay=10e-6):\n",
    "        decay_start_time = self._test_end + excitation_delay * 2 + excitation_time\n",
    "        decay_mask = self._times > decay_start_time\n",
    "        self.decay_times_ms = self.times_ms[decay_mask]\n",
    "        self.V_diff_decay_avg = self.V_diff_avg[decay_mask]\n",
    "        self.V_diff_decay_err = self.V_diff_err[decay_mask]"
   ]
  },
  {
   "cell_type": "markdown",
   "id": "0ce97680",
   "metadata": {},
   "source": [
    "## Setup"
   ]
  },
  {
   "cell_type": "code",
   "execution_count": 147,
   "id": "893c2ea1",
   "metadata": {},
   "outputs": [],
   "source": [
    "data_numbers = [82, 83]\n",
    "data = FluorescenceDecay(get_experiment_data(83), get_experiment_data(82))\n",
    "identifier = \"data \" + data_identifier(data_numbers) + \", analysis \" + data_identifier([analysis_number])"
   ]
  },
  {
   "cell_type": "code",
   "execution_count": 148,
   "id": "66c3aa77",
   "metadata": {},
   "outputs": [
    {
     "name": "stdout",
     "output_type": "stream",
     "text": [
      "Create new analysis folder? (y/n) y\n",
      "Current analysis number is 58\n"
     ]
    }
   ],
   "source": [
    "if input(f\"Create new analysis folder? (y/{console_bold('n')}) \") == \"y\":\n",
    "    analysis_number = open_analysis_folder(name)\n",
    "else:\n",
    "    if input(f\"Keep current analysis number of {analysis_number}? ({console_bold('y')}/n) \") == \"n\":\n",
    "        analysis_number = int(input(\"Enter analysis number: \"))\n",
    "identifier = \"data \" + data_identifier(data_numbers) + \", analysis \" + data_identifier([analysis_number])\n",
    "print(f\"Current analysis number is {analysis_number}\")"
   ]
  },
  {
   "cell_type": "markdown",
   "id": "35bd6d64",
   "metadata": {},
   "source": [
    "## Initial plot"
   ]
  },
  {
   "cell_type": "code",
   "execution_count": 149,
   "id": "401ea4af",
   "metadata": {},
   "outputs": [
    {
     "data": {
      "image/png": "[encoded data removed]",
      "text/plain": [
       "<Figure size 640x480 with 1 Axes>"
      ]
     },
     "metadata": {},
     "output_type": "display_data"
    }
   ],
   "source": [
    "fig, ax = plt.subplots()\n",
    "summed = None\n",
    "for kk in data[data_numbers[0]][0][\"pmt_voltages\"]:\n",
    "    if summed is None:\n",
    "        summed = np.zeros(len(kk))\n",
    "    else:\n",
    "        summed += kk\n",
    "summed /= len(data[data_numbers[0]][0][\"pmt_voltages\"])\n",
    "ax.plot(data[data_numbers[0]][0][\"pmt_times\"] * 1e3, summed)\n",
    "add_label(ax)\n",
    "ax.set_xlabel(\"time (ms)\")\n",
    "ax.set_ylabel(\"PMT voltage (V)\")\n",
    "#ax.set_xlim(0, 1.2)\n",
    "plt.tight_layout()\n",
    "plt.savefig(get_analysis_file_path(analysis_number, str(analysis_number) + \"_decay.pdf\"))\n",
    "plt.show()"
   ]
  },
  {
   "cell_type": "code",
   "execution_count": null,
   "id": "b17839d0",
   "metadata": {},
   "outputs": [],
   "source": []
  }
 ],
 "metadata": {
  "kernelspec": {
   "display_name": "Python 3 (ipykernel)",
   "language": "python",
   "name": "python3"
  },
  "language_info": {
   "codemirror_mode": {
    "name": "ipython",
    "version": 3
   },
   "file_extension": ".py",
   "mimetype": "text/x-python",
   "name": "python",
   "nbconvert_exporter": "python",
   "pygments_lexer": "ipython3",
   "version": "3.10.11"
  }
 },
 "nbformat": 4,
 "nbformat_minor": 5
}
