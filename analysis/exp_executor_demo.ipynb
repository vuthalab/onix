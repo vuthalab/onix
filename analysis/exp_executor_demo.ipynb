{
 "cells": [
  {
   "cell_type": "code",
   "execution_count": 1,
   "id": "aad4aebd-d2fd-49cf-8bc3-b37a4a282756",
   "metadata": {},
   "outputs": [],
   "source": [
    "import numpy as np\n",
    "\n",
    "from onix.units import ureg\n",
    "from onix.experiments.exp_executor import ExpSequence"
   ]
  },
  {
   "cell_type": "code",
   "execution_count": 37,
   "id": "32f12bd8-fa17-4eb9-9c50-e4326c5f18e2",
   "metadata": {},
   "outputs": [],
   "source": [
    "# minics what happens in the experiment definition creator\n",
    "# scans lf detuning from -10 kHz to 10 kHz.\n",
    "\n",
    "parameters = {\n",
    "    \"hyperfine\": {\n",
    "        \"7F0\": {\n",
    "            \"a\": 0 * ureg.MHz,\n",
    "            \"b\": 119.2 * ureg.MHz,\n",
    "            \"c\": 209.25 * ureg.MHz,\n",
    "        },\n",
    "        \"5D0\": {\n",
    "            \"a\": 450.8 * ureg.MHz,\n",
    "            \"b\": 191.3 * ureg.MHz,\n",
    "            \"c\": 0 * ureg.MHz,\n",
    "        }\n",
    "    },\n",
    "    \"ao\": {\n",
    "        \"channel_name\": \"ao_dp\",  # links to the actual hardware channel.\n",
    "        \"order\": 2,  # double-pass, upshifting.\n",
    "        \"frequency_ac\": 80 * ureg.MHz,  # ao frequency of the a -> c' transition.\n",
    "    },\n",
    "    \"shutter\": {\n",
    "        \"channel_name\": \"shutter\",\n",
    "    },\n",
    "    \"field_plate\": {\n",
    "        \"channel_name\": \"field_plate\",\n",
    "        \"low_voltage\": 1.25 * ureg.V,  # AWG output before the HV amplifier\n",
    "        \"high_voltage\": -0.002 * ureg.V,  # compensates the dc offset.\n",
    "        \"field_to_voltage\": 1 / (0.8 * ureg.cm),\n",
    "        \"dipole_moment\": 27.7 * ureg.kHz / (ureg.V / ureg.cm),\n",
    "        \"ramp_up_time\": 3 * ureg.ms,  # ramp time from low to high.\n",
    "        \"high_wait_time\": 2 * ureg.ms,  # wait time in the high state before voltage is stabilized.\n",
    "        \"ramp_down_time\": 0 * ureg.ms,  # ramp time from high to low.\n",
    "        \"low_wait_time\": 2 * ureg.ms,  # wait time in the low state before voltage is stabilized.\n",
    "        \"use\": True,  # uses the field plate in the experiment.\n",
    "        \"during_detect\": True,  # if True, the field plate is on during chasm and detect. Otherwise, it is on during antihole.\n",
    "    },\n",
    "    \"chasm\": {\n",
    "        \"transitions\": \"ac\",  # only burns a chasm on a -> c'\n",
    "        \"detunings\": 0 * ureg.MHz,\n",
    "        \"scans\": 3 * ureg.MHz,  # scans +/-3 MHz in the optical frequency.\n",
    "        \"amplitudes\": 2000,\n",
    "        \"durations\": 1 * ureg.ms,\n",
    "        \"repeats\": 25,\n",
    "    },\n",
    "    \"lf\": {\n",
    "        \"channel_name\": \"rf_coil\",\n",
    "        \"rabi\": {\n",
    "            \"center_frequency\": 140 * ureg.kHz,\n",
    "            \"Sigma\": 0,  # 0, +1, -1.\n",
    "            \"Zeeman_shift_along_b\": 5 * ureg.kHz,\n",
    "            \"detuning\": 0 * ureg.kHz,\n",
    "            \"amplitude\": 1000,\n",
    "            \"duration\": 1 * ureg.ms,\n",
    "        },\n",
    "    },\n",
    "}\n",
    "\n",
    "detuning_scan = np.linspace(-10, 10, 21) * ureg.kHz\n",
    "\n",
    "additional_sequence_steps = {}\n",
    "for kk in range(len(detuning_scan)):\n",
    "    if kk > 0:\n",
    "        override_parameters = {\"lf\": {\"rabi\": {\"detuning\": detuning_scan[kk]}}}\n",
    "        additional_sequence_steps[f\"lf_rabi_{kk}\"] = override_parameters"
   ]
  },
  {
   "cell_type": "code",
   "execution_count": 40,
   "id": "24017122-c067-4560-ba3e-b0876eeea749",
   "metadata": {},
   "outputs": [
    {
     "data": {
      "text/plain": [
       "{'lf_rabi_1': {'lf': {'rabi': {'detuning': -9.0 <Unit('kilohertz')>}}},\n",
       " 'lf_rabi_2': {'lf': {'rabi': {'detuning': -8.0 <Unit('kilohertz')>}}},\n",
       " 'lf_rabi_3': {'lf': {'rabi': {'detuning': -7.0 <Unit('kilohertz')>}}},\n",
       " 'lf_rabi_4': {'lf': {'rabi': {'detuning': -6.0 <Unit('kilohertz')>}}},\n",
       " 'lf_rabi_5': {'lf': {'rabi': {'detuning': -5.0 <Unit('kilohertz')>}}},\n",
       " 'lf_rabi_6': {'lf': {'rabi': {'detuning': -4.0 <Unit('kilohertz')>}}},\n",
       " 'lf_rabi_7': {'lf': {'rabi': {'detuning': -3.0 <Unit('kilohertz')>}}},\n",
       " 'lf_rabi_8': {'lf': {'rabi': {'detuning': -2.0 <Unit('kilohertz')>}}},\n",
       " 'lf_rabi_9': {'lf': {'rabi': {'detuning': -1.0 <Unit('kilohertz')>}}},\n",
       " 'lf_rabi_10': {'lf': {'rabi': {'detuning': 0.0 <Unit('kilohertz')>}}},\n",
       " 'lf_rabi_11': {'lf': {'rabi': {'detuning': 1.0 <Unit('kilohertz')>}}},\n",
       " 'lf_rabi_12': {'lf': {'rabi': {'detuning': 2.0 <Unit('kilohertz')>}}},\n",
       " 'lf_rabi_13': {'lf': {'rabi': {'detuning': 3.0 <Unit('kilohertz')>}}},\n",
       " 'lf_rabi_14': {'lf': {'rabi': {'detuning': 4.0 <Unit('kilohertz')>}}},\n",
       " 'lf_rabi_15': {'lf': {'rabi': {'detuning': 5.0 <Unit('kilohertz')>}}},\n",
       " 'lf_rabi_16': {'lf': {'rabi': {'detuning': 6.0 <Unit('kilohertz')>}}},\n",
       " 'lf_rabi_17': {'lf': {'rabi': {'detuning': 7.0 <Unit('kilohertz')>}}},\n",
       " 'lf_rabi_18': {'lf': {'rabi': {'detuning': 8.0 <Unit('kilohertz')>}}},\n",
       " 'lf_rabi_19': {'lf': {'rabi': {'detuning': 9.0 <Unit('kilohertz')>}}},\n",
       " 'lf_rabi_20': {'lf': {'rabi': {'detuning': 10.0 <Unit('kilohertz')>}}}}"
      ]
     },
     "execution_count": 40,
     "metadata": {},
     "output_type": "execute_result"
    }
   ],
   "source": [
    "additional_sequence_steps"
   ]
  },
  {
   "cell_type": "code",
   "execution_count": 38,
   "id": "f52b69fe-a890-4b01-90a8-5d385824b2ee",
   "metadata": {},
   "outputs": [],
   "source": [
    "# The ExpSequence object should be built by the ExpExecutor object automatically when a new experiment definition file is found.\n",
    "# Here we manually build the ExpSequence objects for the example.\n",
    "exp_seqs = []\n",
    "for kk in range(len(detuning_scan)):\n",
    "    parameters[\"lf\"][\"rabi\"][\"detuning\"] = detuning_scan[kk]  # this step does not change the sequence being run. It ensures that the correct parameters after overriden is saved.\n",
    "    if kk == 0:\n",
    "        exp_seq = ExpSequence(\n",
    "            exp_sequence = [\"chasm\", f\"lf_rabi_{kk}\"],\n",
    "            parameters = parameters,\n",
    "            additional_sequence_steps = additional_sequence_steps,\n",
    "        )\n",
    "        # the segments should be programmed on the AWG\n",
    "        exp_seqs.append(exp_seq)\n",
    "    else:\n",
    "        exp_seq = ExpSequence(\n",
    "            exp_sequence = [\"chasm\", f\"lf_rabi_{kk}\"],\n",
    "            parameters = parameters,\n",
    "        )\n",
    "        # the segments should NOT be programmed on the AWG, since it can reuse the programmed segments from the first run.\n",
    "        exp_seqs.append(exp_seq)"
   ]
  },
  {
   "cell_type": "code",
   "execution_count": 39,
   "id": "2678dc23-4327-4c1f-ab65-5931faeb9c21",
   "metadata": {},
   "outputs": [
    {
     "name": "stdout",
     "output_type": "stream",
     "text": [
      "0 130.0 kilohertz\n",
      "1 131.0 kilohertz\n",
      "2 132.0 kilohertz\n",
      "3 133.0 kilohertz\n",
      "4 134.0 kilohertz\n",
      "5 135.0 kilohertz\n",
      "6 136.0 kilohertz\n",
      "7 137.0 kilohertz\n",
      "8 138.0 kilohertz\n",
      "9 139.0 kilohertz\n",
      "10 140.0 kilohertz\n",
      "11 141.0 kilohertz\n",
      "12 142.0 kilohertz\n",
      "13 143.0 kilohertz\n",
      "14 144.0 kilohertz\n",
      "15 145.0 kilohertz\n",
      "16 146.0 kilohertz\n",
      "17 147.0 kilohertz\n",
      "18 148.0 kilohertz\n",
      "19 149.0 kilohertz\n",
      "20 150.0 kilohertz\n"
     ]
    }
   ],
   "source": [
    "# confirming that the frequencies are correct\n",
    "\n",
    "for kk in range(len(detuning_scan)):\n",
    "    for s in exp_seqs[0].segments:\n",
    "        if s.name == f\"lf_rabi_{kk}\":\n",
    "            print(kk, s._awg_pulses[6]._frequency)\n",
    "            break"
   ]
  },
  {
   "cell_type": "code",
   "execution_count": null,
   "id": "6b1d8c84-dc91-4a91-98eb-21892f635305",
   "metadata": {},
   "outputs": [],
   "source": []
  }
 ],
 "metadata": {
  "kernelspec": {
   "display_name": "Python 3 (ipykernel)",
   "language": "python",
   "name": "python3"
  },
  "language_info": {
   "codemirror_mode": {
    "name": "ipython",
    "version": 3
   },
   "file_extension": ".py",
   "mimetype": "text/x-python",
   "name": "python",
   "nbconvert_exporter": "python",
   "pygments_lexer": "ipython3",
   "version": "3.12.1"
  }
 },
 "nbformat": 4,
 "nbformat_minor": 5
}
